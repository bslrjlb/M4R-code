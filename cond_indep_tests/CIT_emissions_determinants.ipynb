{
 "cells": [
  {
   "cell_type": "code",
   "execution_count": 2,
   "metadata": {},
   "outputs": [],
   "source": [
    "import numpy as np\n",
    "import pandas as pd\n",
    "import rpy2   # Allows Python code to call R functions\n",
    "import rpy2.robjects   # Provides a high-level interface to access R objects and functions from Python\n",
    "rpy2.robjects.r['options'](warn=-1)  # Set R global options to suppress warning messages during execution\n",
    "from rpy2.robjects.packages import importr   # importr: Import R packages into the Python environment\n",
    "import rpy2.robjects.numpy2ri\n",
    "rpy2.robjects.numpy2ri.activate()  # Activate automatic conversion between numpy and R arrays\n",
    "importr('RCIT')   # RCIT is an R package for performing conditional and unconditional independence tests\n",
    "import statsmodels.api as sm\n",
    "from scipy.stats import pearsonr\n",
    "from scipy.stats.mstats import winsorize\n",
    "import matplotlib.pyplot as plt\n",
    "from scipy.stats import chisquare\n",
    "from contextlib import contextmanager\n",
    "import statsmodels.api as sm"
   ]
  },
  {
   "cell_type": "code",
   "execution_count": 3,
   "metadata": {},
   "outputs": [
    {
     "data": {
      "text/html": [
       "<div>\n",
       "<style scoped>\n",
       "    .dataframe tbody tr th:only-of-type {\n",
       "        vertical-align: middle;\n",
       "    }\n",
       "\n",
       "    .dataframe tbody tr th {\n",
       "        vertical-align: top;\n",
       "    }\n",
       "\n",
       "    .dataframe thead th {\n",
       "        text-align: right;\n",
       "    }\n",
       "</style>\n",
       "<table border=\"1\" class=\"dataframe\">\n",
       "  <thead>\n",
       "    <tr style=\"text-align: right;\">\n",
       "      <th></th>\n",
       "      <th>gvkey</th>\n",
       "      <th>fyear</th>\n",
       "      <th>month</th>\n",
       "      <th>RET</th>\n",
       "      <th>MOM</th>\n",
       "      <th>BETA</th>\n",
       "      <th>VOLAT</th>\n",
       "      <th>total_emission_scope1</th>\n",
       "      <th>total_emission_scope2</th>\n",
       "      <th>emission_growth_scope1</th>\n",
       "      <th>...</th>\n",
       "      <th>carbon_intensity_scope2</th>\n",
       "      <th>LOGSIZE</th>\n",
       "      <th>B/M</th>\n",
       "      <th>LEVERAGE</th>\n",
       "      <th>INVEST/A</th>\n",
       "      <th>ROE</th>\n",
       "      <th>LOGPPE</th>\n",
       "      <th>SALESGR</th>\n",
       "      <th>EPSGR</th>\n",
       "      <th>RET1</th>\n",
       "    </tr>\n",
       "  </thead>\n",
       "  <tbody>\n",
       "    <tr>\n",
       "      <th>count</th>\n",
       "      <td>81605.000000</td>\n",
       "      <td>81605.000000</td>\n",
       "      <td>81605.000000</td>\n",
       "      <td>81605.000000</td>\n",
       "      <td>81605.000000</td>\n",
       "      <td>81605.000000</td>\n",
       "      <td>81605.000000</td>\n",
       "      <td>81605.000000</td>\n",
       "      <td>81605.000000</td>\n",
       "      <td>81605.000000</td>\n",
       "      <td>...</td>\n",
       "      <td>81605.000000</td>\n",
       "      <td>81605.000000</td>\n",
       "      <td>81605.000000</td>\n",
       "      <td>81605.000000</td>\n",
       "      <td>81605.000000</td>\n",
       "      <td>81605.000000</td>\n",
       "      <td>81605.000000</td>\n",
       "      <td>81605.000000</td>\n",
       "      <td>81605.000000</td>\n",
       "      <td>81605.000000</td>\n",
       "    </tr>\n",
       "    <tr>\n",
       "      <th>mean</th>\n",
       "      <td>61120.654923</td>\n",
       "      <td>2017.409767</td>\n",
       "      <td>6.522738</td>\n",
       "      <td>1.285111</td>\n",
       "      <td>0.120438</td>\n",
       "      <td>1.195033</td>\n",
       "      <td>0.103849</td>\n",
       "      <td>10.411239</td>\n",
       "      <td>10.627489</td>\n",
       "      <td>0.053134</td>\n",
       "      <td>...</td>\n",
       "      <td>0.314301</td>\n",
       "      <td>8.235747</td>\n",
       "      <td>0.577298</td>\n",
       "      <td>0.275880</td>\n",
       "      <td>0.035363</td>\n",
       "      <td>7.217507</td>\n",
       "      <td>6.841127</td>\n",
       "      <td>0.011243</td>\n",
       "      <td>0.004939</td>\n",
       "      <td>17.425595</td>\n",
       "    </tr>\n",
       "    <tr>\n",
       "      <th>std</th>\n",
       "      <td>69006.711553</td>\n",
       "      <td>2.158369</td>\n",
       "      <td>3.451686</td>\n",
       "      <td>12.473213</td>\n",
       "      <td>0.432692</td>\n",
       "      <td>0.727854</td>\n",
       "      <td>0.057046</td>\n",
       "      <td>2.689473</td>\n",
       "      <td>2.067171</td>\n",
       "      <td>0.296586</td>\n",
       "      <td>...</td>\n",
       "      <td>0.381090</td>\n",
       "      <td>1.762027</td>\n",
       "      <td>0.530395</td>\n",
       "      <td>0.215301</td>\n",
       "      <td>0.033117</td>\n",
       "      <td>33.035337</td>\n",
       "      <td>2.093872</td>\n",
       "      <td>0.328364</td>\n",
       "      <td>0.227102</td>\n",
       "      <td>53.736741</td>\n",
       "    </tr>\n",
       "    <tr>\n",
       "      <th>min</th>\n",
       "      <td>1004.000000</td>\n",
       "      <td>2011.000000</td>\n",
       "      <td>1.000000</td>\n",
       "      <td>-87.697842</td>\n",
       "      <td>-0.832704</td>\n",
       "      <td>-1.044560</td>\n",
       "      <td>0.025872</td>\n",
       "      <td>0.693147</td>\n",
       "      <td>2.544276</td>\n",
       "      <td>-0.587399</td>\n",
       "      <td>...</td>\n",
       "      <td>0.008185</td>\n",
       "      <td>-4.612195</td>\n",
       "      <td>-0.040954</td>\n",
       "      <td>0.000000</td>\n",
       "      <td>0.000000</td>\n",
       "      <td>-109.224422</td>\n",
       "      <td>-2.465104</td>\n",
       "      <td>-2.260408</td>\n",
       "      <td>-1.598919</td>\n",
       "      <td>-95.067633</td>\n",
       "    </tr>\n",
       "    <tr>\n",
       "      <th>25%</th>\n",
       "      <td>10860.000000</td>\n",
       "      <td>2016.000000</td>\n",
       "      <td>4.000000</td>\n",
       "      <td>-4.819277</td>\n",
       "      <td>-0.124580</td>\n",
       "      <td>0.757661</td>\n",
       "      <td>0.063082</td>\n",
       "      <td>8.641213</td>\n",
       "      <td>9.258057</td>\n",
       "      <td>-0.074867</td>\n",
       "      <td>...</td>\n",
       "      <td>0.085381</td>\n",
       "      <td>7.070696</td>\n",
       "      <td>0.230611</td>\n",
       "      <td>0.088988</td>\n",
       "      <td>0.012404</td>\n",
       "      <td>0.751054</td>\n",
       "      <td>5.498769</td>\n",
       "      <td>-0.015899</td>\n",
       "      <td>-0.022173</td>\n",
       "      <td>-9.791332</td>\n",
       "    </tr>\n",
       "    <tr>\n",
       "      <th>50%</th>\n",
       "      <td>24783.000000</td>\n",
       "      <td>2018.000000</td>\n",
       "      <td>7.000000</td>\n",
       "      <td>1.053142</td>\n",
       "      <td>0.082349</td>\n",
       "      <td>1.119520</td>\n",
       "      <td>0.090176</td>\n",
       "      <td>10.219274</td>\n",
       "      <td>10.620766</td>\n",
       "      <td>0.025733</td>\n",
       "      <td>...</td>\n",
       "      <td>0.176111</td>\n",
       "      <td>8.231717</td>\n",
       "      <td>0.444195</td>\n",
       "      <td>0.251456</td>\n",
       "      <td>0.025776</td>\n",
       "      <td>10.303030</td>\n",
       "      <td>6.880971</td>\n",
       "      <td>0.021430</td>\n",
       "      <td>0.003362</td>\n",
       "      <td>11.590107</td>\n",
       "    </tr>\n",
       "    <tr>\n",
       "      <th>75%</th>\n",
       "      <td>133869.000000</td>\n",
       "      <td>2019.000000</td>\n",
       "      <td>10.000000</td>\n",
       "      <td>6.870229</td>\n",
       "      <td>0.297905</td>\n",
       "      <td>1.546813</td>\n",
       "      <td>0.129241</td>\n",
       "      <td>11.925332</td>\n",
       "      <td>12.018952</td>\n",
       "      <td>0.137206</td>\n",
       "      <td>...</td>\n",
       "      <td>0.377914</td>\n",
       "      <td>9.407562</td>\n",
       "      <td>0.758144</td>\n",
       "      <td>0.412147</td>\n",
       "      <td>0.047656</td>\n",
       "      <td>19.134897</td>\n",
       "      <td>8.165563</td>\n",
       "      <td>0.073998</td>\n",
       "      <td>0.027182</td>\n",
       "      <td>34.970843</td>\n",
       "    </tr>\n",
       "    <tr>\n",
       "      <th>max</th>\n",
       "      <td>328795.000000</td>\n",
       "      <td>2020.000000</td>\n",
       "      <td>12.000000</td>\n",
       "      <td>99.191686</td>\n",
       "      <td>3.250000</td>\n",
       "      <td>4.147888</td>\n",
       "      <td>0.356740</td>\n",
       "      <td>18.713283</td>\n",
       "      <td>16.571679</td>\n",
       "      <td>1.124937</td>\n",
       "      <td>...</td>\n",
       "      <td>1.780249</td>\n",
       "      <td>14.627616</td>\n",
       "      <td>2.663034</td>\n",
       "      <td>0.814584</td>\n",
       "      <td>0.163615</td>\n",
       "      <td>91.432361</td>\n",
       "      <td>13.144907</td>\n",
       "      <td>1.647431</td>\n",
       "      <td>1.808117</td>\n",
       "      <td>1042.570281</td>\n",
       "    </tr>\n",
       "  </tbody>\n",
       "</table>\n",
       "<p>8 rows × 22 columns</p>\n",
       "</div>"
      ],
      "text/plain": [
       "               gvkey         fyear         month           RET           MOM  \\\n",
       "count   81605.000000  81605.000000  81605.000000  81605.000000  81605.000000   \n",
       "mean    61120.654923   2017.409767      6.522738      1.285111      0.120438   \n",
       "std     69006.711553      2.158369      3.451686     12.473213      0.432692   \n",
       "min      1004.000000   2011.000000      1.000000    -87.697842     -0.832704   \n",
       "25%     10860.000000   2016.000000      4.000000     -4.819277     -0.124580   \n",
       "50%     24783.000000   2018.000000      7.000000      1.053142      0.082349   \n",
       "75%    133869.000000   2019.000000     10.000000      6.870229      0.297905   \n",
       "max    328795.000000   2020.000000     12.000000     99.191686      3.250000   \n",
       "\n",
       "               BETA         VOLAT  total_emission_scope1  \\\n",
       "count  81605.000000  81605.000000           81605.000000   \n",
       "mean       1.195033      0.103849              10.411239   \n",
       "std        0.727854      0.057046               2.689473   \n",
       "min       -1.044560      0.025872               0.693147   \n",
       "25%        0.757661      0.063082               8.641213   \n",
       "50%        1.119520      0.090176              10.219274   \n",
       "75%        1.546813      0.129241              11.925332   \n",
       "max        4.147888      0.356740              18.713283   \n",
       "\n",
       "       total_emission_scope2  emission_growth_scope1  ...  \\\n",
       "count           81605.000000            81605.000000  ...   \n",
       "mean               10.627489                0.053134  ...   \n",
       "std                 2.067171                0.296586  ...   \n",
       "min                 2.544276               -0.587399  ...   \n",
       "25%                 9.258057               -0.074867  ...   \n",
       "50%                10.620766                0.025733  ...   \n",
       "75%                12.018952                0.137206  ...   \n",
       "max                16.571679                1.124937  ...   \n",
       "\n",
       "       carbon_intensity_scope2       LOGSIZE           B/M      LEVERAGE  \\\n",
       "count             81605.000000  81605.000000  81605.000000  81605.000000   \n",
       "mean                  0.314301      8.235747      0.577298      0.275880   \n",
       "std                   0.381090      1.762027      0.530395      0.215301   \n",
       "min                   0.008185     -4.612195     -0.040954      0.000000   \n",
       "25%                   0.085381      7.070696      0.230611      0.088988   \n",
       "50%                   0.176111      8.231717      0.444195      0.251456   \n",
       "75%                   0.377914      9.407562      0.758144      0.412147   \n",
       "max                   1.780249     14.627616      2.663034      0.814584   \n",
       "\n",
       "           INVEST/A           ROE        LOGPPE       SALESGR         EPSGR  \\\n",
       "count  81605.000000  81605.000000  81605.000000  81605.000000  81605.000000   \n",
       "mean       0.035363      7.217507      6.841127      0.011243      0.004939   \n",
       "std        0.033117     33.035337      2.093872      0.328364      0.227102   \n",
       "min        0.000000   -109.224422     -2.465104     -2.260408     -1.598919   \n",
       "25%        0.012404      0.751054      5.498769     -0.015899     -0.022173   \n",
       "50%        0.025776     10.303030      6.880971      0.021430      0.003362   \n",
       "75%        0.047656     19.134897      8.165563      0.073998      0.027182   \n",
       "max        0.163615     91.432361     13.144907      1.647431      1.808117   \n",
       "\n",
       "               RET1  \n",
       "count  81605.000000  \n",
       "mean      17.425595  \n",
       "std       53.736741  \n",
       "min      -95.067633  \n",
       "25%       -9.791332  \n",
       "50%       11.590107  \n",
       "75%       34.970843  \n",
       "max     1042.570281  \n",
       "\n",
       "[8 rows x 22 columns]"
      ]
     },
     "execution_count": 3,
     "metadata": {},
     "output_type": "execute_result"
    }
   ],
   "source": [
    "regression_data = pd.read_csv('../merged_data_sss.csv')\n",
    "dataset_raw = pd.read_csv('../dataset_raw.csv')\n",
    "regression_data = regression_data.drop('Unnamed: 0', axis=1)\n",
    "regression_data.describe()"
   ]
  },
  {
   "cell_type": "code",
   "execution_count": 4,
   "metadata": {},
   "outputs": [],
   "source": [
    "dataset_raw['SALES'] = dataset_raw.groupby(['gvkey', 'fyear'])['sale'].transform(lambda x: np.log(x))\n",
    "regression_data = regression_data.merge(dataset_raw[['gvkey', 'fyear', 'SALES']], on=['gvkey', 'fyear'], how='left')"
   ]
  },
  {
   "cell_type": "code",
   "execution_count": 5,
   "metadata": {},
   "outputs": [
    {
     "name": "stdout",
     "output_type": "stream",
     "text": [
      "         gvkey  fyear  month       RET       MOM      BETA     VOLAT  \\\n",
      "gvkey                                                                  \n",
      "1004  0   1004   2017      1 -1.815431  0.433590  1.728236  0.106410   \n",
      "      1   1004   2017      2  3.790447  0.695722  1.697156  0.106333   \n",
      "      2   1004   2017      3 -0.148456  0.499601  1.585366  0.106969   \n",
      "      3   1004   2017      4  7.017544  0.432948  1.536825  0.107289   \n",
      "      4   1004   2017      5 -3.834398  0.448269  1.553771  0.109533   \n",
      "\n",
      "         total_emission_scope1  total_emission_scope2  emission_growth_scope1  \\\n",
      "gvkey                                                                           \n",
      "1004  0              10.991192              10.418976               -0.004909   \n",
      "      1              10.991192              10.418976               -0.004909   \n",
      "      2              10.991192              10.418976               -0.004909   \n",
      "      3              10.991192              10.418976               -0.004909   \n",
      "      4              10.991192              10.418976               -0.004909   \n",
      "\n",
      "         ...  LOGPPE_t-1  LOGPPE_t+1  SALESGR_t-1  SALESGR_t+1  EPSGR_t-1  \\\n",
      "gvkey    ...                                                                \n",
      "1004  0  ...    6.274762    6.274762    -0.016998    -0.016998   0.016008   \n",
      "      1  ...    6.274762    6.274762    -0.016998    -0.016998   0.016008   \n",
      "      2  ...    6.274762    6.274762    -0.016998    -0.016998   0.016008   \n",
      "      3  ...    6.274762    6.274762    -0.016998    -0.016998   0.016008   \n",
      "      4  ...    6.274762    6.274762    -0.016998    -0.016998   0.016008   \n",
      "\n",
      "         EPSGR_t+1   RET1_t-1   RET1_t+1  SALES_t-1  SALES_t+1  \n",
      "gvkey                                                           \n",
      "1004  0   0.016008  19.881626  19.881626   7.466399   7.466399  \n",
      "      1   0.016008  19.881626  19.881626   7.466399   7.466399  \n",
      "      2   0.016008  19.881626  19.881626   7.466399   7.466399  \n",
      "      3   0.016008  19.881626  19.881626   7.466399   7.466399  \n",
      "      4   0.016008  19.881626  19.881626   7.466399   7.466399  \n",
      "\n",
      "[5 rows x 64 columns]\n"
     ]
    },
    {
     "name": "stderr",
     "output_type": "stream",
     "text": [
      "C:\\Users\\18906\\AppData\\Local\\Temp\\ipykernel_30856\\3985392856.py:26: DeprecationWarning: DataFrameGroupBy.apply operated on the grouping columns. This behavior is deprecated, and in a future version of pandas the grouping columns will be excluded from the operation. Either pass `include_groups=False` to exclude the groupings or explicitly select the grouping columns after groupby to silence this warning.\n",
      "  regression_data_shifted = regression_data.groupby('gvkey').apply(shift_if_consecutive)\n"
     ]
    }
   ],
   "source": [
    "regression_data = regression_data.sort_values(by=['gvkey', 'fyear', 'month'])\n",
    "\n",
    "columns_to_shift = ['RET', 'MOM', 'BETA', 'VOLAT',\n",
    "       'total_emission_scope1', 'total_emission_scope2',\n",
    "       'emission_growth_scope1', 'emission_growth_scope2',\n",
    "       'carbon_intensity_scope1', 'carbon_intensity_scope2', 'LOGSIZE', 'B/M',\n",
    "       'LEVERAGE', 'INVEST/A', 'ROE', 'LOGPPE', 'SALESGR', 'EPSGR', 'RET1', 'SALES']\n",
    "\n",
    "def shift_if_consecutive(group):\n",
    "    group = group.sort_values(by='datatime')\n",
    "    \n",
    "    group['datatime'] = pd.to_datetime(group['datatime'])\n",
    "    \n",
    "    # check if data is consecutive on year-month\n",
    "    group['consecutive'] = group['datatime'].diff().dt.days <= 31\n",
    "    \n",
    "    for col in columns_to_shift:\n",
    "        group[f'{col}_t-1'] = group[col].shift(-1)\n",
    "        group[f'{col}_t-1'] = group.apply(lambda row: row[col] if not row['consecutive'] else row[f'{col}_t-1'], axis=1)\n",
    "        group[f'{col}_t+1'] = group[col].shift(+1)\n",
    "        group[f'{col}_t+1'] = group.apply(lambda row: row[col] if not row['consecutive'] else row[f'{col}_t+1'], axis=1)\n",
    "    \n",
    "    return group.drop(columns=['consecutive', 'datatime'])\n",
    "\n",
    "# apply to each gvkey group\n",
    "regression_data_shifted = regression_data.groupby('gvkey').apply(shift_if_consecutive)\n",
    "regression_data_shifted.columns = [col.replace('/', '_') for col in regression_data_shifted.columns]\n",
    "\n",
    "print(regression_data_shifted.head())"
   ]
  },
  {
   "cell_type": "code",
   "execution_count": 6,
   "metadata": {},
   "outputs": [
    {
     "data": {
      "text/html": [
       "<div>\n",
       "<style scoped>\n",
       "    .dataframe tbody tr th:only-of-type {\n",
       "        vertical-align: middle;\n",
       "    }\n",
       "\n",
       "    .dataframe tbody tr th {\n",
       "        vertical-align: top;\n",
       "    }\n",
       "\n",
       "    .dataframe thead th {\n",
       "        text-align: right;\n",
       "    }\n",
       "</style>\n",
       "<table border=\"1\" class=\"dataframe\">\n",
       "  <thead>\n",
       "    <tr style=\"text-align: right;\">\n",
       "      <th></th>\n",
       "      <th>gvkey</th>\n",
       "      <th>fyear</th>\n",
       "      <th>month</th>\n",
       "      <th>RET</th>\n",
       "      <th>MOM</th>\n",
       "      <th>BETA</th>\n",
       "      <th>VOLAT</th>\n",
       "      <th>total_emission_scope1</th>\n",
       "      <th>total_emission_scope2</th>\n",
       "      <th>emission_growth_scope1</th>\n",
       "      <th>...</th>\n",
       "      <th>LOGPPE_t-1</th>\n",
       "      <th>LOGPPE_t+1</th>\n",
       "      <th>SALESGR_t-1</th>\n",
       "      <th>SALESGR_t+1</th>\n",
       "      <th>EPSGR_t-1</th>\n",
       "      <th>EPSGR_t+1</th>\n",
       "      <th>RET1_t-1</th>\n",
       "      <th>RET1_t+1</th>\n",
       "      <th>SALES_t-1</th>\n",
       "      <th>SALES_t+1</th>\n",
       "    </tr>\n",
       "  </thead>\n",
       "  <tbody>\n",
       "    <tr>\n",
       "      <th>count</th>\n",
       "      <td>80417.000000</td>\n",
       "      <td>80417.000000</td>\n",
       "      <td>80417.000000</td>\n",
       "      <td>80417.000000</td>\n",
       "      <td>80417.000000</td>\n",
       "      <td>80417.000000</td>\n",
       "      <td>80417.000000</td>\n",
       "      <td>80417.000000</td>\n",
       "      <td>80417.000000</td>\n",
       "      <td>80417.000000</td>\n",
       "      <td>...</td>\n",
       "      <td>80417.000000</td>\n",
       "      <td>80417.000000</td>\n",
       "      <td>80417.000000</td>\n",
       "      <td>80417.000000</td>\n",
       "      <td>80417.000000</td>\n",
       "      <td>80417.000000</td>\n",
       "      <td>80417.000000</td>\n",
       "      <td>80417.000000</td>\n",
       "      <td>80417.000000</td>\n",
       "      <td>80417.000000</td>\n",
       "    </tr>\n",
       "    <tr>\n",
       "      <th>mean</th>\n",
       "      <td>60934.709129</td>\n",
       "      <td>2017.365768</td>\n",
       "      <td>6.427124</td>\n",
       "      <td>1.207831</td>\n",
       "      <td>0.118837</td>\n",
       "      <td>1.195408</td>\n",
       "      <td>0.102690</td>\n",
       "      <td>10.427427</td>\n",
       "      <td>10.644521</td>\n",
       "      <td>0.053041</td>\n",
       "      <td>...</td>\n",
       "      <td>6.860603</td>\n",
       "      <td>6.846327</td>\n",
       "      <td>0.009644</td>\n",
       "      <td>0.015504</td>\n",
       "      <td>0.004895</td>\n",
       "      <td>0.006359</td>\n",
       "      <td>17.351878</td>\n",
       "      <td>17.265085</td>\n",
       "      <td>7.757181</td>\n",
       "      <td>7.753443</td>\n",
       "    </tr>\n",
       "    <tr>\n",
       "      <th>std</th>\n",
       "      <td>68966.413175</td>\n",
       "      <td>2.153128</td>\n",
       "      <td>3.404401</td>\n",
       "      <td>12.443089</td>\n",
       "      <td>0.428752</td>\n",
       "      <td>0.728405</td>\n",
       "      <td>0.056120</td>\n",
       "      <td>2.688870</td>\n",
       "      <td>2.068068</td>\n",
       "      <td>0.296440</td>\n",
       "      <td>...</td>\n",
       "      <td>2.091782</td>\n",
       "      <td>2.096405</td>\n",
       "      <td>0.329561</td>\n",
       "      <td>0.323293</td>\n",
       "      <td>0.229140</td>\n",
       "      <td>0.227358</td>\n",
       "      <td>53.721223</td>\n",
       "      <td>52.755607</td>\n",
       "      <td>1.761583</td>\n",
       "      <td>1.762147</td>\n",
       "    </tr>\n",
       "    <tr>\n",
       "      <th>min</th>\n",
       "      <td>1004.000000</td>\n",
       "      <td>2011.000000</td>\n",
       "      <td>1.000000</td>\n",
       "      <td>-87.697842</td>\n",
       "      <td>-0.832704</td>\n",
       "      <td>-1.044560</td>\n",
       "      <td>0.025872</td>\n",
       "      <td>0.693147</td>\n",
       "      <td>2.544276</td>\n",
       "      <td>-0.587399</td>\n",
       "      <td>...</td>\n",
       "      <td>-2.465104</td>\n",
       "      <td>-2.465104</td>\n",
       "      <td>-2.260408</td>\n",
       "      <td>-2.260408</td>\n",
       "      <td>-1.598919</td>\n",
       "      <td>-1.598919</td>\n",
       "      <td>-95.067633</td>\n",
       "      <td>-95.067633</td>\n",
       "      <td>0.364643</td>\n",
       "      <td>0.364643</td>\n",
       "    </tr>\n",
       "    <tr>\n",
       "      <th>25%</th>\n",
       "      <td>10839.000000</td>\n",
       "      <td>2016.000000</td>\n",
       "      <td>3.000000</td>\n",
       "      <td>-4.869890</td>\n",
       "      <td>-0.124349</td>\n",
       "      <td>0.757927</td>\n",
       "      <td>0.062603</td>\n",
       "      <td>8.652251</td>\n",
       "      <td>9.275884</td>\n",
       "      <td>-0.075011</td>\n",
       "      <td>...</td>\n",
       "      <td>5.519551</td>\n",
       "      <td>5.500691</td>\n",
       "      <td>-0.016557</td>\n",
       "      <td>-0.013876</td>\n",
       "      <td>-0.022434</td>\n",
       "      <td>-0.021749</td>\n",
       "      <td>-9.863576</td>\n",
       "      <td>-9.723871</td>\n",
       "      <td>6.688498</td>\n",
       "      <td>6.682860</td>\n",
       "    </tr>\n",
       "    <tr>\n",
       "      <th>50%</th>\n",
       "      <td>24678.000000</td>\n",
       "      <td>2018.000000</td>\n",
       "      <td>6.000000</td>\n",
       "      <td>1.002616</td>\n",
       "      <td>0.082460</td>\n",
       "      <td>1.119641</td>\n",
       "      <td>0.089248</td>\n",
       "      <td>10.238035</td>\n",
       "      <td>10.633140</td>\n",
       "      <td>0.025733</td>\n",
       "      <td>...</td>\n",
       "      <td>6.898329</td>\n",
       "      <td>6.887144</td>\n",
       "      <td>0.021215</td>\n",
       "      <td>0.022174</td>\n",
       "      <td>0.003280</td>\n",
       "      <td>0.003659</td>\n",
       "      <td>11.574776</td>\n",
       "      <td>11.786095</td>\n",
       "      <td>7.787797</td>\n",
       "      <td>7.786098</td>\n",
       "    </tr>\n",
       "    <tr>\n",
       "      <th>75%</th>\n",
       "      <td>133868.000000</td>\n",
       "      <td>2019.000000</td>\n",
       "      <td>9.000000</td>\n",
       "      <td>6.798757</td>\n",
       "      <td>0.296582</td>\n",
       "      <td>1.547152</td>\n",
       "      <td>0.127794</td>\n",
       "      <td>11.960108</td>\n",
       "      <td>12.041587</td>\n",
       "      <td>0.137181</td>\n",
       "      <td>...</td>\n",
       "      <td>8.197257</td>\n",
       "      <td>8.177516</td>\n",
       "      <td>0.073486</td>\n",
       "      <td>0.075707</td>\n",
       "      <td>0.027177</td>\n",
       "      <td>0.027513</td>\n",
       "      <td>34.918820</td>\n",
       "      <td>34.946365</td>\n",
       "      <td>8.910653</td>\n",
       "      <td>8.906529</td>\n",
       "    </tr>\n",
       "    <tr>\n",
       "      <th>max</th>\n",
       "      <td>328795.000000</td>\n",
       "      <td>2020.000000</td>\n",
       "      <td>12.000000</td>\n",
       "      <td>99.191686</td>\n",
       "      <td>3.250000</td>\n",
       "      <td>4.147888</td>\n",
       "      <td>0.356740</td>\n",
       "      <td>18.713283</td>\n",
       "      <td>16.571679</td>\n",
       "      <td>1.124937</td>\n",
       "      <td>...</td>\n",
       "      <td>13.144907</td>\n",
       "      <td>13.144907</td>\n",
       "      <td>1.647431</td>\n",
       "      <td>1.647431</td>\n",
       "      <td>1.808117</td>\n",
       "      <td>1.808117</td>\n",
       "      <td>1042.570281</td>\n",
       "      <td>1042.570281</td>\n",
       "      <td>13.230200</td>\n",
       "      <td>13.230200</td>\n",
       "    </tr>\n",
       "  </tbody>\n",
       "</table>\n",
       "<p>8 rows × 63 columns</p>\n",
       "</div>"
      ],
      "text/plain": [
       "               gvkey         fyear         month           RET           MOM  \\\n",
       "count   80417.000000  80417.000000  80417.000000  80417.000000  80417.000000   \n",
       "mean    60934.709129   2017.365768      6.427124      1.207831      0.118837   \n",
       "std     68966.413175      2.153128      3.404401     12.443089      0.428752   \n",
       "min      1004.000000   2011.000000      1.000000    -87.697842     -0.832704   \n",
       "25%     10839.000000   2016.000000      3.000000     -4.869890     -0.124349   \n",
       "50%     24678.000000   2018.000000      6.000000      1.002616      0.082460   \n",
       "75%    133868.000000   2019.000000      9.000000      6.798757      0.296582   \n",
       "max    328795.000000   2020.000000     12.000000     99.191686      3.250000   \n",
       "\n",
       "               BETA         VOLAT  total_emission_scope1  \\\n",
       "count  80417.000000  80417.000000           80417.000000   \n",
       "mean       1.195408      0.102690              10.427427   \n",
       "std        0.728405      0.056120               2.688870   \n",
       "min       -1.044560      0.025872               0.693147   \n",
       "25%        0.757927      0.062603               8.652251   \n",
       "50%        1.119641      0.089248              10.238035   \n",
       "75%        1.547152      0.127794              11.960108   \n",
       "max        4.147888      0.356740              18.713283   \n",
       "\n",
       "       total_emission_scope2  emission_growth_scope1  ...    LOGPPE_t-1  \\\n",
       "count           80417.000000            80417.000000  ...  80417.000000   \n",
       "mean               10.644521                0.053041  ...      6.860603   \n",
       "std                 2.068068                0.296440  ...      2.091782   \n",
       "min                 2.544276               -0.587399  ...     -2.465104   \n",
       "25%                 9.275884               -0.075011  ...      5.519551   \n",
       "50%                10.633140                0.025733  ...      6.898329   \n",
       "75%                12.041587                0.137181  ...      8.197257   \n",
       "max                16.571679                1.124937  ...     13.144907   \n",
       "\n",
       "         LOGPPE_t+1   SALESGR_t-1   SALESGR_t+1     EPSGR_t-1     EPSGR_t+1  \\\n",
       "count  80417.000000  80417.000000  80417.000000  80417.000000  80417.000000   \n",
       "mean       6.846327      0.009644      0.015504      0.004895      0.006359   \n",
       "std        2.096405      0.329561      0.323293      0.229140      0.227358   \n",
       "min       -2.465104     -2.260408     -2.260408     -1.598919     -1.598919   \n",
       "25%        5.500691     -0.016557     -0.013876     -0.022434     -0.021749   \n",
       "50%        6.887144      0.021215      0.022174      0.003280      0.003659   \n",
       "75%        8.177516      0.073486      0.075707      0.027177      0.027513   \n",
       "max       13.144907      1.647431      1.647431      1.808117      1.808117   \n",
       "\n",
       "           RET1_t-1      RET1_t+1     SALES_t-1     SALES_t+1  \n",
       "count  80417.000000  80417.000000  80417.000000  80417.000000  \n",
       "mean      17.351878     17.265085      7.757181      7.753443  \n",
       "std       53.721223     52.755607      1.761583      1.762147  \n",
       "min      -95.067633    -95.067633      0.364643      0.364643  \n",
       "25%       -9.863576     -9.723871      6.688498      6.682860  \n",
       "50%       11.574776     11.786095      7.787797      7.786098  \n",
       "75%       34.918820     34.946365      8.910653      8.906529  \n",
       "max     1042.570281   1042.570281     13.230200     13.230200  \n",
       "\n",
       "[8 rows x 63 columns]"
      ]
     },
     "execution_count": 6,
     "metadata": {},
     "output_type": "execute_result"
    }
   ],
   "source": [
    "regression_data_shifted = regression_data_shifted.replace([np.inf, -np.inf], np.nan)\n",
    "regression_data_shifted = regression_data_shifted.dropna()\n",
    "regression_data_shifted.describe()"
   ]
  },
  {
   "cell_type": "code",
   "execution_count": 10,
   "metadata": {},
   "outputs": [],
   "source": [
    "regression_data_shifted.drop(columns=['GICS Sector Name'], inplace=True)"
   ]
  },
  {
   "cell_type": "markdown",
   "metadata": {},
   "source": [
    "### RCIT functions"
   ]
  },
  {
   "cell_type": "code",
   "execution_count": 11,
   "metadata": {},
   "outputs": [],
   "source": [
    "def RCIT(X, x_, y_, z_=None, random_seed=False):\n",
    "    if random_seed: seed = np.random.choice(1000)\n",
    "    else: seed = np.random.choice(1000) \n",
    "    local_copy = X.copy()\n",
    "    array = np.array(local_copy.transpose().dropna())\n",
    "    dim, T = array.shape\n",
    "    x_vals = array[x_]\n",
    "    y_vals = array[y_]\n",
    "    if z_ != None:\n",
    "        z_vals = array[z_].T.copy()\n",
    "        rcot = rpy2.robjects.r['RCIT'](x_vals, y_vals, z_vals, seed = seed)\n",
    "    else:\n",
    "        rcot = rpy2.robjects.r['RCIT'](x_vals, y_vals, seed = seed)\n",
    "    return float(rcot.rx2('p')[0])"
   ]
  },
  {
   "cell_type": "code",
   "execution_count": 12,
   "metadata": {},
   "outputs": [],
   "source": [
    "def RCIT_values(X, x_, y_, z_=None, random_seed=False, n_runs=10):\n",
    "    \n",
    "    p_values = []  \n",
    "    \n",
    "    for _ in range(n_runs):\n",
    "        p_value = RCIT(X, x_, y_, z_, random_seed)\n",
    "        p_values.append(p_value)\n",
    "    \n",
    "    return p_values"
   ]
  },
  {
   "cell_type": "code",
   "execution_count": 16,
   "metadata": {},
   "outputs": [],
   "source": [
    "def cross_sectional_rcit(data, x, y, z, num_subsets):\n",
    "    subset_size = len(data) // num_subsets\n",
    "    p_values = []\n",
    "\n",
    "    for i in range(num_subsets):\n",
    "        subset = data.iloc[i * subset_size:(i + 1) * subset_size]\n",
    "        p_value = RCIT(subset, x, y, z)\n",
    "        p_values.append(p_value)\n",
    "\n",
    "    return p_values"
   ]
  },
  {
   "cell_type": "code",
   "execution_count": 13,
   "metadata": {},
   "outputs": [
    {
     "name": "stdout",
     "output_type": "stream",
     "text": [
      "chi2_stat: 4.9125000000000005\n",
      "uniformity p value: 0.7668860335811113\n"
     ]
    }
   ],
   "source": [
    "def chi2_test(p_values, num_bins=10):\n",
    "    \"\"\"\n",
    "    Perform a chi-squared test for uniformity on the given p-values.\n",
    "\n",
    "    Parameters:\n",
    "    p_values (list or array): List of p-values to be tested.\n",
    "    num_bins (int): Number of bins for the histogram. \n",
    "\n",
    "    Returns:\n",
    "    chi2_stat (float): Chi-squared statistic.\n",
    "    p_val (float): p-value of the uniformity test.\n",
    "    \"\"\"\n",
    "    # Create bins for the histogram\n",
    "    bins = np.linspace(0, 1, num_bins)\n",
    "    \n",
    "    # Calculate observed frequencies\n",
    "    observed, _ = np.histogram(p_values, bins=bins)\n",
    "    \n",
    "    # Calculate expected frequencies\n",
    "    total_observations = sum(observed)\n",
    "    num_groups = len(observed)\n",
    "    expected = [total_observations / num_groups] * num_groups\n",
    "    \n",
    "    # Perform chi-squared test\n",
    "    chi2_stat, p_val = chisquare(observed, expected)\n",
    "    \n",
    "    return chi2_stat, p_val\n",
    "\n",
    "# Example usage\n",
    "p_values2 = np.random.uniform(0, 2, 1000)  # Example p-values\n",
    "chi2_stat, p_val = chi2_test(p_values2)\n",
    "\n",
    "print(f\"chi2_stat: {chi2_stat}\")\n",
    "print(f\"uniformity p value: {p_val}\")"
   ]
  },
  {
   "cell_type": "code",
   "execution_count": 14,
   "metadata": {},
   "outputs": [],
   "source": [
    "def graph(p_values):\n",
    "\n",
    "    # Plotting the histogram of p-values\n",
    "    plt.figure(figsize=(5,3))\n",
    "    plt.hist(p_values, bins=50, color='blue', alpha=0.6, label='RCIT p-values')\n",
    "    plt.xlabel('p-value')\n",
    "    plt.ylabel('Frequency')\n",
    "    plt.legend()\n",
    "    plt.show()"
   ]
  },
  {
   "cell_type": "code",
   "execution_count": 15,
   "metadata": {},
   "outputs": [],
   "source": [
    "def graph2(p_values1, p_values2):\n",
    "    # Plotting the histogram of p-values\n",
    "    plt.figure(figsize=(5,3))\n",
    "    plt.hist(p_values1, bins=50, color='blue', alpha=0.6, label='Conditional test')\n",
    "    plt.hist(p_values2, bins=50, color='red', alpha=0.6, label='Unconditional test')\n",
    "    plt.xlabel('p-value')\n",
    "    plt.ylabel('Frequency')\n",
    "    plt.legend()\n",
    "    plt.show()"
   ]
  },
  {
   "cell_type": "markdown",
   "metadata": {},
   "source": [
    "#### Simulated examples\n",
    "\n",
    "##### 1. Collider bias"
   ]
  },
  {
   "cell_type": "code",
   "execution_count": 103,
   "metadata": {},
   "outputs": [],
   "source": [
    "# Set seed for reproducibility\n",
    "np.random.seed(2024)\n",
    "\n",
    "# Number of samples\n",
    "n_samples = 800\n",
    "\n",
    "# Generate data according to the model\n",
    "X = np.random.normal(0, 1, n_samples)\n",
    "H = np.random.normal(0, 1, n_samples)\n",
    "Y = 1.5 * X + np.random.normal(0, 1, n_samples)\n",
    "Z = - Y - 0.75 * H + np.random.normal(0, 1, n_samples)\n",
    "\n",
    "# Save the generated data to variables\n",
    "data = {\n",
    "    'X': X,\n",
    "    'Z': Z,\n",
    "    'H': H,\n",
    "    'Y': Y\n",
    "}"
   ]
  },
  {
   "cell_type": "code",
   "execution_count": 104,
   "metadata": {},
   "outputs": [
    {
     "name": "stdout",
     "output_type": "stream",
     "text": [
      "                            OLS Regression Results                            \n",
      "==============================================================================\n",
      "Dep. Variable:                      y   R-squared:                       0.000\n",
      "Model:                            OLS   Adj. R-squared:                 -0.001\n",
      "Method:                 Least Squares   F-statistic:                  0.006932\n",
      "Date:                  周五, 21 6月 2024   Prob (F-statistic):              0.934\n",
      "Time:                        07:57:59   Log-Likelihood:                -1133.6\n",
      "No. Observations:                 800   AIC:                             2271.\n",
      "Df Residuals:                     798   BIC:                             2281.\n",
      "Df Model:                           1                                         \n",
      "Covariance Type:            nonrobust                                         \n",
      "==============================================================================\n",
      "                 coef    std err          t      P>|t|      [0.025      0.975]\n",
      "------------------------------------------------------------------------------\n",
      "const         -0.0128      0.035     -0.361      0.718      -0.082       0.057\n",
      "X             -0.0028      0.034     -0.083      0.934      -0.070       0.064\n",
      "==============================================================================\n",
      "Omnibus:                        2.574   Durbin-Watson:                   1.906\n",
      "Prob(Omnibus):                  0.276   Jarque-Bera (JB):                2.411\n",
      "Skew:                           0.123   Prob(JB):                        0.300\n",
      "Kurtosis:                       3.110   Cond. No.                         1.04\n",
      "==============================================================================\n",
      "\n",
      "Notes:\n",
      "[1] Standard Errors assume that the covariance matrix of the errors is correctly specified.\n",
      "                            OLS Regression Results                            \n",
      "==============================================================================\n",
      "Dep. Variable:                      y   R-squared:                       0.203\n",
      "Model:                            OLS   Adj. R-squared:                  0.201\n",
      "Method:                 Least Squares   F-statistic:                     101.3\n",
      "Date:                  周五, 21 6月 2024   Prob (F-statistic):           6.49e-40\n",
      "Time:                        07:58:00   Log-Likelihood:                -1043.1\n",
      "No. Observations:                 800   AIC:                             2092.\n",
      "Df Residuals:                     797   BIC:                             2106.\n",
      "Df Model:                           2                                         \n",
      "Covariance Type:            nonrobust                                         \n",
      "==============================================================================\n",
      "                 coef    std err          t      P>|t|      [0.025      0.975]\n",
      "------------------------------------------------------------------------------\n",
      "const         -0.0058      0.032     -0.183      0.855      -0.068       0.056\n",
      "X             -0.4083      0.042     -9.786      0.000      -0.490      -0.326\n",
      "Z             -0.2749      0.019    -14.231      0.000      -0.313      -0.237\n",
      "==============================================================================\n",
      "Omnibus:                        5.399   Durbin-Watson:                   1.921\n",
      "Prob(Omnibus):                  0.067   Jarque-Bera (JB):                5.326\n",
      "Skew:                           0.167   Prob(JB):                       0.0698\n",
      "Kurtosis:                       3.219   Cond. No.                         3.29\n",
      "==============================================================================\n",
      "\n",
      "Notes:\n",
      "[1] Standard Errors assume that the covariance matrix of the errors is correctly specified.\n"
     ]
    }
   ],
   "source": [
    "# Extract data\n",
    "X = data['X']\n",
    "Y = data['Y']\n",
    "Z = data['Z']\n",
    "H = data['H']\n",
    "\n",
    "# First regression: H on X\n",
    "X_with_const = sm.add_constant(pd.DataFrame({'X': X}))\n",
    "model1 = sm.OLS(H, X_with_const).fit()\n",
    "\n",
    "# Second regression: H on X and Y\n",
    "XY_with_const = sm.add_constant(pd.DataFrame({'X': X, 'Z': Z}))\n",
    "model2 = sm.OLS(H, XY_with_const).fit()\n",
    "\n",
    "# Display summaries\n",
    "model1_summary = model1.summary()\n",
    "model2_summary = model2.summary()\n",
    "\n",
    "print(model1_summary)\n",
    "print(model2_summary)"
   ]
  },
  {
   "cell_type": "markdown",
   "metadata": {},
   "source": [
    "##### 2. Mediator Bias"
   ]
  },
  {
   "cell_type": "code",
   "execution_count": 125,
   "metadata": {},
   "outputs": [],
   "source": [
    "# Set seed for reproducibility\n",
    "np.random.seed(20)\n",
    "\n",
    "# Number of samples\n",
    "n_samples = 800\n",
    "\n",
    "# Generate data according to the model\n",
    "X = np.random.normal(0, 1, n_samples)\n",
    "Y = 0.5 * X + np.random.normal(0, 1, n_samples)\n",
    "Z = Y + np.random.normal(0, 1, n_samples)\n",
    "H = 0.75 * Z + np.random.normal(0, 1, n_samples)\n",
    "\n",
    "# Save the generated data to variables\n",
    "data = {\n",
    "    'X': X,\n",
    "    'Z': Z,\n",
    "    'H': H,\n",
    "    'Y': Y\n",
    "}"
   ]
  },
  {
   "cell_type": "code",
   "execution_count": 126,
   "metadata": {},
   "outputs": [
    {
     "name": "stdout",
     "output_type": "stream",
     "text": [
      "                            OLS Regression Results                            \n",
      "==============================================================================\n",
      "Dep. Variable:                      y   R-squared:                       0.082\n",
      "Model:                            OLS   Adj. R-squared:                  0.080\n",
      "Method:                 Least Squares   F-statistic:                     70.92\n",
      "Date:                  周五, 21 6月 2024   Prob (F-statistic):           1.72e-16\n",
      "Time:                        16:00:33   Log-Likelihood:                -1417.9\n",
      "No. Observations:                 800   AIC:                             2840.\n",
      "Df Residuals:                     798   BIC:                             2849.\n",
      "Df Model:                           1                                         \n",
      "Covariance Type:            nonrobust                                         \n",
      "==============================================================================\n",
      "                 coef    std err          t      P>|t|      [0.025      0.975]\n",
      "------------------------------------------------------------------------------\n",
      "const          0.0071      0.050      0.141      0.888      -0.092       0.106\n",
      "X              0.4352      0.052      8.422      0.000       0.334       0.537\n",
      "==============================================================================\n",
      "Omnibus:                       11.155   Durbin-Watson:                   1.965\n",
      "Prob(Omnibus):                  0.004   Jarque-Bera (JB):               11.289\n",
      "Skew:                           0.265   Prob(JB):                      0.00354\n",
      "Kurtosis:                       3.239   Cond. No.                         1.03\n",
      "==============================================================================\n",
      "\n",
      "Notes:\n",
      "[1] Standard Errors assume that the covariance matrix of the errors is correctly specified.\n",
      "                            OLS Regression Results                            \n",
      "==============================================================================\n",
      "Dep. Variable:                      y   R-squared:                       0.318\n",
      "Model:                            OLS   Adj. R-squared:                  0.316\n",
      "Method:                 Least Squares   F-statistic:                     185.7\n",
      "Date:                  周五, 21 6月 2024   Prob (F-statistic):           6.31e-67\n",
      "Time:                        16:00:33   Log-Likelihood:                -1298.9\n",
      "No. Observations:                 800   AIC:                             2604.\n",
      "Df Residuals:                     797   BIC:                             2618.\n",
      "Df Model:                           2                                         \n",
      "Covariance Type:            nonrobust                                         \n",
      "==============================================================================\n",
      "                 coef    std err          t      P>|t|      [0.025      0.975]\n",
      "------------------------------------------------------------------------------\n",
      "const         -0.0055      0.043     -0.126      0.900      -0.091       0.080\n",
      "X              0.0669      0.050      1.344      0.179      -0.031       0.165\n",
      "Y              0.7162      0.043     16.614      0.000       0.632       0.801\n",
      "==============================================================================\n",
      "Omnibus:                        6.026   Durbin-Watson:                   2.036\n",
      "Prob(Omnibus):                  0.049   Jarque-Bera (JB):                5.962\n",
      "Skew:                           0.210   Prob(JB):                       0.0507\n",
      "Kurtosis:                       3.045   Cond. No.                         1.65\n",
      "==============================================================================\n",
      "\n",
      "Notes:\n",
      "[1] Standard Errors assume that the covariance matrix of the errors is correctly specified.\n",
      "                            OLS Regression Results                            \n",
      "==============================================================================\n",
      "Dep. Variable:                      y   R-squared:                       0.556\n",
      "Model:                            OLS   Adj. R-squared:                  0.555\n",
      "Method:                 Least Squares   F-statistic:                     499.0\n",
      "Date:                  周五, 21 6月 2024   Prob (F-statistic):          3.08e-141\n",
      "Time:                        16:00:33   Log-Likelihood:                -1127.2\n",
      "No. Observations:                 800   AIC:                             2260.\n",
      "Df Residuals:                     797   BIC:                             2274.\n",
      "Df Model:                           2                                         \n",
      "Covariance Type:            nonrobust                                         \n",
      "==============================================================================\n",
      "                 coef    std err          t      P>|t|      [0.025      0.975]\n",
      "------------------------------------------------------------------------------\n",
      "const         -0.0205      0.035     -0.583      0.560      -0.089       0.048\n",
      "X              0.0526      0.038      1.374      0.170      -0.023       0.128\n",
      "Z              0.7290      0.025     29.180      0.000       0.680       0.778\n",
      "==============================================================================\n",
      "Omnibus:                        0.663   Durbin-Watson:                   2.046\n",
      "Prob(Omnibus):                  0.718   Jarque-Bera (JB):                0.601\n",
      "Skew:                          -0.066   Prob(JB):                        0.740\n",
      "Kurtosis:                       3.024   Cond. No.                         1.76\n",
      "==============================================================================\n",
      "\n",
      "Notes:\n",
      "[1] Standard Errors assume that the covariance matrix of the errors is correctly specified.\n"
     ]
    }
   ],
   "source": [
    "# Extract data\n",
    "X = data['X']\n",
    "Y = data['Y']\n",
    "Z = data['Z']\n",
    "H = data['H']\n",
    "\n",
    "# First regression: H on X\n",
    "X_with_const = sm.add_constant(pd.DataFrame({'X': X}))\n",
    "model1 = sm.OLS(H, X_with_const).fit()\n",
    "\n",
    "# Second regression: H on X and Y\n",
    "XY_with_const = sm.add_constant(pd.DataFrame({'X': X, 'Y': Y}))\n",
    "model2 = sm.OLS(H, XY_with_const).fit()\n",
    "\n",
    "# Second regression: H on X and Y\n",
    "XZ_with_const = sm.add_constant(pd.DataFrame({'X': X, 'Z': Z}))\n",
    "model3 = sm.OLS(H, XZ_with_const).fit()\n",
    "\n",
    "# Display summaries\n",
    "model1_summary = model1.summary()\n",
    "model2_summary = model2.summary()\n",
    "model3_summary = model3.summary()\n",
    "\n",
    "print(model1_summary)\n",
    "print(model2_summary)\n",
    "print(model3_summary)"
   ]
  },
  {
   "cell_type": "markdown",
   "metadata": {},
   "source": [
    "##### 3. CIT example"
   ]
  },
  {
   "cell_type": "code",
   "execution_count": 13,
   "metadata": {},
   "outputs": [],
   "source": [
    "p1=[]\n",
    "p2=[]\n",
    "\n",
    "for i in range(500):\n",
    "\n",
    "    n_samples = 1000\n",
    "\n",
    "    # data for X -> Y -> Z\n",
    "    X_chain = np.random.normal(size=n_samples)\n",
    "    Y_chain = 2*X_chain + np.random.normal(size=n_samples)\n",
    "    Z_chain = np.cos(Y_chain) + np.random.normal(size=n_samples)\n",
    "\n",
    "    chain_df = pd.DataFrame({'X_chain': X_chain, 'Y_chain': Y_chain, 'Z_chain': Z_chain})\n",
    "\n",
    "    X1 = chain_df  \n",
    "    x1 = chain_df.columns.get_loc('X_chain')\n",
    "    y1 = chain_df.columns.get_loc('Z_chain')\n",
    "    z1 = chain_df.columns.get_loc('Y_chain')\n",
    "\n",
    "    p1.append(RCIT(X1, x1, y1, z1))\n",
    "    p2.append(RCIT(X1, x1, y1, z_=None))"
   ]
  },
  {
   "cell_type": "code",
   "execution_count": 17,
   "metadata": {},
   "outputs": [
    {
     "data": {
      "image/png": "[encoded data removed]",
      "text/plain": [
       "<Figure size 500x300 with 1 Axes>"
      ]
     },
     "metadata": {},
     "output_type": "display_data"
    }
   ],
   "source": [
    "plt.figure(figsize=(5,3))\n",
    "plt.hist(p1, bins=40, color='blue', alpha=0.6, label='Conditional test')\n",
    "plt.hist(p2, bins=13, color='red', alpha=0.4, label='Unconditional test')\n",
    "plt.xlabel('p-value')\n",
    "plt.title('Chain')\n",
    "plt.ylabel('Frequency')\n",
    "plt.legend()\n",
    "plt.show()"
   ]
  },
  {
   "cell_type": "code",
   "execution_count": 15,
   "metadata": {},
   "outputs": [],
   "source": [
    "p11=[]\n",
    "p22=[]\n",
    "\n",
    "for i in range(500):\n",
    "\n",
    "    n_samples = 1000\n",
    "\n",
    "    # data for X -> Y -> Z\n",
    "    X_collider = np.random.normal(size=n_samples)\n",
    "    Z_collider = np.random.normal(size=n_samples)\n",
    "    Y_collider = np.sin(X_collider) + 0.5 * Z_collider + np.random.normal(size=n_samples)\n",
    "\n",
    "    collider_df = pd.DataFrame({'X_collider': X_collider, 'Y_collider': Y_collider, 'Z_collider': Z_collider})\n",
    "\n",
    "    X11 = collider_df  \n",
    "    x11 = collider_df.columns.get_loc('X_collider')\n",
    "    y11 = collider_df.columns.get_loc('Z_collider')\n",
    "    z11 = collider_df.columns.get_loc('Y_collider')\n",
    "\n",
    "    p11.append(RCIT(X11, x11, y11, z11))\n",
    "    p22.append(RCIT(X11, x11, y11, z_=None))"
   ]
  },
  {
   "cell_type": "code",
   "execution_count": 18,
   "metadata": {},
   "outputs": [
    {
     "data": {
      "image/png": "[encoded data removed]",
      "text/plain": [
       "<Figure size 500x300 with 1 Axes>"
      ]
     },
     "metadata": {},
     "output_type": "display_data"
    }
   ],
   "source": [
    "plt.figure(figsize=(5,3))\n",
    "plt.hist(p11, bins=7, color='blue', alpha=0.6, label='Conditional test')\n",
    "plt.hist(p22, bins=40, color='red', alpha=0.4, label='Unconditional test')\n",
    "plt.xlabel('p-value')\n",
    "plt.ylabel('Frequency')\n",
    "plt.title('Collider')\n",
    "plt.legend()\n",
    "plt.show()"
   ]
  },
  {
   "cell_type": "markdown",
   "metadata": {},
   "source": [
    "### Conditional Independence Tests\n",
    "#### 1.1. Determinants for Emissions"
   ]
  },
  {
   "cell_type": "markdown",
   "metadata": {},
   "source": [
    "Emissions ⊥ LOGSIZE_t0 | INVEST/A, LEVERAGE, LOGPPE_t0, SALES"
   ]
  },
  {
   "cell_type": "code",
   "execution_count": 123,
   "metadata": {},
   "outputs": [],
   "source": [
    "X = regression_data_shifted  \n",
    "\n",
    "x = regression_data_shifted.columns.get_loc('total_emission_scope1')\n",
    "y = regression_data_shifted.columns.get_loc('LOGSIZE_t-1')\n",
    "z = [regression_data_shifted.columns.get_loc('SALES'), regression_data_shifted.columns.get_loc('LEVERAGE'),\\\n",
    "     regression_data_shifted.columns.get_loc('INVEST_A'), regression_data_shifted.columns.get_loc('LOGPPE_t-1')]"
   ]
  },
  {
   "cell_type": "code",
   "execution_count": 124,
   "metadata": {},
   "outputs": [
    {
     "name": "stdout",
     "output_type": "stream",
     "text": [
      "average p value (conditional): 0.00045215288276580137\n",
      "uniformity test p-value (conditional): 0.0\n",
      "average p value (unconditional): 0.25121822501758023\n",
      "uniformity test p-value (unconditional): 5.068513923673313e-32\n"
     ]
    }
   ],
   "source": [
    "# run conditional independence tests\n",
    "p_values1 = cross_sectional_rcit(X, x, y, z, num_subsets=222)\n",
    "p_mean = np.average(p_values1)\n",
    "print(f\"average p value (conditional): {p_mean}\")\n",
    "\n",
    "# uniformity test\n",
    "chi2_statistic, p_value = chi2_test(p_values1, 200)\n",
    "print(f\"uniformity test p-value (conditional): {p_value}\")\n",
    "\n",
    "# run unconditional independence tests\n",
    "p_values2 = cross_sectional_rcit(X, x, y, z=None, num_subsets=111)\n",
    "p_mean = np.average(p_values2)\n",
    "print(f\"average p value (unconditional): {p_mean}\")\n",
    "\n",
    "# uniformity test\n",
    "chi2_statistic, p_value = chi2_test(p_values2, 100)\n",
    "print(f\"uniformity test p-value (unconditional): {p_value}\")"
   ]
  },
  {
   "cell_type": "code",
   "execution_count": 128,
   "metadata": {},
   "outputs": [
    {
     "data": {
      "image/png": "[encoded data removed]",
      "text/plain": [
       "<Figure size 500x300 with 1 Axes>"
      ]
     },
     "metadata": {},
     "output_type": "display_data"
    }
   ],
   "source": [
    "plt.figure(figsize=(5,3))\n",
    "plt.hist(p_values1, bins=3, color='blue', alpha=0.6, label='Conditional test')\n",
    "plt.hist(p_values2, bins=50, color='red', alpha=0.6, label='Unconditional test')\n",
    "plt.xlabel('p-value')\n",
    "plt.ylabel('Frequency')\n",
    "plt.legend()\n",
    "plt.show()"
   ]
  },
  {
   "cell_type": "markdown",
   "metadata": {},
   "source": [
    "Emissions ⊥ LEVERAGE | INVEST/A, LOGPPE_t0, LOGSIZE_t0"
   ]
  },
  {
   "cell_type": "code",
   "execution_count": 116,
   "metadata": {},
   "outputs": [],
   "source": [
    "X = regression_data_shifted  \n",
    "\n",
    "x = regression_data_shifted.columns.get_loc('total_emission_scope2')\n",
    "y = regression_data_shifted.columns.get_loc('LEVERAGE')\n",
    "z = [regression_data_shifted.columns.get_loc('LOGPPE_t-1'), \\\n",
    "     regression_data_shifted.columns.get_loc('INVEST_A'), regression_data_shifted.columns.get_loc('LOGSIZE_t-1')]"
   ]
  },
  {
   "cell_type": "code",
   "execution_count": 117,
   "metadata": {},
   "outputs": [
    {
     "name": "stdout",
     "output_type": "stream",
     "text": [
      "average p value: 0.01173221745676232\n",
      "Chi-square Statistic: 40836.54054054053, P-value: 0.0\n"
     ]
    }
   ],
   "source": [
    "# run RCIT cross-sectionally\n",
    "p_values1 = cross_sectional_rcit(X, x, y, z, num_subsets=222)\n",
    "p_mean = np.average(p_values1)\n",
    "print(f\"average p value: {p_mean}\")\n",
    "\n",
    "# uniformity test\n",
    "chi2_statistic, p_value = chi2_test(p_values1, 200)\n",
    "print(f\"Chi-square Statistic: {chi2_statistic}, P-value: {p_value}\")"
   ]
  },
  {
   "cell_type": "code",
   "execution_count": 118,
   "metadata": {},
   "outputs": [
    {
     "name": "stdout",
     "output_type": "stream",
     "text": [
      "average p value: 0.0013546191359298152\n",
      "Chi-square Statistic: 10103.837837837838, P-value: 0.0\n"
     ]
    }
   ],
   "source": [
    "# run RCIT cross-sectionally\n",
    "p_values2 = cross_sectional_rcit(X, x, y, z=None, num_subsets=111)\n",
    "p_mean = np.average(p_values2)\n",
    "print(f\"average p value: {p_mean}\")\n",
    "\n",
    "# uniformity test\n",
    "chi2_statistic, p_value = chi2_test(p_values2, 100)\n",
    "print(f\"Chi-square Statistic: {chi2_statistic}, P-value: {p_value}\")"
   ]
  },
  {
   "cell_type": "code",
   "execution_count": 119,
   "metadata": {},
   "outputs": [
    {
     "data": {
      "image/png": "[encoded data removed]",
      "text/plain": [
       "<Figure size 500x300 with 1 Axes>"
      ]
     },
     "metadata": {},
     "output_type": "display_data"
    }
   ],
   "source": [
    "plt.figure(figsize=(5,3))\n",
    "plt.hist(p_values1, bins=50, color='blue', alpha=0.6, label='Conditional test')\n",
    "plt.hist(p_values2, bins=12, color='red', alpha=0.6, label='Unconditional test')\n",
    "plt.xlabel('p-value')\n",
    "plt.ylabel('Frequency')\n",
    "plt.legend()\n",
    "plt.show()"
   ]
  },
  {
   "cell_type": "markdown",
   "metadata": {},
   "source": [
    "Emissions ⊥ SALES | INVEST/A, LOGSIZE_t0"
   ]
  },
  {
   "cell_type": "code",
   "execution_count": 145,
   "metadata": {},
   "outputs": [],
   "source": [
    "X = regression_data_shifted  \n",
    "\n",
    "x = regression_data_shifted.columns.get_loc('total_emission_scope2')\n",
    "y = regression_data_shifted.columns.get_loc('SALES')\n",
    "z = [regression_data_shifted.columns.get_loc('INVEST_A'), regression_data_shifted.columns.get_loc('LOGSIZE_t-1')]"
   ]
  },
  {
   "cell_type": "code",
   "execution_count": 146,
   "metadata": {},
   "outputs": [
    {
     "name": "stdout",
     "output_type": "stream",
     "text": [
      "average p value (conditional): 0.008513358216580676\n",
      "uniformity test p-value (conditional): 0.0\n",
      "average p value (unconditional): 0.0017372686694234311\n",
      "uniformity test p-value (unconditional): 0.0\n"
     ]
    }
   ],
   "source": [
    "# run conditional independence tests\n",
    "p_values1 = cross_sectional_rcit(X, x, y, z, num_subsets=222)\n",
    "p_mean = np.average(p_values1)\n",
    "print(f\"average p value (conditional): {p_mean}\")\n",
    "\n",
    "# uniformity test\n",
    "chi2_statistic, p_value = chi2_test(p_values1, 200)\n",
    "print(f\"uniformity test p-value (conditional): {p_value}\")\n",
    "\n",
    "# run unconditional independence tests\n",
    "p_values2 = cross_sectional_rcit(X, x, y, z=None, num_subsets=111)\n",
    "p_mean = np.average(p_values2)\n",
    "print(f\"average p value (unconditional): {p_mean}\")\n",
    "\n",
    "# uniformity test\n",
    "chi2_statistic, p_value = chi2_test(p_values2, 100)\n",
    "print(f\"uniformity test p-value (unconditional): {p_value}\")"
   ]
  },
  {
   "cell_type": "code",
   "execution_count": 147,
   "metadata": {},
   "outputs": [
    {
     "data": {
      "image/png": "[encoded data removed]",
      "text/plain": [
       "<Figure size 500x300 with 1 Axes>"
      ]
     },
     "metadata": {},
     "output_type": "display_data"
    }
   ],
   "source": [
    "plt.figure(figsize=(5,3))\n",
    "plt.hist(p_values1, bins=50, color='blue', alpha=0.6, label='Conditional test')\n",
    "plt.hist(p_values2, bins=12, color='red', alpha=0.6, label='Unconditional test')\n",
    "plt.xlabel('p-value')\n",
    "plt.ylabel('Frequency')\n",
    "plt.legend()\n",
    "plt.show()"
   ]
  },
  {
   "cell_type": "markdown",
   "metadata": {},
   "source": [
    "INVEST/A ⊥ Emissions | LEVERAGE, LOGPPE_t0, LOGSIZE_t0, SALES"
   ]
  },
  {
   "cell_type": "code",
   "execution_count": 148,
   "metadata": {},
   "outputs": [],
   "source": [
    "X = regression_data_shifted  \n",
    "\n",
    "x = regression_data_shifted.columns.get_loc('total_emission_scope2')\n",
    "y = regression_data_shifted.columns.get_loc('INVEST_A')\n",
    "z = [regression_data_shifted.columns.get_loc('LOGPPE_t-1'), regression_data_shifted.columns.get_loc('LEVERAGE'),\\\n",
    "     regression_data_shifted.columns.get_loc('SALES'), regression_data_shifted.columns.get_loc('LOGSIZE_t-1')]"
   ]
  },
  {
   "cell_type": "code",
   "execution_count": 149,
   "metadata": {},
   "outputs": [
    {
     "name": "stdout",
     "output_type": "stream",
     "text": [
      "average p value (conditional): 0.0045045045045045045\n",
      "uniformity test p-value (conditional): 0.0\n",
      "average p value (unconditional): 0.004879438765634091\n",
      "uniformity test p-value (unconditional): 0.0\n"
     ]
    }
   ],
   "source": [
    "# run conditional independence tests\n",
    "p_values1 = cross_sectional_rcit(X, x, y, z, num_subsets=222)\n",
    "p_mean = np.average(p_values1)\n",
    "print(f\"average p value (conditional): {p_mean}\")\n",
    "\n",
    "# uniformity test\n",
    "chi2_statistic, p_value = chi2_test(p_values1, 200)\n",
    "print(f\"uniformity test p-value (conditional): {p_value}\")\n",
    "\n",
    "# run unconditional independence tests\n",
    "p_values2 = cross_sectional_rcit(X, x, y, z=None, num_subsets=111)\n",
    "p_mean = np.average(p_values2)\n",
    "print(f\"average p value (unconditional): {p_mean}\")\n",
    "\n",
    "# uniformity test\n",
    "chi2_statistic, p_value = chi2_test(p_values2, 100)\n",
    "print(f\"uniformity test p-value (unconditional): {p_value}\")"
   ]
  },
  {
   "cell_type": "code",
   "execution_count": 150,
   "metadata": {},
   "outputs": [
    {
     "data": {
      "image/png": "[encoded data removed]",
      "text/plain": [
       "<Figure size 500x300 with 1 Axes>"
      ]
     },
     "metadata": {},
     "output_type": "display_data"
    }
   ],
   "source": [
    "plt.figure(figsize=(5,3))\n",
    "plt.hist(p_values1, bins=50, color='blue', alpha=0.6, label='Conditional test')\n",
    "plt.hist(p_values2, bins=12, color='red', alpha=0.6, label='Unconditional test')\n",
    "plt.xlabel('p-value')\n",
    "plt.ylabel('Frequency')\n",
    "plt.legend()\n",
    "plt.show()"
   ]
  },
  {
   "cell_type": "markdown",
   "metadata": {},
   "source": [
    "Emissions ⊥ LOGPPE_t0 | INVEST/A, LEVERAGE, LOGSIZE_t0"
   ]
  },
  {
   "cell_type": "code",
   "execution_count": 159,
   "metadata": {},
   "outputs": [],
   "source": [
    "X = regression_data_shifted  \n",
    "\n",
    "x = regression_data_shifted.columns.get_loc('total_emission_scope1')\n",
    "y = regression_data_shifted.columns.get_loc('LOGPPE_t-1')\n",
    "z = [regression_data_shifted.columns.get_loc('INVEST_A'), regression_data_shifted.columns.get_loc('LEVERAGE'),\\\n",
    "     regression_data_shifted.columns.get_loc('LOGSIZE_t-1')]"
   ]
  },
  {
   "cell_type": "code",
   "execution_count": 160,
   "metadata": {},
   "outputs": [
    {
     "name": "stdout",
     "output_type": "stream",
     "text": [
      "average p value (conditional): 0.0003956691706838688\n",
      "uniformity test p-value (conditional): 0.0\n",
      "average p value (unconditional): 0.00010911149150422279\n",
      "uniformity test p-value (unconditional): 0.0\n"
     ]
    }
   ],
   "source": [
    "# run conditional independence tests\n",
    "p_values1 = cross_sectional_rcit(X, x, y, z, num_subsets=222)\n",
    "p_mean = np.average(p_values1)\n",
    "print(f\"average p value (conditional): {p_mean}\")\n",
    "\n",
    "# uniformity test\n",
    "chi2_statistic, p_value = chi2_test(p_values1, 200)\n",
    "print(f\"uniformity test p-value (conditional): {p_value}\")\n",
    "\n",
    "# run unconditional independence tests\n",
    "p_values2 = cross_sectional_rcit(X, x, y, z=None, num_subsets=111)\n",
    "p_mean = np.average(p_values2)\n",
    "print(f\"average p value (unconditional): {p_mean}\")\n",
    "\n",
    "# uniformity test\n",
    "chi2_statistic, p_value = chi2_test(p_values2, 100)\n",
    "print(f\"uniformity test p-value (unconditional): {p_value}\")"
   ]
  },
  {
   "cell_type": "code",
   "execution_count": 161,
   "metadata": {},
   "outputs": [
    {
     "data": {
      "image/png": "[encoded data removed]",
      "text/plain": [
       "<Figure size 500x300 with 1 Axes>"
      ]
     },
     "metadata": {},
     "output_type": "display_data"
    }
   ],
   "source": [
    "plt.figure(figsize=(5,3))\n",
    "plt.hist(p_values1, bins=50, color='blue', alpha=0.6, label='Conditional test')\n",
    "plt.hist(p_values2, bins=12, color='red', alpha=0.6, label='Unconditional test')\n",
    "plt.xlabel('p-value')\n",
    "plt.ylabel('Frequency')\n",
    "plt.legend()\n",
    "plt.show()"
   ]
  },
  {
   "cell_type": "markdown",
   "metadata": {},
   "source": [
    "B/M_t0 ⊥ Emissions | INVEST/A, LEVERAGE, LOGPPE_t0, LOGSIZE_t0"
   ]
  },
  {
   "cell_type": "code",
   "execution_count": 130,
   "metadata": {},
   "outputs": [],
   "source": [
    "X = regression_data_shifted  \n",
    "\n",
    "x = regression_data_shifted.columns.get_loc('total_emission_scope2')\n",
    "y = regression_data_shifted.columns.get_loc('B_M_t-1')\n",
    "z = [regression_data_shifted.columns.get_loc('LOGPPE_t-1'), regression_data_shifted.columns.get_loc('LEVERAGE'),\\\n",
    "     regression_data_shifted.columns.get_loc('INVEST_A'), regression_data_shifted.columns.get_loc('LOGSIZE_t-1')]"
   ]
  },
  {
   "cell_type": "code",
   "execution_count": 144,
   "metadata": {},
   "outputs": [
    {
     "name": "stdout",
     "output_type": "stream",
     "text": [
      "average p value: 0.4910050959989726\n",
      "Chi-square Statistic: 215.44144144144147, P-value: 0.18801179767796306\n"
     ]
    }
   ],
   "source": [
    "# run RCIT cross-sectionally\n",
    "p_values1 = cross_sectional_rcit(X, x, y, z, num_subsets=222)\n",
    "p_mean = np.average(p_values1)\n",
    "print(f\"average p value: {p_mean}\")\n",
    "\n",
    "# uniformity test\n",
    "chi2_statistic, p_value = chi2_test(p_values1, 200)\n",
    "print(f\"Chi-square Statistic: {chi2_statistic}, P-value: {p_value}\")"
   ]
  },
  {
   "cell_type": "code",
   "execution_count": 134,
   "metadata": {},
   "outputs": [
    {
     "name": "stdout",
     "output_type": "stream",
     "text": [
      "average p value: 0.1306715361351756\n",
      "Chi-square Statistic: 753.2432432432432, P-value: 1.1062889685239198e-101\n"
     ]
    }
   ],
   "source": [
    "# run RCIT cross-sectionally\n",
    "p_values2 = cross_sectional_rcit(X, x, y, z=None, num_subsets=111)\n",
    "p_mean = np.average(p_values2)\n",
    "print(f\"average p value: {p_mean}\")\n",
    "\n",
    "# uniformity test\n",
    "chi2_statistic, p_value = chi2_test(p_values2, 100)\n",
    "print(f\"Chi-square Statistic: {chi2_statistic}, P-value: {p_value}\")"
   ]
  },
  {
   "cell_type": "code",
   "execution_count": 136,
   "metadata": {},
   "outputs": [
    {
     "data": {
      "image/png": "[encoded data removed]",
      "text/plain": [
       "<Figure size 500x300 with 1 Axes>"
      ]
     },
     "metadata": {},
     "output_type": "display_data"
    }
   ],
   "source": [
    "plt.figure(figsize=(5,3))\n",
    "plt.hist(p_values1, bins=50, color='blue', alpha=0.6, label='Conditional test')\n",
    "plt.hist(p_values2, bins=50, color='red', alpha=0.6, label='Unconditional test')\n",
    "plt.xlabel('p-value')\n",
    "plt.ylabel('Frequency')\n",
    "plt.legend()\n",
    "plt.show()"
   ]
  },
  {
   "cell_type": "markdown",
   "metadata": {},
   "source": [
    "Emissions ⊥ VOLAT | LEVERAGE"
   ]
  },
  {
   "cell_type": "code",
   "execution_count": 175,
   "metadata": {},
   "outputs": [],
   "source": [
    "X = regression_data_shifted  \n",
    "\n",
    "x = regression_data_shifted.columns.get_loc('total_emission_scope1')\n",
    "y = regression_data_shifted.columns.get_loc('VOLAT')\n",
    "z = [regression_data_shifted.columns.get_loc('LEVERAGE')]"
   ]
  },
  {
   "cell_type": "code",
   "execution_count": 193,
   "metadata": {},
   "outputs": [],
   "source": [
    "# normal\n",
    "X = regression_data_shifted  \n",
    "\n",
    "x = regression_data_shifted.columns.get_loc('RET1_t+1')\n",
    "y = regression_data_shifted.columns.get_loc('total_emission_scope1_t+1')####\n",
    "z = [regression_data_shifted.columns.get_loc('LOGPPE_t-1'), \\\n",
    "     regression_data_shifted.columns.get_loc('INVEST_A'), regression_data_shifted.columns.get_loc('LOGSIZE_t-1'),\\\n",
    "     regression_data_shifted.columns.get_loc('ROE'), regression_data_shifted.columns.get_loc('SALES')]"
   ]
  },
  {
   "cell_type": "code",
   "execution_count": 214,
   "metadata": {},
   "outputs": [],
   "source": [
    "# normal\n",
    "X = regression_data_shifted  \n",
    "\n",
    "x = regression_data_shifted.columns.get_loc('MOM_t+1')\n",
    "y = regression_data_shifted.columns.get_loc('RET_t+1')\n",
    "z = [regression_data_shifted.columns.get_loc('LOGPPE_t-1'), regression_data_shifted.columns.get_loc('total_emission_scope1'), \\\n",
    "     regression_data_shifted.columns.get_loc('LOGSIZE_t-1'), regression_data_shifted.columns.get_loc('ROE'), \\\n",
    "     regression_data_shifted.columns.get_loc('INVEST_A')]"
   ]
  },
  {
   "cell_type": "code",
   "execution_count": 215,
   "metadata": {},
   "outputs": [
    {
     "name": "stdout",
     "output_type": "stream",
     "text": [
      "average p value: 0.47644584824430114\n",
      "Chi-square Statistic: 210.06306306306305, P-value: 0.26511876241941407\n"
     ]
    }
   ],
   "source": [
    "# run RCIT cross-sectionally\n",
    "p_values2 = cross_sectional_rcit(X, x, y, z=None, num_subsets=100)\n",
    "p_mean = np.average(p_values2)\n",
    "print(f\"average p value: {p_mean}\")\n",
    "\n",
    "# uniformity test\n",
    "chi2_statistic, p_value = chi2_test(p_values2, 10)\n",
    "print(f\"Chi-square Statistic: {chi2_statistic}, P-value: {p_value}\")"
   ]
  },
  {
   "cell_type": "code",
   "execution_count": 220,
   "metadata": {},
   "outputs": [
    {
     "name": "stdout",
     "output_type": "stream",
     "text": [
      "average p value: 0.4388960690276134\n",
      "Chi-square Statistic: 222.61261261261262, P-value: 0.11081982959319783\n"
     ]
    }
   ],
   "source": [
    "# run RCIT cross-sectionally\n",
    "p_values1 = cross_sectional_rcit(X, x, y, z, num_subsets=222)\n",
    "p_mean = np.average(p_values1)\n",
    "print(f\"average p value: {p_mean}\")\n",
    "\n",
    "# uniformity test\n",
    "chi2_statistic, p_value = chi2_test(p_values1, 200)\n",
    "print(f\"Chi-square Statistic: {chi2_statistic}, P-value: {p_value}\")"
   ]
  },
  {
   "cell_type": "code",
   "execution_count": 223,
   "metadata": {},
   "outputs": [
    {
     "data": {
      "image/png": "[encoded data removed]",
      "text/plain": [
       "<Figure size 500x300 with 1 Axes>"
      ]
     },
     "metadata": {},
     "output_type": "display_data"
    }
   ],
   "source": [
    "plt.figure(figsize=(5,3))\n",
    "plt.hist(p_values1, bins=50, color='blue', alpha=0.6, label='Conditional test')\n",
    "plt.hist(p_values2, bins=50, color='red', alpha=0.6, label='Unconditional test')\n",
    "plt.xlabel('p-value')\n",
    "plt.ylabel('Frequency')\n",
    "plt.legend()\n",
    "plt.show()"
   ]
  },
  {
   "cell_type": "markdown",
   "metadata": {},
   "source": [
    "Emissions ⊥ ROE | LOGSIZE_t0, SALES"
   ]
  },
  {
   "cell_type": "code",
   "execution_count": 179,
   "metadata": {},
   "outputs": [],
   "source": [
    "X = regression_data_shifted  \n",
    "\n",
    "x = regression_data_shifted.columns.get_loc('total_emission_scope1')\n",
    "y = regression_data_shifted.columns.get_loc('ROE')\n",
    "\n",
    "z = [regression_data_shifted.columns.get_loc('SALES'), regression_data_shifted.columns.get_loc('LOGSIZE_t-1')]"
   ]
  },
  {
   "cell_type": "code",
   "execution_count": 213,
   "metadata": {},
   "outputs": [
    {
     "name": "stdout",
     "output_type": "stream",
     "text": [
      "average p value: 0.47278519726173834\n",
      "Chi-square Statistic: 9.324324324324323, P-value: 0.3156793538017397\n"
     ]
    }
   ],
   "source": [
    "# run RCIT cross-sectionally\n",
    "p_values1 = cross_sectional_rcit(X, x, y, z, num_subsets=222)\n",
    "p_mean = np.average(p_values1)\n",
    "print(f\"average p value: {p_mean}\")\n",
    "\n",
    "# uniformity test\n",
    "chi2_statistic, p_value = chi2_test(p_values1, 10)\n",
    "print(f\"Chi-square Statistic: {chi2_statistic}, P-value: {p_value}\")"
   ]
  },
  {
   "cell_type": "code",
   "execution_count": 199,
   "metadata": {},
   "outputs": [
    {
     "name": "stdout",
     "output_type": "stream",
     "text": [
      "average p value: 0.011691812087915043\n",
      "Chi-square Statistic: 8846.27027027027, P-value: 0.0\n"
     ]
    }
   ],
   "source": [
    "# run RCIT cross-sectionally\n",
    "p_values2 = cross_sectional_rcit(X, x, y, z=None, num_subsets=111)\n",
    "p_mean = np.average(p_values2)\n",
    "print(f\"average p value: {p_mean}\")\n",
    "\n",
    "# uniformity test\n",
    "chi2_statistic, p_value = chi2_test(p_values2, 100)\n",
    "print(f\"Chi-square Statistic: {chi2_statistic}, P-value: {p_value}\")"
   ]
  },
  {
   "cell_type": "code",
   "execution_count": 200,
   "metadata": {},
   "outputs": [
    {
     "data": {
      "image/png": "[encoded data removed]",
      "text/plain": [
       "<Figure size 500x300 with 1 Axes>"
      ]
     },
     "metadata": {},
     "output_type": "display_data"
    }
   ],
   "source": [
    "plt.figure(figsize=(5,3))\n",
    "plt.hist(p_values1, bins=50, color='blue', alpha=0.6, label='Conditional test')\n",
    "plt.hist(p_values2, bins=50, color='red', alpha=0.6, label='Unconditional test')\n",
    "plt.xlabel('p-value')\n",
    "plt.ylabel('Frequency')\n",
    "plt.legend()\n",
    "plt.show()"
   ]
  },
  {
   "cell_type": "markdown",
   "metadata": {},
   "source": [
    "EPSGR ⊥ Emissions | LOGSIZE_t0, SALES\n",
    "\n",
    "EPSGR ⊥ Emissions | ROE"
   ]
  },
  {
   "cell_type": "code",
   "execution_count": 183,
   "metadata": {},
   "outputs": [],
   "source": [
    "X = regression_data_shifted  \n",
    "\n",
    "x = regression_data_shifted.columns.get_loc('total_emission_scope1')\n",
    "y = regression_data_shifted.columns.get_loc('EPSGR')\n",
    "\n",
    "z = [regression_data_shifted.columns.get_loc('SALES'), regression_data_shifted.columns.get_loc('LOGSIZE_t-1')]"
   ]
  },
  {
   "cell_type": "code",
   "execution_count": 231,
   "metadata": {},
   "outputs": [
    {
     "name": "stdout",
     "output_type": "stream",
     "text": [
      "average p value: 0.46113726836263785\n",
      "Chi-square Statistic: 211.85585585585585, P-value: 0.2376160889332276\n"
     ]
    }
   ],
   "source": [
    "# run RCIT cross-sectionally\n",
    "p_values1 = cross_sectional_rcit(X, x, y, z, num_subsets=222)\n",
    "p_mean = np.average(p_values1)\n",
    "print(f\"average p value: {p_mean}\")\n",
    "\n",
    "# uniformity test\n",
    "chi2_statistic, p_value = chi2_test(p_values1, 200)\n",
    "print(f\"Chi-square Statistic: {chi2_statistic}, P-value: {p_value}\")"
   ]
  },
  {
   "cell_type": "code",
   "execution_count": 226,
   "metadata": {},
   "outputs": [
    {
     "name": "stdout",
     "output_type": "stream",
     "text": [
      "average p value: 0.009714714143564604\n",
      "Chi-square Statistic: 7584.379999999996, P-value: 0.0\n"
     ]
    }
   ],
   "source": [
    "# run RCIT cross-sectionally\n",
    "p_values2 = cross_sectional_rcit(X, x, y, z=None, num_subsets=100)\n",
    "p_mean = np.average(p_values2)\n",
    "print(f\"average p value: {p_mean}\")\n",
    "\n",
    "# uniformity test\n",
    "chi2_statistic, p_value = chi2_test(p_values2, 100)\n",
    "print(f\"Chi-square Statistic: {chi2_statistic}, P-value: {p_value}\")"
   ]
  },
  {
   "cell_type": "code",
   "execution_count": 229,
   "metadata": {},
   "outputs": [
    {
     "data": {
      "image/png": "[encoded data removed]",
      "text/plain": [
       "<Figure size 500x300 with 1 Axes>"
      ]
     },
     "metadata": {},
     "output_type": "display_data"
    }
   ],
   "source": [
    "plt.figure(figsize=(5,3))\n",
    "plt.hist(p_values1, bins=50, color='blue', alpha=0.6, label='Conditional test')\n",
    "plt.hist(p_values2, bins=13, color='red', alpha=0.6, label='Unconditional test')\n",
    "plt.xlabel('p-value')\n",
    "plt.ylabel('Frequency')\n",
    "plt.legend()\n",
    "plt.show()"
   ]
  },
  {
   "cell_type": "code",
   "execution_count": 187,
   "metadata": {},
   "outputs": [],
   "source": [
    "X = regression_data_shifted  \n",
    "\n",
    "x = regression_data_shifted.columns.get_loc('total_emission_scope1')\n",
    "y = regression_data_shifted.columns.get_loc('EPSGR')\n",
    "\n",
    "z = [regression_data_shifted.columns.get_loc('ROE')]"
   ]
  },
  {
   "cell_type": "code",
   "execution_count": 262,
   "metadata": {},
   "outputs": [
    {
     "name": "stdout",
     "output_type": "stream",
     "text": [
      "average p value: 0.45641471529489247\n",
      "Chi-square Statistic: 105.91, P-value: 0.2749843437157536\n"
     ]
    }
   ],
   "source": [
    "# run RCIT cross-sectionally\n",
    "p_values1 = cross_sectional_rcit(X, x, y, z, num_subsets=200)\n",
    "p_mean = np.average(p_values1)\n",
    "print(f\"average p value: {p_mean}\")\n",
    "\n",
    "# uniformity test\n",
    "chi2_statistic, p_value = chi2_test(p_values1, 100)\n",
    "print(f\"Chi-square Statistic: {chi2_statistic}, P-value: {p_value}\")"
   ]
  },
  {
   "cell_type": "code",
   "execution_count": 257,
   "metadata": {},
   "outputs": [
    {
     "name": "stdout",
     "output_type": "stream",
     "text": [
      "average p value: 0.4440839198612116\n",
      "Chi-square Statistic: 17.26, P-value: 0.02751275770639172\n"
     ]
    }
   ],
   "source": [
    "# run RCIT cross-sectionally\n",
    "p_values2 = cross_sectional_rcit(X, x, y, z=None, num_subsets=111)\n",
    "p_mean = np.average(p_values2)\n",
    "print(f\"average p value: {p_mean}\")\n",
    "\n",
    "# uniformity test\n",
    "chi2_statistic, p_value = chi2_test(p_values2, 100)\n",
    "print(f\"Chi-square Statistic: {chi2_statistic}, P-value: {p_value}\")"
   ]
  },
  {
   "cell_type": "code",
   "execution_count": 251,
   "metadata": {},
   "outputs": [
    {
     "data": {
      "image/png": "[encoded data removed]",
      "text/plain": [
       "<Figure size 500x300 with 1 Axes>"
      ]
     },
     "metadata": {},
     "output_type": "display_data"
    }
   ],
   "source": [
    "plt.figure(figsize=(5,3))\n",
    "plt.hist(p_values1, bins=50, color='blue', alpha=0.6, label='Conditional test')\n",
    "plt.hist(p_values2, bins=50, color='red', alpha=0.6, label='Unconditional test')\n",
    "plt.xlabel('p-value')\n",
    "plt.ylabel('Frequency')\n",
    "plt.legend()\n",
    "plt.show()"
   ]
  },
  {
   "cell_type": "code",
   "execution_count": null,
   "metadata": {},
   "outputs": [],
   "source": []
  },
  {
   "cell_type": "code",
   "execution_count": null,
   "metadata": {},
   "outputs": [],
   "source": []
  },
  {
   "cell_type": "code",
   "execution_count": null,
   "metadata": {},
   "outputs": [],
   "source": []
  },
  {
   "cell_type": "code",
   "execution_count": null,
   "metadata": {},
   "outputs": [],
   "source": []
  },
  {
   "cell_type": "code",
   "execution_count": null,
   "metadata": {},
   "outputs": [],
   "source": []
  },
  {
   "cell_type": "code",
   "execution_count": null,
   "metadata": {},
   "outputs": [],
   "source": []
  },
  {
   "cell_type": "code",
   "execution_count": null,
   "metadata": {},
   "outputs": [],
   "source": []
  },
  {
   "cell_type": "code",
   "execution_count": null,
   "metadata": {},
   "outputs": [],
   "source": []
  },
  {
   "cell_type": "code",
   "execution_count": null,
   "metadata": {},
   "outputs": [],
   "source": []
  }
 ],
 "metadata": {
  "kernelspec": {
   "display_name": "Python 3",
   "language": "python",
   "name": "python3"
  },
  "language_info": {
   "codemirror_mode": {
    "name": "ipython",
    "version": 3
   },
   "file_extension": ".py",
   "mimetype": "text/x-python",
   "name": "python",
   "nbconvert_exporter": "python",
   "pygments_lexer": "ipython3",
   "version": "3.11.5"
  }
 },
 "nbformat": 4,
 "nbformat_minor": 2
}
