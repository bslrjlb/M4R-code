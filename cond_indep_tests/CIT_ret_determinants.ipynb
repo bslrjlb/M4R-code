{
 "cells": [
  {
   "cell_type": "code",
   "execution_count": 2,
   "metadata": {},
   "outputs": [],
   "source": [
    "import numpy as np\n",
    "import pandas as pd\n",
    "import rpy2   # Allows Python code to call R functions\n",
    "import rpy2.robjects   # Provides a high-level interface to access R objects and functions from Python\n",
    "rpy2.robjects.r['options'](warn=-1)  # Set R global options to suppress warning messages during execution\n",
    "from rpy2.robjects.packages import importr   # importr: Import R packages into the Python environment\n",
    "import rpy2.robjects.numpy2ri\n",
    "rpy2.robjects.numpy2ri.activate()  # Activate automatic conversion between numpy and R arrays\n",
    "importr('RCIT')   # RCIT is an R package for performing conditional and unconditional independence tests\n",
    "import statsmodels.api as sm\n",
    "from scipy.stats import pearsonr\n",
    "from scipy.stats.mstats import winsorize\n",
    "import matplotlib.pyplot as plt\n",
    "from scipy.stats import chisquare\n",
    "from contextlib import contextmanager\n",
    "import statsmodels.api as sm"
   ]
  },
  {
   "cell_type": "code",
   "execution_count": 95,
   "metadata": {},
   "outputs": [
    {
     "data": {
      "text/html": [
       "<div>\n",
       "<style scoped>\n",
       "    .dataframe tbody tr th:only-of-type {\n",
       "        vertical-align: middle;\n",
       "    }\n",
       "\n",
       "    .dataframe tbody tr th {\n",
       "        vertical-align: top;\n",
       "    }\n",
       "\n",
       "    .dataframe thead th {\n",
       "        text-align: right;\n",
       "    }\n",
       "</style>\n",
       "<table border=\"1\" class=\"dataframe\">\n",
       "  <thead>\n",
       "    <tr style=\"text-align: right;\">\n",
       "      <th></th>\n",
       "      <th>gvkey</th>\n",
       "      <th>fyear</th>\n",
       "      <th>month</th>\n",
       "      <th>RET</th>\n",
       "      <th>MOM</th>\n",
       "      <th>BETA</th>\n",
       "      <th>VOLAT</th>\n",
       "      <th>total_emission_scope1</th>\n",
       "      <th>total_emission_scope2</th>\n",
       "      <th>emission_growth_scope1</th>\n",
       "      <th>...</th>\n",
       "      <th>carbon_intensity_scope2</th>\n",
       "      <th>LOGSIZE</th>\n",
       "      <th>B/M</th>\n",
       "      <th>LEVERAGE</th>\n",
       "      <th>INVEST/A</th>\n",
       "      <th>ROE</th>\n",
       "      <th>LOGPPE</th>\n",
       "      <th>SALESGR</th>\n",
       "      <th>EPSGR</th>\n",
       "      <th>RET1</th>\n",
       "    </tr>\n",
       "  </thead>\n",
       "  <tbody>\n",
       "    <tr>\n",
       "      <th>count</th>\n",
       "      <td>81605.000000</td>\n",
       "      <td>81605.000000</td>\n",
       "      <td>81605.000000</td>\n",
       "      <td>81605.000000</td>\n",
       "      <td>81605.000000</td>\n",
       "      <td>81605.000000</td>\n",
       "      <td>81605.000000</td>\n",
       "      <td>81605.000000</td>\n",
       "      <td>81605.000000</td>\n",
       "      <td>81605.000000</td>\n",
       "      <td>...</td>\n",
       "      <td>81605.000000</td>\n",
       "      <td>81605.000000</td>\n",
       "      <td>81605.000000</td>\n",
       "      <td>81605.000000</td>\n",
       "      <td>81605.000000</td>\n",
       "      <td>81605.000000</td>\n",
       "      <td>81605.000000</td>\n",
       "      <td>81605.000000</td>\n",
       "      <td>81605.000000</td>\n",
       "      <td>81605.000000</td>\n",
       "    </tr>\n",
       "    <tr>\n",
       "      <th>mean</th>\n",
       "      <td>61120.654923</td>\n",
       "      <td>2017.409767</td>\n",
       "      <td>6.522738</td>\n",
       "      <td>1.285111</td>\n",
       "      <td>0.120438</td>\n",
       "      <td>1.195033</td>\n",
       "      <td>0.103849</td>\n",
       "      <td>10.411239</td>\n",
       "      <td>10.627489</td>\n",
       "      <td>0.053134</td>\n",
       "      <td>...</td>\n",
       "      <td>0.314301</td>\n",
       "      <td>8.235747</td>\n",
       "      <td>0.577298</td>\n",
       "      <td>0.275880</td>\n",
       "      <td>0.035363</td>\n",
       "      <td>7.217507</td>\n",
       "      <td>6.841127</td>\n",
       "      <td>0.011243</td>\n",
       "      <td>0.004939</td>\n",
       "      <td>17.425595</td>\n",
       "    </tr>\n",
       "    <tr>\n",
       "      <th>std</th>\n",
       "      <td>69006.711553</td>\n",
       "      <td>2.158369</td>\n",
       "      <td>3.451686</td>\n",
       "      <td>12.473213</td>\n",
       "      <td>0.432692</td>\n",
       "      <td>0.727854</td>\n",
       "      <td>0.057046</td>\n",
       "      <td>2.689473</td>\n",
       "      <td>2.067171</td>\n",
       "      <td>0.296586</td>\n",
       "      <td>...</td>\n",
       "      <td>0.381090</td>\n",
       "      <td>1.762027</td>\n",
       "      <td>0.530395</td>\n",
       "      <td>0.215301</td>\n",
       "      <td>0.033117</td>\n",
       "      <td>33.035337</td>\n",
       "      <td>2.093872</td>\n",
       "      <td>0.328364</td>\n",
       "      <td>0.227102</td>\n",
       "      <td>53.736741</td>\n",
       "    </tr>\n",
       "    <tr>\n",
       "      <th>min</th>\n",
       "      <td>1004.000000</td>\n",
       "      <td>2011.000000</td>\n",
       "      <td>1.000000</td>\n",
       "      <td>-87.697842</td>\n",
       "      <td>-0.832704</td>\n",
       "      <td>-1.044560</td>\n",
       "      <td>0.025872</td>\n",
       "      <td>0.693147</td>\n",
       "      <td>2.544276</td>\n",
       "      <td>-0.587399</td>\n",
       "      <td>...</td>\n",
       "      <td>0.008185</td>\n",
       "      <td>-4.612195</td>\n",
       "      <td>-0.040954</td>\n",
       "      <td>0.000000</td>\n",
       "      <td>0.000000</td>\n",
       "      <td>-109.224422</td>\n",
       "      <td>-2.465104</td>\n",
       "      <td>-2.260408</td>\n",
       "      <td>-1.598919</td>\n",
       "      <td>-95.067633</td>\n",
       "    </tr>\n",
       "    <tr>\n",
       "      <th>25%</th>\n",
       "      <td>10860.000000</td>\n",
       "      <td>2016.000000</td>\n",
       "      <td>4.000000</td>\n",
       "      <td>-4.819277</td>\n",
       "      <td>-0.124580</td>\n",
       "      <td>0.757661</td>\n",
       "      <td>0.063082</td>\n",
       "      <td>8.641213</td>\n",
       "      <td>9.258057</td>\n",
       "      <td>-0.074867</td>\n",
       "      <td>...</td>\n",
       "      <td>0.085381</td>\n",
       "      <td>7.070696</td>\n",
       "      <td>0.230611</td>\n",
       "      <td>0.088988</td>\n",
       "      <td>0.012404</td>\n",
       "      <td>0.751054</td>\n",
       "      <td>5.498769</td>\n",
       "      <td>-0.015899</td>\n",
       "      <td>-0.022173</td>\n",
       "      <td>-9.791332</td>\n",
       "    </tr>\n",
       "    <tr>\n",
       "      <th>50%</th>\n",
       "      <td>24783.000000</td>\n",
       "      <td>2018.000000</td>\n",
       "      <td>7.000000</td>\n",
       "      <td>1.053142</td>\n",
       "      <td>0.082349</td>\n",
       "      <td>1.119520</td>\n",
       "      <td>0.090176</td>\n",
       "      <td>10.219274</td>\n",
       "      <td>10.620766</td>\n",
       "      <td>0.025733</td>\n",
       "      <td>...</td>\n",
       "      <td>0.176111</td>\n",
       "      <td>8.231717</td>\n",
       "      <td>0.444195</td>\n",
       "      <td>0.251456</td>\n",
       "      <td>0.025776</td>\n",
       "      <td>10.303030</td>\n",
       "      <td>6.880971</td>\n",
       "      <td>0.021430</td>\n",
       "      <td>0.003362</td>\n",
       "      <td>11.590107</td>\n",
       "    </tr>\n",
       "    <tr>\n",
       "      <th>75%</th>\n",
       "      <td>133869.000000</td>\n",
       "      <td>2019.000000</td>\n",
       "      <td>10.000000</td>\n",
       "      <td>6.870229</td>\n",
       "      <td>0.297905</td>\n",
       "      <td>1.546813</td>\n",
       "      <td>0.129241</td>\n",
       "      <td>11.925332</td>\n",
       "      <td>12.018952</td>\n",
       "      <td>0.137206</td>\n",
       "      <td>...</td>\n",
       "      <td>0.377914</td>\n",
       "      <td>9.407562</td>\n",
       "      <td>0.758144</td>\n",
       "      <td>0.412147</td>\n",
       "      <td>0.047656</td>\n",
       "      <td>19.134897</td>\n",
       "      <td>8.165563</td>\n",
       "      <td>0.073998</td>\n",
       "      <td>0.027182</td>\n",
       "      <td>34.970843</td>\n",
       "    </tr>\n",
       "    <tr>\n",
       "      <th>max</th>\n",
       "      <td>328795.000000</td>\n",
       "      <td>2020.000000</td>\n",
       "      <td>12.000000</td>\n",
       "      <td>99.191686</td>\n",
       "      <td>3.250000</td>\n",
       "      <td>4.147888</td>\n",
       "      <td>0.356740</td>\n",
       "      <td>18.713283</td>\n",
       "      <td>16.571679</td>\n",
       "      <td>1.124937</td>\n",
       "      <td>...</td>\n",
       "      <td>1.780249</td>\n",
       "      <td>14.627616</td>\n",
       "      <td>2.663034</td>\n",
       "      <td>0.814584</td>\n",
       "      <td>0.163615</td>\n",
       "      <td>91.432361</td>\n",
       "      <td>13.144907</td>\n",
       "      <td>1.647431</td>\n",
       "      <td>1.808117</td>\n",
       "      <td>1042.570281</td>\n",
       "    </tr>\n",
       "  </tbody>\n",
       "</table>\n",
       "<p>8 rows × 22 columns</p>\n",
       "</div>"
      ],
      "text/plain": [
       "               gvkey         fyear         month           RET           MOM  \\\n",
       "count   81605.000000  81605.000000  81605.000000  81605.000000  81605.000000   \n",
       "mean    61120.654923   2017.409767      6.522738      1.285111      0.120438   \n",
       "std     69006.711553      2.158369      3.451686     12.473213      0.432692   \n",
       "min      1004.000000   2011.000000      1.000000    -87.697842     -0.832704   \n",
       "25%     10860.000000   2016.000000      4.000000     -4.819277     -0.124580   \n",
       "50%     24783.000000   2018.000000      7.000000      1.053142      0.082349   \n",
       "75%    133869.000000   2019.000000     10.000000      6.870229      0.297905   \n",
       "max    328795.000000   2020.000000     12.000000     99.191686      3.250000   \n",
       "\n",
       "               BETA         VOLAT  total_emission_scope1  \\\n",
       "count  81605.000000  81605.000000           81605.000000   \n",
       "mean       1.195033      0.103849              10.411239   \n",
       "std        0.727854      0.057046               2.689473   \n",
       "min       -1.044560      0.025872               0.693147   \n",
       "25%        0.757661      0.063082               8.641213   \n",
       "50%        1.119520      0.090176              10.219274   \n",
       "75%        1.546813      0.129241              11.925332   \n",
       "max        4.147888      0.356740              18.713283   \n",
       "\n",
       "       total_emission_scope2  emission_growth_scope1  ...  \\\n",
       "count           81605.000000            81605.000000  ...   \n",
       "mean               10.627489                0.053134  ...   \n",
       "std                 2.067171                0.296586  ...   \n",
       "min                 2.544276               -0.587399  ...   \n",
       "25%                 9.258057               -0.074867  ...   \n",
       "50%                10.620766                0.025733  ...   \n",
       "75%                12.018952                0.137206  ...   \n",
       "max                16.571679                1.124937  ...   \n",
       "\n",
       "       carbon_intensity_scope2       LOGSIZE           B/M      LEVERAGE  \\\n",
       "count             81605.000000  81605.000000  81605.000000  81605.000000   \n",
       "mean                  0.314301      8.235747      0.577298      0.275880   \n",
       "std                   0.381090      1.762027      0.530395      0.215301   \n",
       "min                   0.008185     -4.612195     -0.040954      0.000000   \n",
       "25%                   0.085381      7.070696      0.230611      0.088988   \n",
       "50%                   0.176111      8.231717      0.444195      0.251456   \n",
       "75%                   0.377914      9.407562      0.758144      0.412147   \n",
       "max                   1.780249     14.627616      2.663034      0.814584   \n",
       "\n",
       "           INVEST/A           ROE        LOGPPE       SALESGR         EPSGR  \\\n",
       "count  81605.000000  81605.000000  81605.000000  81605.000000  81605.000000   \n",
       "mean       0.035363      7.217507      6.841127      0.011243      0.004939   \n",
       "std        0.033117     33.035337      2.093872      0.328364      0.227102   \n",
       "min        0.000000   -109.224422     -2.465104     -2.260408     -1.598919   \n",
       "25%        0.012404      0.751054      5.498769     -0.015899     -0.022173   \n",
       "50%        0.025776     10.303030      6.880971      0.021430      0.003362   \n",
       "75%        0.047656     19.134897      8.165563      0.073998      0.027182   \n",
       "max        0.163615     91.432361     13.144907      1.647431      1.808117   \n",
       "\n",
       "               RET1  \n",
       "count  81605.000000  \n",
       "mean      17.425595  \n",
       "std       53.736741  \n",
       "min      -95.067633  \n",
       "25%       -9.791332  \n",
       "50%       11.590107  \n",
       "75%       34.970843  \n",
       "max     1042.570281  \n",
       "\n",
       "[8 rows x 22 columns]"
      ]
     },
     "execution_count": 95,
     "metadata": {},
     "output_type": "execute_result"
    }
   ],
   "source": [
    "regression_data = pd.read_csv('../merged_data_sss.csv')\n",
    "dataset_raw = pd.read_csv('../dataset_raw.csv')\n",
    "regression_data = regression_data.drop('Unnamed: 0', axis=1)\n",
    "regression_data.describe()"
   ]
  },
  {
   "cell_type": "code",
   "execution_count": 97,
   "metadata": {},
   "outputs": [],
   "source": [
    "dataset_raw['SALES'] = dataset_raw.groupby(['gvkey', 'fyear'])['sale'].transform(lambda x: np.log(x))\n",
    "regression_data = regression_data.merge(dataset_raw[['gvkey', 'fyear', 'SALES']], on=['gvkey', 'fyear'], how='left')"
   ]
  },
  {
   "cell_type": "code",
   "execution_count": 98,
   "metadata": {},
   "outputs": [
    {
     "name": "stdout",
     "output_type": "stream",
     "text": [
      "         gvkey  fyear  month       RET       MOM      BETA     VOLAT  \\\n",
      "gvkey                                                                  \n",
      "1004  0   1004   2017      1 -1.815431  0.433590  1.728236  0.106410   \n",
      "      1   1004   2017      2  3.790447  0.695722  1.697156  0.106333   \n",
      "      2   1004   2017      3 -0.148456  0.499601  1.585366  0.106969   \n",
      "      3   1004   2017      4  7.017544  0.432948  1.536825  0.107289   \n",
      "      4   1004   2017      5 -3.834398  0.448269  1.553771  0.109533   \n",
      "\n",
      "         total_emission_scope1  total_emission_scope2  emission_growth_scope1  \\\n",
      "gvkey                                                                           \n",
      "1004  0              10.991192              10.418976               -0.004909   \n",
      "      1              10.991192              10.418976               -0.004909   \n",
      "      2              10.991192              10.418976               -0.004909   \n",
      "      3              10.991192              10.418976               -0.004909   \n",
      "      4              10.991192              10.418976               -0.004909   \n",
      "\n",
      "         ...  LOGPPE_t-1  LOGPPE_t+1  SALESGR_t-1  SALESGR_t+1  EPSGR_t-1  \\\n",
      "gvkey    ...                                                                \n",
      "1004  0  ...    6.274762    6.274762    -0.016998    -0.016998   0.016008   \n",
      "      1  ...    6.274762    6.274762    -0.016998    -0.016998   0.016008   \n",
      "      2  ...    6.274762    6.274762    -0.016998    -0.016998   0.016008   \n",
      "      3  ...    6.274762    6.274762    -0.016998    -0.016998   0.016008   \n",
      "      4  ...    6.274762    6.274762    -0.016998    -0.016998   0.016008   \n",
      "\n",
      "         EPSGR_t+1   RET1_t-1   RET1_t+1  SALES_t-1  SALES_t+1  \n",
      "gvkey                                                           \n",
      "1004  0   0.016008  19.881626  19.881626   7.466399   7.466399  \n",
      "      1   0.016008  19.881626  19.881626   7.466399   7.466399  \n",
      "      2   0.016008  19.881626  19.881626   7.466399   7.466399  \n",
      "      3   0.016008  19.881626  19.881626   7.466399   7.466399  \n",
      "      4   0.016008  19.881626  19.881626   7.466399   7.466399  \n",
      "\n",
      "[5 rows x 64 columns]\n"
     ]
    },
    {
     "name": "stderr",
     "output_type": "stream",
     "text": [
      "C:\\Users\\18906\\AppData\\Local\\Temp\\ipykernel_27820\\3985392856.py:26: DeprecationWarning: DataFrameGroupBy.apply operated on the grouping columns. This behavior is deprecated, and in a future version of pandas the grouping columns will be excluded from the operation. Either pass `include_groups=False` to exclude the groupings or explicitly select the grouping columns after groupby to silence this warning.\n",
      "  regression_data_shifted = regression_data.groupby('gvkey').apply(shift_if_consecutive)\n"
     ]
    }
   ],
   "source": [
    "regression_data = regression_data.sort_values(by=['gvkey', 'fyear', 'month'])\n",
    "\n",
    "columns_to_shift = ['RET', 'MOM', 'BETA', 'VOLAT',\n",
    "       'total_emission_scope1', 'total_emission_scope2',\n",
    "       'emission_growth_scope1', 'emission_growth_scope2',\n",
    "       'carbon_intensity_scope1', 'carbon_intensity_scope2', 'LOGSIZE', 'B/M',\n",
    "       'LEVERAGE', 'INVEST/A', 'ROE', 'LOGPPE', 'SALESGR', 'EPSGR', 'RET1', 'SALES']\n",
    "\n",
    "def shift_if_consecutive(group):\n",
    "    group = group.sort_values(by='datatime')\n",
    "    \n",
    "    group['datatime'] = pd.to_datetime(group['datatime'])\n",
    "    \n",
    "    # check if data is consecutive on year-month\n",
    "    group['consecutive'] = group['datatime'].diff().dt.days <= 31\n",
    "    \n",
    "    for col in columns_to_shift:\n",
    "        group[f'{col}_t-1'] = group[col].shift(-1)\n",
    "        group[f'{col}_t-1'] = group.apply(lambda row: row[col] if not row['consecutive'] else row[f'{col}_t-1'], axis=1)\n",
    "        group[f'{col}_t+1'] = group[col].shift(+1)\n",
    "        group[f'{col}_t+1'] = group.apply(lambda row: row[col] if not row['consecutive'] else row[f'{col}_t+1'], axis=1)\n",
    "    \n",
    "    return group.drop(columns=['consecutive', 'datatime'])\n",
    "\n",
    "# apply to each gvkey group\n",
    "regression_data_shifted = regression_data.groupby('gvkey').apply(shift_if_consecutive)\n",
    "regression_data_shifted.columns = [col.replace('/', '_') for col in regression_data_shifted.columns]\n",
    "\n",
    "print(regression_data_shifted.head())"
   ]
  },
  {
   "cell_type": "code",
   "execution_count": 99,
   "metadata": {},
   "outputs": [],
   "source": [
    "regression_data_shifted = regression_data_shifted.replace([np.inf, -np.inf], np.nan)\n",
    "regression_data_shifted = regression_data_shifted.dropna()"
   ]
  },
  {
   "cell_type": "code",
   "execution_count": 7,
   "metadata": {},
   "outputs": [],
   "source": [
    "regression_data_shifted.drop(columns=['GICS Sector Name'], inplace=True)"
   ]
  },
  {
   "cell_type": "markdown",
   "metadata": {},
   "source": [
    "### RCIT functions"
   ]
  },
  {
   "cell_type": "code",
   "execution_count": 8,
   "metadata": {},
   "outputs": [],
   "source": [
    "def RCIT(X, x_, y_, z_=None, random_seed=False):\n",
    "    if random_seed: seed = np.random.choice(1000)\n",
    "    else: seed = np.random.choice(1000) \n",
    "    local_copy = X.copy()\n",
    "    array = np.array(local_copy.transpose().dropna())\n",
    "    dim, T = array.shape\n",
    "    x_vals = array[x_]\n",
    "    y_vals = array[y_]\n",
    "    if z_ != None:\n",
    "        z_vals = array[z_].T.copy()\n",
    "        rcot = rpy2.robjects.r['RCIT'](x_vals, y_vals, z_vals, seed = seed)\n",
    "    else:\n",
    "        rcot = rpy2.robjects.r['RCIT'](x_vals, y_vals, seed = seed)\n",
    "    return float(rcot.rx2('p')[0])"
   ]
  },
  {
   "cell_type": "code",
   "execution_count": 9,
   "metadata": {},
   "outputs": [],
   "source": [
    "def RCIT_values(X, x_, y_, z_=None, random_seed=False, n_runs=10):\n",
    "    \n",
    "    p_values = []  \n",
    "    \n",
    "    for _ in range(n_runs):\n",
    "        p_value = RCIT(X, x_, y_, z_, random_seed)\n",
    "        p_values.append(p_value)\n",
    "    \n",
    "    return p_values"
   ]
  },
  {
   "cell_type": "code",
   "execution_count": 10,
   "metadata": {},
   "outputs": [],
   "source": [
    "def cross_sectional_rcit(data, x, y, z, num_subsets):\n",
    "    subset_size = len(data) // num_subsets\n",
    "    p_values = []\n",
    "\n",
    "    for i in range(num_subsets):\n",
    "        subset = data.iloc[i * subset_size:(i + 1) * subset_size]\n",
    "        p_value = RCIT(subset, x, y, z)\n",
    "        p_values.append(p_value)\n",
    "\n",
    "    return p_values"
   ]
  },
  {
   "cell_type": "code",
   "execution_count": 11,
   "metadata": {},
   "outputs": [
    {
     "name": "stdout",
     "output_type": "stream",
     "text": [
      "chi2_stat: 4.220472440944882\n",
      "uniformity p value: 0.8367038584701809\n"
     ]
    }
   ],
   "source": [
    "def chi2_test(p_values, num_bins=10):\n",
    "    \"\"\"\n",
    "    Perform a chi-squared test for uniformity on the given p-values.\n",
    "\n",
    "    Parameters:\n",
    "    p_values (list or array): List of p-values to be tested.\n",
    "    num_bins (int): Number of bins for the histogram. \n",
    "\n",
    "    Returns:\n",
    "    chi2_stat (float): Chi-squared statistic.\n",
    "    p_val (float): p-value of the uniformity test.\n",
    "    \"\"\"\n",
    "    # Create bins for the histogram\n",
    "    bins = np.linspace(0, 1, num_bins)\n",
    "    \n",
    "    # Calculate observed frequencies\n",
    "    observed, _ = np.histogram(p_values, bins=bins)\n",
    "    \n",
    "    # Calculate expected frequencies\n",
    "    total_observations = sum(observed)\n",
    "    num_groups = len(observed)\n",
    "    expected = [total_observations / num_groups] * num_groups\n",
    "    \n",
    "    # Perform chi-squared test\n",
    "    chi2_stat, p_val = chisquare(observed, expected)\n",
    "    \n",
    "    return chi2_stat, p_val\n",
    "\n",
    "# Example usage\n",
    "p_values2 = np.random.uniform(0, 2, 1000)  # Example p-values\n",
    "chi2_stat, p_val = chi2_test(p_values2)\n",
    "\n",
    "print(f\"chi2_stat: {chi2_stat}\")\n",
    "print(f\"uniformity p value: {p_val}\")"
   ]
  },
  {
   "cell_type": "code",
   "execution_count": 12,
   "metadata": {},
   "outputs": [],
   "source": [
    "def graph(p_values):\n",
    "\n",
    "    # Plotting the histogram of p-values\n",
    "    plt.figure(figsize=(5,3))\n",
    "    plt.hist(p_values, bins=50, color='blue', alpha=0.6, label='RCIT p-values')\n",
    "    plt.xlabel('p-value')\n",
    "    plt.ylabel('Frequency')\n",
    "    plt.legend()\n",
    "    plt.show()"
   ]
  },
  {
   "cell_type": "code",
   "execution_count": 13,
   "metadata": {},
   "outputs": [],
   "source": [
    "def graph2(p_values1, p_values2):\n",
    "    # Plotting the histogram of p-values\n",
    "    plt.figure(figsize=(5,3))\n",
    "    plt.hist(p_values1, bins=50, color='blue', alpha=0.6, label='Conditional test')\n",
    "    plt.hist(p_values2, bins=50, color='red', alpha=0.6, label='Unconditional test')\n",
    "    plt.xlabel('p-value')\n",
    "    plt.ylabel('Frequency')\n",
    "    plt.legend()\n",
    "    plt.show()"
   ]
  },
  {
   "cell_type": "markdown",
   "metadata": {},
   "source": [
    "### Conditional Independence Tests\n",
    "#### 1.2. Determinants for Emissions"
   ]
  },
  {
   "cell_type": "markdown",
   "metadata": {},
   "source": [
    "LOGSIZE_t0 ⊥ RET_t1 | B/M_t0, Emissions, INVEST/A, LEVERAGE, LOGPPE_t0, ROE, SALES"
   ]
  },
  {
   "cell_type": "code",
   "execution_count": 84,
   "metadata": {},
   "outputs": [],
   "source": [
    "X = regression_data_shifted  \n",
    "\n",
    "x = regression_data_shifted.columns.get_loc('RET_t+1')\n",
    "y = regression_data_shifted.columns.get_loc('LOGSIZE_t-1')\n",
    "z = [regression_data_shifted.columns.get_loc('SALES'), regression_data_shifted.columns.get_loc('LEVERAGE'),\\\n",
    "     regression_data_shifted.columns.get_loc('INVEST_A'), regression_data_shifted.columns.get_loc('LOGPPE_t-1'), \\\n",
    "     regression_data_shifted.columns.get_loc('total_emission_scope1'), regression_data_shifted.columns.get_loc('B_M_t-1'),\\\n",
    "     regression_data_shifted.columns.get_loc('ROE')]"
   ]
  },
  {
   "cell_type": "code",
   "execution_count": 94,
   "metadata": {},
   "outputs": [
    {
     "name": "stdout",
     "output_type": "stream",
     "text": [
      "average p value (conditional): 0.32695473419802085\n",
      "uniformity test p-value (conditional): 0.007130618236415638\n",
      "average p value (unconditional): 0.262752706534065\n",
      "uniformity test p-value (unconditional): 9.687186474991967e-19\n"
     ]
    }
   ],
   "source": [
    "# run conditional independence tests\n",
    "p_values1 = cross_sectional_rcit(X, x, y, z, num_subsets=222)\n",
    "p_mean = np.average(p_values1)\n",
    "print(f\"average p value (conditional): {p_mean}\")\n",
    "\n",
    "# uniformity test\n",
    "chi2_statistic, p_value = chi2_test(p_values1, 100)\n",
    "print(f\"uniformity test p-value (conditional): {p_value}\")\n",
    "\n",
    "# run unconditional independence tests\n",
    "p_values2 = cross_sectional_rcit(X, x, y, z=None, num_subsets=111)\n",
    "p_mean = np.average(p_values2)\n",
    "print(f\"average p value (unconditional): {p_mean}\")\n",
    "\n",
    "# uniformity test\n",
    "chi2_statistic, p_value = chi2_test(p_values2, 100)\n",
    "print(f\"uniformity test p-value (unconditional): {p_value}\")"
   ]
  },
  {
   "cell_type": "code",
   "execution_count": 34,
   "metadata": {},
   "outputs": [
    {
     "data": {
      "image/png": "[encoded data removed]",
      "text/plain": [
       "<Figure size 500x300 with 1 Axes>"
      ]
     },
     "metadata": {},
     "output_type": "display_data"
    }
   ],
   "source": [
    "plt.figure(figsize=(5,3))\n",
    "plt.hist(p_values1, bins=50, color='blue', alpha=0.6, label='Conditional test')\n",
    "plt.hist(p_values2, bins=50, color='red', alpha=0.6, label='Unconditional test')\n",
    "plt.xlabel('p-value')\n",
    "plt.ylabel('Frequency')\n",
    "plt.legend()\n",
    "plt.show()"
   ]
  },
  {
   "cell_type": "markdown",
   "metadata": {},
   "source": [
    "LOGPPE_t0 ⊥ RET_t1 | B/M_t0, Emissions, INVEST/A, LEVERAGE, LOGSIZE_t0, SALES"
   ]
  },
  {
   "cell_type": "code",
   "execution_count": 35,
   "metadata": {},
   "outputs": [],
   "source": [
    "X = regression_data_shifted  \n",
    "\n",
    "x = regression_data_shifted.columns.get_loc('RET_t+1')\n",
    "y = regression_data_shifted.columns.get_loc('LOGPPE_t-1')\n",
    "z = [regression_data_shifted.columns.get_loc('SALES'), regression_data_shifted.columns.get_loc('LEVERAGE'),\\\n",
    "     regression_data_shifted.columns.get_loc('INVEST_A'),  \\\n",
    "     regression_data_shifted.columns.get_loc('total_emission_scope1'), regression_data_shifted.columns.get_loc('B_M_t-1'),\\\n",
    "     regression_data_shifted.columns.get_loc('LOGSIZE_t-1')]"
   ]
  },
  {
   "cell_type": "code",
   "execution_count": 36,
   "metadata": {},
   "outputs": [
    {
     "name": "stdout",
     "output_type": "stream",
     "text": [
      "average p value (conditional): 0.2607853569899962\n",
      "uniformity test p-value (conditional): 9.541376556723333e-150\n",
      "average p value (unconditional): 0.2406043034551039\n",
      "uniformity test p-value (unconditional): 3.9265287694154425e-56\n"
     ]
    }
   ],
   "source": [
    "# run conditional independence tests\n",
    "p_values1 = cross_sectional_rcit(X, x, y, z, num_subsets=222)\n",
    "p_mean = np.average(p_values1)\n",
    "print(f\"average p value (conditional): {p_mean}\")\n",
    "\n",
    "# uniformity test\n",
    "chi2_statistic, p_value = chi2_test(p_values1, 200)\n",
    "print(f\"uniformity test p-value (conditional): {p_value}\")\n",
    "\n",
    "# run unconditional independence tests\n",
    "p_values2 = cross_sectional_rcit(X, x, y, z=None, num_subsets=111)\n",
    "p_mean = np.average(p_values2)\n",
    "print(f\"average p value (unconditional): {p_mean}\")\n",
    "\n",
    "# uniformity test\n",
    "chi2_statistic, p_value = chi2_test(p_values2, 100)\n",
    "print(f\"uniformity test p-value (unconditional): {p_value}\")"
   ]
  },
  {
   "cell_type": "code",
   "execution_count": 37,
   "metadata": {},
   "outputs": [
    {
     "data": {
      "image/png": "[encoded data removed]",
      "text/plain": [
       "<Figure size 500x300 with 1 Axes>"
      ]
     },
     "metadata": {},
     "output_type": "display_data"
    }
   ],
   "source": [
    "plt.figure(figsize=(5,3))\n",
    "plt.hist(p_values1, bins=50, color='blue', alpha=0.6, label='Conditional test')\n",
    "plt.hist(p_values2, bins=50, color='red', alpha=0.6, label='Unconditional test')\n",
    "plt.xlabel('p-value')\n",
    "plt.ylabel('Frequency')\n",
    "plt.legend()\n",
    "plt.show()"
   ]
  },
  {
   "cell_type": "markdown",
   "metadata": {},
   "source": [
    "B/M_t0 ⊥ RET_t1 | INVEST/A, LEVERAGE, LOGPPE_t0, LOGSIZE_t0"
   ]
  },
  {
   "cell_type": "code",
   "execution_count": 79,
   "metadata": {},
   "outputs": [],
   "source": [
    "X = regression_data_shifted  \n",
    "\n",
    "x = regression_data_shifted.columns.get_loc('RET_t+1')\n",
    "y = regression_data_shifted.columns.get_loc('B_M_t-1')\n",
    "z = [regression_data_shifted.columns.get_loc('LEVERAGE'),\\\n",
    "     regression_data_shifted.columns.get_loc('INVEST_A'),  \\\n",
    "     regression_data_shifted.columns.get_loc('LOGPPE_t-1'),\\\n",
    "     regression_data_shifted.columns.get_loc('LOGSIZE_t-1')]"
   ]
  },
  {
   "cell_type": "code",
   "execution_count": 83,
   "metadata": {},
   "outputs": [
    {
     "name": "stdout",
     "output_type": "stream",
     "text": [
      "average p value (conditional): 0.24611688417473324\n",
      "uniformity test p-value (conditional): 1.0996553091860977e-94\n",
      "average p value (unconditional): 0.24750082555482933\n",
      "uniformity test p-value (unconditional): 5.191039652069086e-50\n"
     ]
    }
   ],
   "source": [
    "# run conditional independence tests\n",
    "p_values1 = cross_sectional_rcit(X, x, y, z, num_subsets=200)\n",
    "p_mean = np.average(p_values1)\n",
    "print(f\"average p value (conditional): {p_mean}\")\n",
    "\n",
    "# uniformity test\n",
    "chi2_statistic, p_value = chi2_test(p_values1, 100)\n",
    "print(f\"uniformity test p-value (conditional): {p_value}\")\n",
    "\n",
    "# run unconditional independence tests\n",
    "p_values2 = cross_sectional_rcit(X, x, y, z=None, num_subsets=100)\n",
    "p_mean = np.average(p_values2)\n",
    "print(f\"average p value (unconditional): {p_mean}\")\n",
    "\n",
    "# uniformity test\n",
    "chi2_statistic, p_value = chi2_test(p_values2, 100)\n",
    "print(f\"uniformity test p-value (unconditional): {p_value}\")"
   ]
  },
  {
   "cell_type": "code",
   "execution_count": 40,
   "metadata": {},
   "outputs": [
    {
     "data": {
      "image/png": "[encoded data removed]",
      "text/plain": [
       "<Figure size 500x300 with 1 Axes>"
      ]
     },
     "metadata": {},
     "output_type": "display_data"
    }
   ],
   "source": [
    "plt.figure(figsize=(5,3))\n",
    "plt.hist(p_values1, bins=50, color='blue', alpha=0.6, label='Conditional test')\n",
    "plt.hist(p_values2, bins=50, color='red', alpha=0.6, label='Unconditional test')\n",
    "plt.xlabel('p-value')\n",
    "plt.ylabel('Frequency')\n",
    "plt.legend()\n",
    "plt.show()"
   ]
  },
  {
   "cell_type": "markdown",
   "metadata": {},
   "source": [
    "INVEST/A ⊥ RET_t1 | B/M_t0, Emissions, LEVERAGE, LOGPPE_t0, LOGSIZE_t0, SALES"
   ]
  },
  {
   "cell_type": "code",
   "execution_count": 41,
   "metadata": {},
   "outputs": [],
   "source": [
    "X = regression_data_shifted  \n",
    "\n",
    "x = regression_data_shifted.columns.get_loc('RET_t+1')\n",
    "y = regression_data_shifted.columns.get_loc('INVEST_A')\n",
    "z = [regression_data_shifted.columns.get_loc('SALES'), regression_data_shifted.columns.get_loc('LEVERAGE'),\\\n",
    "     regression_data_shifted.columns.get_loc('LOGPPE_t-1'),  \\\n",
    "     regression_data_shifted.columns.get_loc('total_emission_scope1'), regression_data_shifted.columns.get_loc('B_M_t-1'),\\\n",
    "     regression_data_shifted.columns.get_loc('LOGSIZE_t-1')]"
   ]
  },
  {
   "cell_type": "code",
   "execution_count": 42,
   "metadata": {},
   "outputs": [
    {
     "name": "stdout",
     "output_type": "stream",
     "text": [
      "average p value (conditional): 0.26330707787194024\n",
      "uniformity test p-value (conditional): 2.214095396764971e-213\n",
      "average p value (unconditional): 0.28448825424041896\n",
      "uniformity test p-value (unconditional): 6.689715819227898e-35\n"
     ]
    }
   ],
   "source": [
    "# run conditional independence tests\n",
    "p_values1 = cross_sectional_rcit(X, x, y, z, num_subsets=222)\n",
    "p_mean = np.average(p_values1)\n",
    "print(f\"average p value (conditional): {p_mean}\")\n",
    "\n",
    "# uniformity test\n",
    "chi2_statistic, p_value = chi2_test(p_values1, 200)\n",
    "print(f\"uniformity test p-value (conditional): {p_value}\")\n",
    "\n",
    "# run unconditional independence tests\n",
    "p_values2 = cross_sectional_rcit(X, x, y, z=None, num_subsets=111)\n",
    "p_mean = np.average(p_values2)\n",
    "print(f\"average p value (unconditional): {p_mean}\")\n",
    "\n",
    "# uniformity test\n",
    "chi2_statistic, p_value = chi2_test(p_values2, 100)\n",
    "print(f\"uniformity test p-value (unconditional): {p_value}\")"
   ]
  },
  {
   "cell_type": "code",
   "execution_count": 43,
   "metadata": {},
   "outputs": [
    {
     "data": {
      "image/png": "[encoded data removed]",
      "text/plain": [
       "<Figure size 500x300 with 1 Axes>"
      ]
     },
     "metadata": {},
     "output_type": "display_data"
    }
   ],
   "source": [
    "plt.figure(figsize=(5,3))\n",
    "plt.hist(p_values1, bins=50, color='blue', alpha=0.6, label='Conditional test')\n",
    "plt.hist(p_values2, bins=50, color='red', alpha=0.6, label='Unconditional test')\n",
    "plt.xlabel('p-value')\n",
    "plt.ylabel('Frequency')\n",
    "plt.legend()\n",
    "plt.show()"
   ]
  },
  {
   "cell_type": "markdown",
   "metadata": {},
   "source": [
    "RET_t1 ⊥ SALES | Emissions, INVEST/A, LEVERAGE, LOGPPE_t0, LOGSIZE_t0, ROE"
   ]
  },
  {
   "cell_type": "code",
   "execution_count": 44,
   "metadata": {},
   "outputs": [],
   "source": [
    "X = regression_data_shifted  \n",
    "\n",
    "x = regression_data_shifted.columns.get_loc('RET_t+1')\n",
    "y = regression_data_shifted.columns.get_loc('SALES')\n",
    "z = [regression_data_shifted.columns.get_loc('INVEST_A'), regression_data_shifted.columns.get_loc('LEVERAGE'),\\\n",
    "     regression_data_shifted.columns.get_loc('LOGPPE_t-1'),  \\\n",
    "     regression_data_shifted.columns.get_loc('total_emission_scope1'), regression_data_shifted.columns.get_loc('ROE'),\\\n",
    "     regression_data_shifted.columns.get_loc('LOGSIZE_t-1')]"
   ]
  },
  {
   "cell_type": "code",
   "execution_count": 45,
   "metadata": {},
   "outputs": [
    {
     "name": "stdout",
     "output_type": "stream",
     "text": [
      "average p value (conditional): 0.25064426910923454\n",
      "uniformity test p-value (conditional): 7.917463555516307e-111\n",
      "average p value (unconditional): 0.23332570146280668\n",
      "uniformity test p-value (unconditional): 9.66690277190132e-64\n"
     ]
    }
   ],
   "source": [
    "# run conditional independence tests\n",
    "p_values1 = cross_sectional_rcit(X, x, y, z, num_subsets=222)\n",
    "p_mean = np.average(p_values1)\n",
    "print(f\"average p value (conditional): {p_mean}\")\n",
    "\n",
    "# uniformity test\n",
    "chi2_statistic, p_value = chi2_test(p_values1, 200)\n",
    "print(f\"uniformity test p-value (conditional): {p_value}\")\n",
    "\n",
    "# run unconditional independence tests\n",
    "p_values2 = cross_sectional_rcit(X, x, y, z=None, num_subsets=111)\n",
    "p_mean = np.average(p_values2)\n",
    "print(f\"average p value (unconditional): {p_mean}\")\n",
    "\n",
    "# uniformity test\n",
    "chi2_statistic, p_value = chi2_test(p_values2, 100)\n",
    "print(f\"uniformity test p-value (unconditional): {p_value}\")"
   ]
  },
  {
   "cell_type": "code",
   "execution_count": 46,
   "metadata": {},
   "outputs": [
    {
     "data": {
      "image/png": "[encoded data removed]",
      "text/plain": [
       "<Figure size 500x300 with 1 Axes>"
      ]
     },
     "metadata": {},
     "output_type": "display_data"
    }
   ],
   "source": [
    "plt.figure(figsize=(5,3))\n",
    "plt.hist(p_values1, bins=50, color='blue', alpha=0.6, label='Conditional test')\n",
    "plt.hist(p_values2, bins=50, color='red', alpha=0.6, label='Unconditional test')\n",
    "plt.xlabel('p-value')\n",
    "plt.ylabel('Frequency')\n",
    "plt.legend()\n",
    "plt.show()"
   ]
  },
  {
   "cell_type": "markdown",
   "metadata": {},
   "source": [
    "RET_t1 ⊥ ROE | EPSGR, LOGSIZE_t0, SALES"
   ]
  },
  {
   "cell_type": "code",
   "execution_count": 47,
   "metadata": {},
   "outputs": [],
   "source": [
    "X = regression_data_shifted  \n",
    "\n",
    "x = regression_data_shifted.columns.get_loc('RET_t+1')\n",
    "y = regression_data_shifted.columns.get_loc('ROE')\n",
    "z = [regression_data_shifted.columns.get_loc('EPSGR'), regression_data_shifted.columns.get_loc('SALES'),\\\n",
    "     regression_data_shifted.columns.get_loc('LOGSIZE_t-1')]"
   ]
  },
  {
   "cell_type": "code",
   "execution_count": 48,
   "metadata": {},
   "outputs": [
    {
     "name": "stdout",
     "output_type": "stream",
     "text": [
      "average p value (conditional): 0.23230070094356436\n",
      "uniformity test p-value (conditional): 5.968748327918951e-186\n",
      "average p value (unconditional): 0.2084104438046297\n",
      "uniformity test p-value (unconditional): 3.04295494176922e-27\n"
     ]
    }
   ],
   "source": [
    "# run conditional independence tests\n",
    "p_values1 = cross_sectional_rcit(X, x, y, z, num_subsets=222)\n",
    "p_mean = np.average(p_values1)\n",
    "print(f\"average p value (conditional): {p_mean}\")\n",
    "\n",
    "# uniformity test\n",
    "chi2_statistic, p_value = chi2_test(p_values1, 200)\n",
    "print(f\"uniformity test p-value (conditional): {p_value}\")\n",
    "\n",
    "# run unconditional independence tests\n",
    "p_values2 = cross_sectional_rcit(X, x, y, z=None, num_subsets=111)\n",
    "p_mean = np.average(p_values2)\n",
    "print(f\"average p value (unconditional): {p_mean}\")\n",
    "\n",
    "# uniformity test\n",
    "chi2_statistic, p_value = chi2_test(p_values2, 100)\n",
    "print(f\"uniformity test p-value (unconditional): {p_value}\")"
   ]
  },
  {
   "cell_type": "code",
   "execution_count": 49,
   "metadata": {},
   "outputs": [
    {
     "data": {
      "image/png": "[encoded data removed]",
      "text/plain": [
       "<Figure size 500x300 with 1 Axes>"
      ]
     },
     "metadata": {},
     "output_type": "display_data"
    }
   ],
   "source": [
    "plt.figure(figsize=(5,3))\n",
    "plt.hist(p_values1, bins=50, color='blue', alpha=0.6, label='Conditional test')\n",
    "plt.hist(p_values2, bins=50, color='red', alpha=0.6, label='Unconditional test')\n",
    "plt.xlabel('p-value')\n",
    "plt.ylabel('Frequency')\n",
    "plt.legend()\n",
    "plt.show()"
   ]
  },
  {
   "cell_type": "markdown",
   "metadata": {},
   "source": [
    "EPSGR ⊥ RET_t1 | ROE"
   ]
  },
  {
   "cell_type": "code",
   "execution_count": 75,
   "metadata": {},
   "outputs": [],
   "source": [
    "X = regression_data_shifted  \n",
    "\n",
    "x = regression_data_shifted.columns.get_loc('RET_t+1')\n",
    "y = regression_data_shifted.columns.get_loc('EPSGR')\n",
    "z = [regression_data_shifted.columns.get_loc('ROE')]"
   ]
  },
  {
   "cell_type": "code",
   "execution_count": 78,
   "metadata": {},
   "outputs": [
    {
     "name": "stdout",
     "output_type": "stream",
     "text": [
      "average p value (conditional): 0.35320642458983154\n",
      "uniformity test p-value (conditional): 0.08144728134904429\n",
      "average p value (unconditional): 0.27186971721368386\n",
      "uniformity test p-value (unconditional): 2.535319562621752e-07\n"
     ]
    }
   ],
   "source": [
    "# run conditional independence tests\n",
    "p_values1 = cross_sectional_rcit(X, x, y, z, num_subsets=100)\n",
    "p_mean = np.average(p_values1)\n",
    "print(f\"average p value (conditional): {p_mean}\")\n",
    "\n",
    "# uniformity test\n",
    "chi2_statistic, p_value = chi2_test(p_values1, 200)\n",
    "print(f\"uniformity test p-value (conditional): {p_value}\")\n",
    "\n",
    "# run unconditional independence tests\n",
    "p_values2 = cross_sectional_rcit(X, x, y, z=None, num_subsets=100)\n",
    "p_mean = np.average(p_values2)\n",
    "print(f\"average p value (unconditional): {p_mean}\")\n",
    "\n",
    "# uniformity test\n",
    "chi2_statistic, p_value = chi2_test(p_values2, 100)\n",
    "print(f\"uniformity test p-value (unconditional): {p_value}\")"
   ]
  },
  {
   "cell_type": "code",
   "execution_count": 52,
   "metadata": {},
   "outputs": [
    {
     "data": {
      "image/png": "[encoded data removed]",
      "text/plain": [
       "<Figure size 500x300 with 1 Axes>"
      ]
     },
     "metadata": {},
     "output_type": "display_data"
    }
   ],
   "source": [
    "plt.figure(figsize=(5,3))\n",
    "plt.hist(p_values1, bins=50, color='blue', alpha=0.6, label='Conditional test')\n",
    "plt.hist(p_values2, bins=50, color='red', alpha=0.6, label='Unconditional test')\n",
    "plt.xlabel('p-value')\n",
    "plt.ylabel('Frequency')\n",
    "plt.legend()\n",
    "plt.show()"
   ]
  },
  {
   "cell_type": "markdown",
   "metadata": {},
   "source": [
    "RET_t1 ⊥ VOLAT | LEVERAGE"
   ]
  },
  {
   "cell_type": "code",
   "execution_count": 56,
   "metadata": {},
   "outputs": [],
   "source": [
    "X = regression_data_shifted  \n",
    "\n",
    "x = regression_data_shifted.columns.get_loc('total_emission_scope1')\n",
    "y = regression_data_shifted.columns.get_loc('VOLAT')\n",
    "z = [regression_data_shifted.columns.get_loc('LEVERAGE')]"
   ]
  },
  {
   "cell_type": "code",
   "execution_count": 57,
   "metadata": {},
   "outputs": [
    {
     "name": "stdout",
     "output_type": "stream",
     "text": [
      "average p value (conditional): 0.02590557009635281\n",
      "uniformity test p-value (conditional): 0.0\n",
      "average p value (unconditional): 0.005278175555050193\n",
      "uniformity test p-value (unconditional): 0.0\n"
     ]
    }
   ],
   "source": [
    "# run conditional independence tests\n",
    "p_values1 = cross_sectional_rcit(X, x, y, z, num_subsets=222)\n",
    "p_mean = np.average(p_values1)\n",
    "print(f\"average p value (conditional): {p_mean}\")\n",
    "\n",
    "# uniformity test\n",
    "chi2_statistic, p_value = chi2_test(p_values1, 200)\n",
    "print(f\"uniformity test p-value (conditional): {p_value}\")\n",
    "\n",
    "# run unconditional independence tests\n",
    "p_values2 = cross_sectional_rcit(X, x, y, z=None, num_subsets=100)\n",
    "p_mean = np.average(p_values2)\n",
    "print(f\"average p value (unconditional): {p_mean}\")\n",
    "\n",
    "# uniformity test\n",
    "chi2_statistic, p_value = chi2_test(p_values2, 100)\n",
    "print(f\"uniformity test p-value (unconditional): {p_value}\")"
   ]
  },
  {
   "cell_type": "code",
   "execution_count": 58,
   "metadata": {},
   "outputs": [
    {
     "data": {
      "image/png": "[encoded data removed]",
      "text/plain": [
       "<Figure size 500x300 with 1 Axes>"
      ]
     },
     "metadata": {},
     "output_type": "display_data"
    }
   ],
   "source": [
    "plt.figure(figsize=(5,3))\n",
    "plt.hist(p_values1, bins=50, color='blue', alpha=0.6, label='Conditional test')\n",
    "plt.hist(p_values2, bins=13, color='red', alpha=0.6, label='Unconditional test')\n",
    "plt.xlabel('p-value')\n",
    "plt.ylabel('Frequency')\n",
    "plt.legend()\n",
    "plt.show()"
   ]
  },
  {
   "cell_type": "markdown",
   "metadata": {},
   "source": [
    "RET_t1 ⊥ VOLAT_t1 | LEVERAGE "
   ]
  },
  {
   "cell_type": "code",
   "execution_count": 25,
   "metadata": {},
   "outputs": [],
   "source": [
    "X = regression_data_shifted  \n",
    "\n",
    "x = regression_data_shifted.columns.get_loc('total_emission_scope1')\n",
    "y = regression_data_shifted.columns.get_loc('VOLAT_t+1')\n",
    "z = [regression_data_shifted.columns.get_loc('LEVERAGE')]"
   ]
  },
  {
   "cell_type": "code",
   "execution_count": 26,
   "metadata": {},
   "outputs": [
    {
     "name": "stdout",
     "output_type": "stream",
     "text": [
      "average p value (conditional): 0.019820549981899832\n",
      "uniformity test p-value (conditional): 0.0\n",
      "average p value (unconditional): 0.006090845471693066\n",
      "uniformity test p-value (unconditional): 0.0\n"
     ]
    }
   ],
   "source": [
    "# run conditional independence tests\n",
    "p_values1 = cross_sectional_rcit(X, x, y, z, num_subsets=222)\n",
    "p_mean = np.average(p_values1)\n",
    "print(f\"average p value (conditional): {p_mean}\")\n",
    "\n",
    "# uniformity test\n",
    "chi2_statistic, p_value = chi2_test(p_values1, 200)\n",
    "print(f\"uniformity test p-value (conditional): {p_value}\")\n",
    "\n",
    "# run unconditional independence tests\n",
    "p_values2 = cross_sectional_rcit(X, x, y, z=None, num_subsets=100)\n",
    "p_mean = np.average(p_values2)\n",
    "print(f\"average p value (unconditional): {p_mean}\")\n",
    "\n",
    "# uniformity test\n",
    "chi2_statistic, p_value = chi2_test(p_values2, 100)\n",
    "print(f\"uniformity test p-value (unconditional): {p_value}\")"
   ]
  },
  {
   "cell_type": "code",
   "execution_count": 30,
   "metadata": {},
   "outputs": [
    {
     "data": {
      "image/png": "[encoded data removed]",
      "text/plain": [
       "<Figure size 500x300 with 1 Axes>"
      ]
     },
     "metadata": {},
     "output_type": "display_data"
    }
   ],
   "source": [
    "plt.figure(figsize=(5,3))\n",
    "plt.hist(p_values1, bins=50, color='blue', alpha=0.6, label='Conditional test')\n",
    "plt.hist(p_values2, bins=13, color='red', alpha=0.6, label='Unconditional test')\n",
    "plt.xlabel('p-value')\n",
    "plt.ylabel('Frequency')\n",
    "plt.legend()\n",
    "plt.show()"
   ]
  },
  {
   "cell_type": "markdown",
   "metadata": {},
   "source": [
    "LEVERAGE ⊥ RET_t1 | B/M_t0, Emissions, INVEST/A, LOGPPE_t0, LOGSIZE_t0, SALES, VOLAT"
   ]
  },
  {
   "cell_type": "code",
   "execution_count": 53,
   "metadata": {},
   "outputs": [],
   "source": [
    "X = regression_data_shifted  \n",
    "\n",
    "x = regression_data_shifted.columns.get_loc('RET_t+1')\n",
    "y = regression_data_shifted.columns.get_loc('LEVERAGE')\n",
    "z = [regression_data_shifted.columns.get_loc('SALES'), regression_data_shifted.columns.get_loc('LOGSIZE_t-1'),\\\n",
    "     regression_data_shifted.columns.get_loc('INVEST_A'), regression_data_shifted.columns.get_loc('LOGPPE_t-1'), \\\n",
    "     regression_data_shifted.columns.get_loc('total_emission_scope1'), regression_data_shifted.columns.get_loc('B_M_t-1'),\\\n",
    "     regression_data_shifted.columns.get_loc('VOLAT')]"
   ]
  },
  {
   "cell_type": "code",
   "execution_count": 54,
   "metadata": {},
   "outputs": [
    {
     "name": "stdout",
     "output_type": "stream",
     "text": [
      "average p value (conditional): 0.1095153920285687\n",
      "uniformity test p-value (conditional): 0.0\n",
      "average p value (unconditional): 0.26945474928968444\n",
      "uniformity test p-value (unconditional): 8.499838656330194e-28\n"
     ]
    }
   ],
   "source": [
    "# run conditional independence tests\n",
    "p_values1 = cross_sectional_rcit(X, x, y, z, num_subsets=222)\n",
    "p_mean = np.average(p_values1)\n",
    "print(f\"average p value (conditional): {p_mean}\")\n",
    "\n",
    "# uniformity test\n",
    "chi2_statistic, p_value = chi2_test(p_values1, 200)\n",
    "print(f\"uniformity test p-value (conditional): {p_value}\")\n",
    "\n",
    "# run unconditional independence tests\n",
    "p_values2 = cross_sectional_rcit(X, x, y, z=None, num_subsets=111)\n",
    "p_mean = np.average(p_values2)\n",
    "print(f\"average p value (unconditional): {p_mean}\")\n",
    "\n",
    "# uniformity test\n",
    "chi2_statistic, p_value = chi2_test(p_values2, 100)\n",
    "print(f\"uniformity test p-value (unconditional): {p_value}\")"
   ]
  },
  {
   "cell_type": "code",
   "execution_count": 55,
   "metadata": {},
   "outputs": [
    {
     "data": {
      "image/png": "[encoded data removed]",
      "text/plain": [
       "<Figure size 500x300 with 1 Axes>"
      ]
     },
     "metadata": {},
     "output_type": "display_data"
    }
   ],
   "source": [
    "plt.figure(figsize=(5,3))\n",
    "plt.hist(p_values1, bins=50, color='blue', alpha=0.6, label='Conditional test')\n",
    "plt.hist(p_values2, bins=50, color='red', alpha=0.6, label='Unconditional test')\n",
    "plt.xlabel('p-value')\n",
    "plt.ylabel('Frequency')\n",
    "plt.legend()\n",
    "plt.show()"
   ]
  },
  {
   "cell_type": "markdown",
   "metadata": {},
   "source": [
    "### Emissions - RET_t1"
   ]
  },
  {
   "cell_type": "markdown",
   "metadata": {},
   "source": [
    "Emissions ⊥ RET_t1 | INVEST/A, LEVERAGE, LOGPPE_t0, LOGSIZE_t0, SALES"
   ]
  },
  {
   "cell_type": "code",
   "execution_count": 59,
   "metadata": {},
   "outputs": [],
   "source": [
    "X = regression_data_shifted  \n",
    "\n",
    "x = regression_data_shifted.columns.get_loc('RET_t+1')\n",
    "y = regression_data_shifted.columns.get_loc('total_emission_scope1')\n",
    "z = [regression_data_shifted.columns.get_loc('SALES'), regression_data_shifted.columns.get_loc('LOGSIZE_t-1'),\\\n",
    "     regression_data_shifted.columns.get_loc('INVEST_A'), regression_data_shifted.columns.get_loc('LOGPPE_t-1'), \\\n",
    "     regression_data_shifted.columns.get_loc('LEVERAGE')]"
   ]
  },
  {
   "cell_type": "code",
   "execution_count": 60,
   "metadata": {},
   "outputs": [
    {
     "name": "stdout",
     "output_type": "stream",
     "text": [
      "average p value (conditional): 0.2371589289365799\n",
      "uniformity test p-value (conditional): 7.873096084663164e-117\n",
      "average p value (unconditional): 0.23235306186922863\n",
      "uniformity test p-value (unconditional): 1.4862600304643667e-60\n"
     ]
    }
   ],
   "source": [
    "# run conditional independence tests\n",
    "p_values1 = cross_sectional_rcit(X, x, y, z, num_subsets=222)\n",
    "p_mean = np.average(p_values1)\n",
    "print(f\"average p value (conditional): {p_mean}\")\n",
    "\n",
    "# uniformity test\n",
    "chi2_statistic, p_value = chi2_test(p_values1, 200)\n",
    "print(f\"uniformity test p-value (conditional): {p_value}\")\n",
    "\n",
    "# run unconditional independence tests\n",
    "p_values2 = cross_sectional_rcit(X, x, y, z=None, num_subsets=111)\n",
    "p_mean = np.average(p_values2)\n",
    "print(f\"average p value (unconditional): {p_mean}\")\n",
    "\n",
    "# uniformity test\n",
    "chi2_statistic, p_value = chi2_test(p_values2, 100)\n",
    "print(f\"uniformity test p-value (unconditional): {p_value}\")"
   ]
  },
  {
   "cell_type": "code",
   "execution_count": 61,
   "metadata": {},
   "outputs": [
    {
     "data": {
      "image/png": "[encoded data removed]",
      "text/plain": [
       "<Figure size 500x300 with 1 Axes>"
      ]
     },
     "metadata": {},
     "output_type": "display_data"
    }
   ],
   "source": [
    "plt.figure(figsize=(5,3))\n",
    "plt.hist(p_values1, bins=50, color='blue', alpha=0.6, label='Conditional test')\n",
    "plt.hist(p_values2, bins=50, color='red', alpha=0.6, label='Unconditional test')\n",
    "plt.xlabel('p-value')\n",
    "plt.ylabel('Frequency')\n",
    "plt.legend()\n",
    "plt.show()"
   ]
  },
  {
   "cell_type": "code",
   "execution_count": 62,
   "metadata": {},
   "outputs": [],
   "source": [
    "X = regression_data_shifted  \n",
    "\n",
    "x = regression_data_shifted.columns.get_loc('RET_t+1')\n",
    "y = regression_data_shifted.columns.get_loc('total_emission_scope2')\n",
    "z = [regression_data_shifted.columns.get_loc('SALES'), regression_data_shifted.columns.get_loc('LOGSIZE_t-1'),\\\n",
    "     regression_data_shifted.columns.get_loc('INVEST_A'), regression_data_shifted.columns.get_loc('LOGPPE_t-1'), \\\n",
    "     regression_data_shifted.columns.get_loc('LEVERAGE')]"
   ]
  },
  {
   "cell_type": "code",
   "execution_count": 63,
   "metadata": {},
   "outputs": [
    {
     "name": "stdout",
     "output_type": "stream",
     "text": [
      "average p value (conditional): 0.2491991366663568\n",
      "uniformity test p-value (conditional): 1.9562055593514322e-106\n",
      "average p value (unconditional): 0.2633997401595454\n",
      "uniformity test p-value (unconditional): 3.926528769415329e-56\n"
     ]
    }
   ],
   "source": [
    "# run conditional independence tests\n",
    "p_values1 = cross_sectional_rcit(X, x, y, z, num_subsets=222)\n",
    "p_mean = np.average(p_values1)\n",
    "print(f\"average p value (conditional): {p_mean}\")\n",
    "\n",
    "# uniformity test\n",
    "chi2_statistic, p_value = chi2_test(p_values1, 200)\n",
    "print(f\"uniformity test p-value (conditional): {p_value}\")\n",
    "\n",
    "# run unconditional independence tests\n",
    "p_values2 = cross_sectional_rcit(X, x, y, z=None, num_subsets=111)\n",
    "p_mean = np.average(p_values2)\n",
    "print(f\"average p value (unconditional): {p_mean}\")\n",
    "\n",
    "# uniformity test\n",
    "chi2_statistic, p_value = chi2_test(p_values2, 100)\n",
    "print(f\"uniformity test p-value (unconditional): {p_value}\")"
   ]
  },
  {
   "cell_type": "code",
   "execution_count": 64,
   "metadata": {},
   "outputs": [
    {
     "data": {
      "image/png": "[encoded data removed]",
      "text/plain": [
       "<Figure size 500x300 with 1 Axes>"
      ]
     },
     "metadata": {},
     "output_type": "display_data"
    }
   ],
   "source": [
    "plt.figure(figsize=(5,3))\n",
    "plt.hist(p_values1, bins=50, color='blue', alpha=0.6, label='Conditional test')\n",
    "plt.hist(p_values2, bins=50, color='red', alpha=0.6, label='Unconditional test')\n",
    "plt.xlabel('p-value')\n",
    "plt.ylabel('Frequency')\n",
    "plt.legend()\n",
    "plt.show()"
   ]
  },
  {
   "cell_type": "code",
   "execution_count": 71,
   "metadata": {},
   "outputs": [],
   "source": [
    "X = regression_data_shifted  \n",
    "\n",
    "x = regression_data_shifted.columns.get_loc('RET_t+1')\n",
    "y = regression_data_shifted.columns.get_loc('emission_growth_scope1')\n",
    "z = [regression_data_shifted.columns.get_loc('SALES'), regression_data_shifted.columns.get_loc('LOGSIZE_t-1'),\\\n",
    "     regression_data_shifted.columns.get_loc('INVEST_A'), regression_data_shifted.columns.get_loc('LOGPPE_t-1'), \\\n",
    "     regression_data_shifted.columns.get_loc('LEVERAGE')]"
   ]
  },
  {
   "cell_type": "code",
   "execution_count": 74,
   "metadata": {},
   "outputs": [
    {
     "name": "stdout",
     "output_type": "stream",
     "text": [
      "average p value (conditional): 0.24448869009986524\n",
      "uniformity test p-value (conditional): 6.823973368308483e-206\n"
     ]
    }
   ],
   "source": [
    "# run conditional independence tests\n",
    "p_values1 = cross_sectional_rcit(X, x, y, z, num_subsets=222)\n",
    "p_mean = np.average(p_values1)\n",
    "print(f\"average p value (conditional): {p_mean}\")\n",
    "\n",
    "# uniformity test\n",
    "chi2_statistic, p_value = chi2_test(p_values1, 200)\n",
    "print(f\"uniformity test p-value (conditional): {p_value}\")"
   ]
  },
  {
   "cell_type": "code",
   "execution_count": 73,
   "metadata": {},
   "outputs": [
    {
     "name": "stdout",
     "output_type": "stream",
     "text": [
      "average p value (unconditional): 0.34400239330841553\n",
      "uniformity test p-value (unconditional): 0.052098613246567255\n"
     ]
    }
   ],
   "source": [
    "# run unconditional independence tests\n",
    "p_values2 = cross_sectional_rcit(X, x, y, z=None, num_subsets=111)\n",
    "p_mean = np.average(p_values2)\n",
    "print(f\"average p value (unconditional): {p_mean}\")\n",
    "\n",
    "# uniformity test\n",
    "chi2_statistic, p_value = chi2_test(p_values2, 100)\n",
    "print(f\"uniformity test p-value (unconditional): {p_value}\")"
   ]
  },
  {
   "cell_type": "code",
   "execution_count": 67,
   "metadata": {},
   "outputs": [
    {
     "data": {
      "image/png": "[encoded data removed]",
      "text/plain": [
       "<Figure size 500x300 with 1 Axes>"
      ]
     },
     "metadata": {},
     "output_type": "display_data"
    }
   ],
   "source": [
    "plt.figure(figsize=(5,3))\n",
    "plt.hist(p_values1, bins=50, color='blue', alpha=0.6, label='Conditional test')\n",
    "plt.hist(p_values2, bins=50, color='red', alpha=0.6, label='Unconditional test')\n",
    "plt.xlabel('p-value')\n",
    "plt.ylabel('Frequency')\n",
    "plt.legend()\n",
    "plt.show()"
   ]
  },
  {
   "cell_type": "code",
   "execution_count": 68,
   "metadata": {},
   "outputs": [],
   "source": [
    "X = regression_data_shifted  \n",
    "\n",
    "x = regression_data_shifted.columns.get_loc('RET_t+1')\n",
    "y = regression_data_shifted.columns.get_loc('emission_growth_scope2')\n",
    "z = [regression_data_shifted.columns.get_loc('SALES'), regression_data_shifted.columns.get_loc('LOGSIZE_t-1'),\\\n",
    "     regression_data_shifted.columns.get_loc('INVEST_A'), regression_data_shifted.columns.get_loc('LOGPPE_t-1'), \\\n",
    "     regression_data_shifted.columns.get_loc('LEVERAGE')]"
   ]
  },
  {
   "cell_type": "code",
   "execution_count": 69,
   "metadata": {},
   "outputs": [
    {
     "name": "stdout",
     "output_type": "stream",
     "text": [
      "average p value (conditional): 0.23013518368291452\n",
      "uniformity test p-value (conditional): 6.08748228099027e-109\n",
      "average p value (unconditional): 0.33754461641833516\n",
      "uniformity test p-value (unconditional): 2.9375249487358743e-05\n"
     ]
    }
   ],
   "source": [
    "# run conditional independence tests\n",
    "p_values1 = cross_sectional_rcit(X, x, y, z, num_subsets=222)\n",
    "p_mean = np.average(p_values1)\n",
    "print(f\"average p value (conditional): {p_mean}\")\n",
    "\n",
    "# uniformity test\n",
    "chi2_statistic, p_value = chi2_test(p_values1, 200)\n",
    "print(f\"uniformity test p-value (conditional): {p_value}\")\n",
    "\n",
    "# run unconditional independence tests\n",
    "p_values2 = cross_sectional_rcit(X, x, y, z=None, num_subsets=111)\n",
    "p_mean = np.average(p_values2)\n",
    "print(f\"average p value (unconditional): {p_mean}\")\n",
    "\n",
    "# uniformity test\n",
    "chi2_statistic, p_value = chi2_test(p_values2, 100)\n",
    "print(f\"uniformity test p-value (unconditional): {p_value}\")"
   ]
  },
  {
   "cell_type": "code",
   "execution_count": 70,
   "metadata": {},
   "outputs": [
    {
     "data": {
      "image/png": "[encoded data removed]",
      "text/plain": [
       "<Figure size 500x300 with 1 Axes>"
      ]
     },
     "metadata": {},
     "output_type": "display_data"
    }
   ],
   "source": [
    "plt.figure(figsize=(5,3))\n",
    "plt.hist(p_values1, bins=50, color='blue', alpha=0.6, label='Conditional test')\n",
    "plt.hist(p_values2, bins=50, color='red', alpha=0.6, label='Unconditional test')\n",
    "plt.xlabel('p-value')\n",
    "plt.ylabel('Frequency')\n",
    "plt.legend()\n",
    "plt.show()"
   ]
  },
  {
   "cell_type": "code",
   "execution_count": null,
   "metadata": {},
   "outputs": [],
   "source": []
  },
  {
   "cell_type": "code",
   "execution_count": null,
   "metadata": {},
   "outputs": [],
   "source": []
  }
 ],
 "metadata": {
  "kernelspec": {
   "display_name": "Python 3",
   "language": "python",
   "name": "python3"
  },
  "language_info": {
   "codemirror_mode": {
    "name": "ipython",
    "version": 3
   },
   "file_extension": ".py",
   "mimetype": "text/x-python",
   "name": "python",
   "nbconvert_exporter": "python",
   "pygments_lexer": "ipython3",
   "version": "3.11.5"
  }
 },
 "nbformat": 4,
 "nbformat_minor": 2
}
