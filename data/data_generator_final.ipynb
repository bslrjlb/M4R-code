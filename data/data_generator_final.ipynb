{
 "cells": [
  {
   "cell_type": "code",
   "execution_count": 311,
   "metadata": {},
   "outputs": [],
   "source": [
    "import numpy as np\n",
    "import pandas as pd\n",
    "import matplotlib.pyplot as plt\n",
    "import math\n",
    "from scipy.stats.mstats import winsorize"
   ]
  },
  {
   "cell_type": "markdown",
   "metadata": {},
   "source": [
    "### **Panel A: Emission variables**"
   ]
  },
  {
   "cell_type": "code",
   "execution_count": 312,
   "metadata": {},
   "outputs": [],
   "source": [
    "# load data as pandas data frames\n",
    "dataset_raw = pd.read_csv('dataset_raw.csv')\n",
    "\n",
    "# store emission variables\n",
    "emission_variables =  pd.DataFrame()"
   ]
  },
  {
   "cell_type": "code",
   "execution_count": 313,
   "metadata": {},
   "outputs": [],
   "source": [
    "dataset_sorted = dataset_raw.sort_values(['gvkey', 'fyear'])\n",
    "\n",
    "mask = (dataset_sorted['Scope_1'] > 0) & (dataset_sorted['Scope_2'] > 0)\n",
    "dataset_sorted['Scope_1'] = dataset_sorted['Scope_1'][mask]\n",
    "dataset_sorted['Scope_2'] = dataset_sorted['Scope_2'][mask]"
   ]
  },
  {
   "cell_type": "markdown",
   "metadata": {},
   "source": [
    "#### Log(total Emission)"
   ]
  },
  {
   "cell_type": "code",
   "execution_count": 314,
   "metadata": {},
   "outputs": [],
   "source": [
    "emission_variables['total_emission_scope1'] = np.log(dataset_sorted['Scope_1'])\n",
    "emission_variables['total_emission_scope2'] = np.log(dataset_sorted['Scope_2'])"
   ]
  },
  {
   "cell_type": "code",
   "execution_count": 315,
   "metadata": {},
   "outputs": [],
   "source": [
    "# store 'gvkey' and 'fyear' from the sorted dataset in the emission_variables dictionary\n",
    "emission_variables['gvkey'] = dataset_sorted['gvkey']\n",
    "emission_variables['fyear'] = dataset_sorted['fyear']"
   ]
  },
  {
   "cell_type": "markdown",
   "metadata": {},
   "source": [
    "#### Emission Growth Rate"
   ]
  },
  {
   "cell_type": "code",
   "execution_count": 316,
   "metadata": {},
   "outputs": [
    {
     "name": "stderr",
     "output_type": "stream",
     "text": [
      "C:\\Users\\18906\\AppData\\Local\\Temp\\ipykernel_13520\\1937878722.py:1: FutureWarning: The default fill_method='ffill' in SeriesGroupBy.pct_change is deprecated and will be removed in a future version. Either fill in any non-leading NA values prior to calling pct_change or specify 'fill_method=None' to not fill NA values.\n",
      "  emission_variables['emission_growth_scope1'] = dataset_sorted.groupby('gvkey')['Scope_1'].pct_change()\n",
      "C:\\Users\\18906\\AppData\\Local\\Temp\\ipykernel_13520\\1937878722.py:2: FutureWarning: The default fill_method='ffill' in SeriesGroupBy.pct_change is deprecated and will be removed in a future version. Either fill in any non-leading NA values prior to calling pct_change or specify 'fill_method=None' to not fill NA values.\n",
      "  emission_variables['emission_growth_scope2'] = dataset_sorted.groupby('gvkey')['Scope_2'].pct_change()\n"
     ]
    }
   ],
   "source": [
    "emission_variables['emission_growth_scope1'] = dataset_sorted.groupby('gvkey')['Scope_1'].pct_change()\n",
    "emission_variables['emission_growth_scope2'] = dataset_sorted.groupby('gvkey')['Scope_2'].pct_change()"
   ]
  },
  {
   "cell_type": "code",
   "execution_count": 317,
   "metadata": {},
   "outputs": [],
   "source": [
    "growth_rates1 = emission_variables['emission_growth_scope1']\n",
    "growth_rates2 = emission_variables['emission_growth_scope2']\n",
    "\n",
    "# inf, nan\n",
    "growth_rates1.replace([np.inf, -np.inf], np.nan, inplace=True)\n",
    "growth_rates1.dropna(inplace=True)\n",
    "growth_rates2.replace([np.inf, -np.inf], np.nan, inplace=True)\n",
    "growth_rates2.dropna(inplace=True)\n",
    "\n",
    "# winsorize\n",
    "winsorized_growth_rates1 = winsorize(growth_rates1, limits=[0.025, 0.025])\n",
    "winsorized_growth_rates2 = winsorize(growth_rates2, limits=[0.025, 0.025])"
   ]
  },
  {
   "cell_type": "code",
   "execution_count": 318,
   "metadata": {},
   "outputs": [],
   "source": [
    "# replace the emission growth by winsorized data\n",
    "emission_variables['emission_growth_scope1'] = pd.DataFrame(winsorized_growth_rates1)\n",
    "emission_variables['emission_growth_scope2'] = pd.DataFrame(winsorized_growth_rates2)"
   ]
  },
  {
   "cell_type": "markdown",
   "metadata": {},
   "source": [
    "### Carbon Intensity"
   ]
  },
  {
   "cell_type": "code",
   "execution_count": 319,
   "metadata": {},
   "outputs": [
    {
     "name": "stderr",
     "output_type": "stream",
     "text": [
      "C:\\Users\\18906\\AppData\\Local\\Temp\\ipykernel_13520\\3470311249.py:5: FutureWarning: A value is trying to be set on a copy of a DataFrame or Series through chained assignment using an inplace method.\n",
      "The behavior will change in pandas 3.0. This inplace method will never work because the intermediate object on which we are setting values always behaves as a copy.\n",
      "\n",
      "For example, when doing 'df[col].method(value, inplace=True)', try using 'df.method({col: value}, inplace=True)' or df[col] = df[col].method(value) instead, to perform the operation inplace on the original object.\n",
      "\n",
      "\n",
      "  emission_variables['carbon_intensity_scope1'].replace([np.inf, -np.inf], np.nan, inplace=True)\n",
      "C:\\Users\\18906\\AppData\\Local\\Temp\\ipykernel_13520\\3470311249.py:7: FutureWarning: A value is trying to be set on a copy of a DataFrame or Series through chained assignment using an inplace method.\n",
      "The behavior will change in pandas 3.0. This inplace method will never work because the intermediate object on which we are setting values always behaves as a copy.\n",
      "\n",
      "For example, when doing 'df[col].method(value, inplace=True)', try using 'df.method({col: value}, inplace=True)' or df[col] = df[col].method(value) instead, to perform the operation inplace on the original object.\n",
      "\n",
      "\n",
      "  emission_variables['carbon_intensity_scope2'].replace([np.inf, -np.inf], np.nan, inplace=True)\n"
     ]
    }
   ],
   "source": [
    "emission_variables['carbon_intensity_scope1'] = (dataset_sorted['Scope_1'] / (dataset_sorted['sale']*100)) \n",
    "emission_variables['carbon_intensity_scope2'] = (dataset_sorted['Scope_2'] / (dataset_sorted['sale']*100)) \n",
    "\n",
    "# inf, nan #\n",
    "emission_variables['carbon_intensity_scope1'].replace([np.inf, -np.inf], np.nan, inplace=True)\n",
    "emission_variables['carbon_intensity_scope1'].dropna(inplace=True)\n",
    "emission_variables['carbon_intensity_scope2'].replace([np.inf, -np.inf], np.nan, inplace=True)\n",
    "emission_variables['carbon_intensity_scope2'].dropna(inplace=True)\n",
    "\n",
    "# winsorize\n",
    "emission_variables['carbon_intensity_scope1'] = winsorize(emission_variables['carbon_intensity_scope1'], limits=[0.025, 0.025])\n",
    "emission_variables['carbon_intensity_scope2'] = winsorize(emission_variables['carbon_intensity_scope2'], limits=[0.025, 0.025])"
   ]
  },
  {
   "cell_type": "markdown",
   "metadata": {},
   "source": [
    "### Check emission data"
   ]
  },
  {
   "cell_type": "code",
   "execution_count": 320,
   "metadata": {},
   "outputs": [
    {
     "name": "stderr",
     "output_type": "stream",
     "text": [
      "c:\\Users\\18906\\Python\\Lib\\site-packages\\numpy\\lib\\function_base.py:4823: UserWarning: Warning: 'partition' will ignore the 'mask' of the MaskedArray.\n",
      "  arr.partition(\n",
      "c:\\Users\\18906\\Python\\Lib\\site-packages\\numpy\\lib\\function_base.py:4823: UserWarning: Warning: 'partition' will ignore the 'mask' of the MaskedArray.\n",
      "  arr.partition(\n",
      "c:\\Users\\18906\\Python\\Lib\\site-packages\\numpy\\lib\\function_base.py:4823: UserWarning: Warning: 'partition' will ignore the 'mask' of the MaskedArray.\n",
      "  arr.partition(\n",
      "c:\\Users\\18906\\Python\\Lib\\site-packages\\numpy\\lib\\function_base.py:4823: UserWarning: Warning: 'partition' will ignore the 'mask' of the MaskedArray.\n",
      "  arr.partition(\n",
      "c:\\Users\\18906\\Python\\Lib\\site-packages\\numpy\\lib\\function_base.py:4823: UserWarning: Warning: 'partition' will ignore the 'mask' of the MaskedArray.\n",
      "  arr.partition(\n",
      "c:\\Users\\18906\\Python\\Lib\\site-packages\\numpy\\lib\\function_base.py:4823: UserWarning: Warning: 'partition' will ignore the 'mask' of the MaskedArray.\n",
      "  arr.partition(\n"
     ]
    },
    {
     "data": {
      "text/html": [
       "<div>\n",
       "<style scoped>\n",
       "    .dataframe tbody tr th:only-of-type {\n",
       "        vertical-align: middle;\n",
       "    }\n",
       "\n",
       "    .dataframe tbody tr th {\n",
       "        vertical-align: top;\n",
       "    }\n",
       "\n",
       "    .dataframe thead th {\n",
       "        text-align: right;\n",
       "    }\n",
       "</style>\n",
       "<table border=\"1\" class=\"dataframe\">\n",
       "  <thead>\n",
       "    <tr style=\"text-align: right;\">\n",
       "      <th></th>\n",
       "      <th>total_emission_scope1</th>\n",
       "      <th>total_emission_scope2</th>\n",
       "      <th>gvkey</th>\n",
       "      <th>fyear</th>\n",
       "      <th>emission_growth_scope1</th>\n",
       "      <th>emission_growth_scope2</th>\n",
       "      <th>carbon_intensity_scope1</th>\n",
       "      <th>carbon_intensity_scope2</th>\n",
       "    </tr>\n",
       "  </thead>\n",
       "  <tbody>\n",
       "    <tr>\n",
       "      <th>count</th>\n",
       "      <td>15987.000000</td>\n",
       "      <td>15987.000000</td>\n",
       "      <td>15999.000000</td>\n",
       "      <td>15999.000000</td>\n",
       "      <td>13365.000000</td>\n",
       "      <td>13365.000000</td>\n",
       "      <td>15999.000000</td>\n",
       "      <td>15999.000000</td>\n",
       "    </tr>\n",
       "    <tr>\n",
       "      <th>mean</th>\n",
       "      <td>9.880214</td>\n",
       "      <td>10.095786</td>\n",
       "      <td>55747.186137</td>\n",
       "      <td>2016.570911</td>\n",
       "      <td>0.056679</td>\n",
       "      <td>0.068529</td>\n",
       "      <td>1.163097</td>\n",
       "      <td>0.303205</td>\n",
       "    </tr>\n",
       "    <tr>\n",
       "      <th>std</th>\n",
       "      <td>2.978628</td>\n",
       "      <td>2.464885</td>\n",
       "      <td>64393.751756</td>\n",
       "      <td>2.857792</td>\n",
       "      <td>0.295652</td>\n",
       "      <td>0.292209</td>\n",
       "      <td>3.586708</td>\n",
       "      <td>0.370308</td>\n",
       "    </tr>\n",
       "    <tr>\n",
       "      <th>min</th>\n",
       "      <td>-1.645065</td>\n",
       "      <td>-0.079043</td>\n",
       "      <td>1004.000000</td>\n",
       "      <td>2010.000000</td>\n",
       "      <td>-0.587399</td>\n",
       "      <td>-0.510633</td>\n",
       "      <td>0.003999</td>\n",
       "      <td>0.008185</td>\n",
       "    </tr>\n",
       "    <tr>\n",
       "      <th>25%</th>\n",
       "      <td>7.884177</td>\n",
       "      <td>8.627100</td>\n",
       "      <td>9815.000000</td>\n",
       "      <td>2015.000000</td>\n",
       "      <td>-0.070276</td>\n",
       "      <td>-0.074187</td>\n",
       "      <td>0.035725</td>\n",
       "      <td>0.073925</td>\n",
       "    </tr>\n",
       "    <tr>\n",
       "      <th>50%</th>\n",
       "      <td>9.816265</td>\n",
       "      <td>10.300611</td>\n",
       "      <td>24430.000000</td>\n",
       "      <td>2017.000000</td>\n",
       "      <td>0.023288</td>\n",
       "      <td>0.024767</td>\n",
       "      <td>0.130434</td>\n",
       "      <td>0.168343</td>\n",
       "    </tr>\n",
       "    <tr>\n",
       "      <th>75%</th>\n",
       "      <td>11.627291</td>\n",
       "      <td>11.748831</td>\n",
       "      <td>66731.000000</td>\n",
       "      <td>2019.000000</td>\n",
       "      <td>0.133633</td>\n",
       "      <td>0.155335</td>\n",
       "      <td>0.294071</td>\n",
       "      <td>0.403065</td>\n",
       "    </tr>\n",
       "    <tr>\n",
       "      <th>max</th>\n",
       "      <td>18.804073</td>\n",
       "      <td>16.920606</td>\n",
       "      <td>328795.000000</td>\n",
       "      <td>2020.000000</td>\n",
       "      <td>1.124937</td>\n",
       "      <td>1.138111</td>\n",
       "      <td>19.735829</td>\n",
       "      <td>1.780249</td>\n",
       "    </tr>\n",
       "  </tbody>\n",
       "</table>\n",
       "</div>"
      ],
      "text/plain": [
       "       total_emission_scope1  total_emission_scope2          gvkey  \\\n",
       "count           15987.000000           15987.000000   15999.000000   \n",
       "mean                9.880214              10.095786   55747.186137   \n",
       "std                 2.978628               2.464885   64393.751756   \n",
       "min                -1.645065              -0.079043    1004.000000   \n",
       "25%                 7.884177               8.627100    9815.000000   \n",
       "50%                 9.816265              10.300611   24430.000000   \n",
       "75%                11.627291              11.748831   66731.000000   \n",
       "max                18.804073              16.920606  328795.000000   \n",
       "\n",
       "              fyear  emission_growth_scope1  emission_growth_scope2  \\\n",
       "count  15999.000000            13365.000000            13365.000000   \n",
       "mean    2016.570911                0.056679                0.068529   \n",
       "std        2.857792                0.295652                0.292209   \n",
       "min     2010.000000               -0.587399               -0.510633   \n",
       "25%     2015.000000               -0.070276               -0.074187   \n",
       "50%     2017.000000                0.023288                0.024767   \n",
       "75%     2019.000000                0.133633                0.155335   \n",
       "max     2020.000000                1.124937                1.138111   \n",
       "\n",
       "       carbon_intensity_scope1  carbon_intensity_scope2  \n",
       "count             15999.000000             15999.000000  \n",
       "mean                  1.163097                 0.303205  \n",
       "std                   3.586708                 0.370308  \n",
       "min                   0.003999                 0.008185  \n",
       "25%                   0.035725                 0.073925  \n",
       "50%                   0.130434                 0.168343  \n",
       "75%                   0.294071                 0.403065  \n",
       "max                  19.735829                 1.780249  "
      ]
     },
     "execution_count": 320,
     "metadata": {},
     "output_type": "execute_result"
    }
   ],
   "source": [
    "emission_variables.describe()"
   ]
  },
  {
   "cell_type": "markdown",
   "metadata": {},
   "source": [
    "### **Paneml B: Cross-sectional return variables**"
   ]
  },
  {
   "cell_type": "code",
   "execution_count": 372,
   "metadata": {},
   "outputs": [],
   "source": [
    "# read data\n",
    "dataset_raw = pd.read_csv('dataset_raw.csv')\n",
    "dataset_sorted = dataset_raw.sort_values(['gvkey', 'fyear'])"
   ]
  },
  {
   "cell_type": "code",
   "execution_count": 322,
   "metadata": {},
   "outputs": [],
   "source": [
    "# store the computed variables using only dataset_raw in a new pd dataframe\n",
    "return_variables_raw = pd.DataFrame()\n",
    "return_variables_raw['gvkey'] = dataset_sorted['gvkey']\n",
    "return_variables_raw['fyear'] = dataset_sorted['fyear']"
   ]
  },
  {
   "cell_type": "markdown",
   "metadata": {},
   "source": [
    "#### LOGSIZE: natural logarithm of market capitalization (in $ million)"
   ]
  },
  {
   "cell_type": "code",
   "execution_count": 323,
   "metadata": {},
   "outputs": [
    {
     "name": "stdout",
     "output_type": "stream",
     "text": [
      "Mean LOGSIZE: 8.007593586954304\n",
      "Median LOGSIZE: 8.002279656850122\n",
      "Standard Deviation of LOGSIZE: 1.8085235360999352\n"
     ]
    }
   ],
   "source": [
    "# market capitalization = stock price * # of outstanding shares\n",
    "return_variables_raw['LOGSIZE'] = np.log(dataset_raw['csho']*dataset_raw['Price_Close'])\n",
    "\n",
    "mean_logsize = return_variables_raw['LOGSIZE'].mean()\n",
    "median_logsize = return_variables_raw['LOGSIZE'].median()\n",
    "std_logsize = return_variables_raw['LOGSIZE'].std()\n",
    "\n",
    "print(f\"Mean LOGSIZE: {mean_logsize}\")\n",
    "print(f\"Median LOGSIZE: {median_logsize}\")\n",
    "print(f\"Standard Deviation of LOGSIZE: {std_logsize}\")"
   ]
  },
  {
   "cell_type": "markdown",
   "metadata": {},
   "source": [
    "#### B/M (winsorized at 2.5%): book value of equity divided by market value of equity"
   ]
  },
  {
   "cell_type": "code",
   "execution_count": 324,
   "metadata": {},
   "outputs": [],
   "source": [
    "dataset_raw['Equity_Book_Value'] = dataset_raw['at']-dataset_raw['lt'] # compute book value\n",
    "dataset_raw['Equity_Market_Value'] = dataset_raw['csho']*dataset_raw['Price_Close'] # compute market value\n",
    "\n",
    "# compute B/M and winsorized at 2.5%\n",
    "return_variables_raw['B/M'] = winsorize(dataset_raw['Equity_Book_Value']/dataset_raw['Equity_Market_Value'], limits=[0.025, 0.025]) "
   ]
  },
  {
   "cell_type": "code",
   "execution_count": 325,
   "metadata": {},
   "outputs": [
    {
     "name": "stdout",
     "output_type": "stream",
     "text": [
      "Mean B/M: 0.5850595900650135\n",
      "Median B/M: 0.4447816521232229\n",
      "Standard Deviation of B/M: 0.5424168173950612\n"
     ]
    }
   ],
   "source": [
    "mean_bm = np.mean(return_variables_raw['B/M'])\n",
    "median_bm = np.median(return_variables_raw['B/M'])\n",
    "std_dev_bm = np.std(return_variables_raw['B/M'])\n",
    "\n",
    "print(f\"Mean B/M: {mean_bm}\")\n",
    "print(f\"Median B/M: {median_bm}\")\n",
    "print(f\"Standard Deviation of B/M: {std_dev_bm}\")"
   ]
  },
  {
   "cell_type": "markdown",
   "metadata": {},
   "source": [
    "#### LEVERAGE (winsorized at 2.5%): book value of leverage, i.e. book value of debt divided by the book value of assets"
   ]
  },
  {
   "cell_type": "code",
   "execution_count": 326,
   "metadata": {},
   "outputs": [],
   "source": [
    "dataset_raw['Debt_Book_Value'] = dataset_raw['dlc'] + dataset_raw['dltt']\n",
    "dataset_raw['Assets_Book_Value'] = dataset_raw['at']\n",
    "# no DPACT -- Depreciation, Depletion and Amortization (Accumulated) (DPACT) recorded in dataset_raw\n",
    "return_variables_raw['LEVERAGE'] = winsorize(dataset_raw['Debt_Book_Value']/dataset_raw['Assets_Book_Value'], limits=[0.025,0.025])"
   ]
  },
  {
   "cell_type": "code",
   "execution_count": 327,
   "metadata": {},
   "outputs": [
    {
     "name": "stdout",
     "output_type": "stream",
     "text": [
      "Mean LEVERAGE: 0.27797261602552453\n",
      "Median LEVERAGE: 0.2547043776419151\n",
      "Standard Deviation of LEVERAGE: 0.2137803433861781\n"
     ]
    }
   ],
   "source": [
    "mean_leverage = np.mean(return_variables_raw['LEVERAGE'])\n",
    "median_leverage = np.median(return_variables_raw['LEVERAGE'])\n",
    "std_dev_leverage = np.std(return_variables_raw['LEVERAGE'])\n",
    "\n",
    "print(f\"Mean LEVERAGE: {mean_leverage}\")\n",
    "print(f\"Median LEVERAGE: {median_leverage}\")\n",
    "print(f\"Standard Deviation of LEVERAGE: {std_dev_leverage}\")"
   ]
  },
  {
   "cell_type": "markdown",
   "metadata": {},
   "source": [
    "#### INVEST/A (winsorized at 2.5%): CAPEX divided by book value of assets"
   ]
  },
  {
   "cell_type": "code",
   "execution_count": 328,
   "metadata": {},
   "outputs": [],
   "source": [
    "return_variables_raw['INVEST/A'] = dataset_raw['capx']/dataset_raw['Assets_Book_Value']\n",
    "\n",
    "# winsorize\n",
    "return_variables_raw['INVEST/A'] = winsorize(return_variables_raw['INVEST/A'], limits=[0.025 ,0.025])"
   ]
  },
  {
   "cell_type": "code",
   "execution_count": 329,
   "metadata": {},
   "outputs": [
    {
     "name": "stdout",
     "output_type": "stream",
     "text": [
      "Mean INVEST/A: 0.0331340162202419\n",
      "Median INVEST/A: 0.021296996330072926\n",
      "Standard Deviation of INVEST/A: 0.0373185785949221\n"
     ]
    }
   ],
   "source": [
    "mean_investa = np.mean(return_variables_raw['INVEST/A'])\n",
    "median_investa = np.median(return_variables_raw['INVEST/A'])\n",
    "std_dev_investa = np.std(return_variables_raw['INVEST/A'])\n",
    "\n",
    "print(f\"Mean INVEST/A: {mean_investa}\")\n",
    "print(f\"Median INVEST/A: {median_investa}\")\n",
    "print(f\"Standard Deviation of INVEST/A: {std_dev_investa}\")"
   ]
  },
  {
   "cell_type": "markdown",
   "metadata": {},
   "source": [
    "#### ROE (winsorized at 2.5%, in%): return on equity, i.e. Net Income / Shareholder's Equity"
   ]
  },
  {
   "cell_type": "code",
   "execution_count": 330,
   "metadata": {},
   "outputs": [],
   "source": [
    "return_variables_raw['ROE'] = (dataset_raw['ni']/dataset_raw['seq'])*100\n",
    "\n",
    "# winsorize\n",
    "return_variables_raw['ROE'] = winsorize(return_variables_raw['ROE'], limits=[0.025,0.025])"
   ]
  },
  {
   "cell_type": "code",
   "execution_count": 331,
   "metadata": {},
   "outputs": [
    {
     "name": "stdout",
     "output_type": "stream",
     "text": [
      "Mean ROE: 6.7132544174558175\n",
      "Median ROE: 9.511803804721522\n",
      "Standard Deviation of ROE: 31.57610126599628\n"
     ]
    }
   ],
   "source": [
    "mean_roe = np.mean(return_variables_raw['ROE'])\n",
    "median_roe = np.median(return_variables_raw['ROE'])\n",
    "std_dev_roe = np.std(return_variables_raw['ROE'])\n",
    "\n",
    "print(f\"Mean ROE: {mean_roe}\")\n",
    "print(f\"Median ROE: {median_roe}\")\n",
    "print(f\"Standard Deviation of ROE: {std_dev_roe}\")"
   ]
  },
  {
   "cell_type": "markdown",
   "metadata": {},
   "source": [
    "#### <font color= gray>HHI: Herfindahl index of the business segments of a company with weights proportional to revenues\n",
    "\n",
    "1. Identify the Business Segments and Their Revenues\n",
    "\n",
    "2. Calculate the Market Share of Each Segment\n",
    "\n",
    "3. Square Each Segment's Market Share: For each business segment, square its market share. If you're using percentages, make sure to convert them into fractions first (e.g., 20% becomes 0.20). Squaring the market share amplifies the weight of larger segments.\n",
    "\n",
    "4. Sum the Squared Market Shares\n",
    "\n",
    "5. Interpret the HHI: The HHI can range from close to 0 to 10,000 (if using percentages, it ranges from 0 to 1). A lower HHI indicates a more diversified company with no single business segment dominating its revenue, while a higher HHI suggests a higher concentration in one or a few segments."
   ]
  },
  {
   "cell_type": "code",
   "execution_count": 332,
   "metadata": {},
   "outputs": [],
   "source": [
    "# revt: Total Revenue\n",
    "# no segemental revenue in datase_raw\n",
    "# lack of data to compute"
   ]
  },
  {
   "cell_type": "markdown",
   "metadata": {},
   "source": [
    "#### LOGPPE: natural logarithm of plant, property & equipment (in $ million)"
   ]
  },
  {
   "cell_type": "code",
   "execution_count": 333,
   "metadata": {},
   "outputs": [],
   "source": [
    "# avoid nan and 0\n",
    "ppegt_filtered = dataset_sorted['ppegt'].dropna()\n",
    "ppegt_filtered = ppegt_filtered[ppegt_filtered != 0]\n",
    "\n",
    "return_variables_raw['LOGPPE'] = np.log(ppegt_filtered)"
   ]
  },
  {
   "cell_type": "code",
   "execution_count": 334,
   "metadata": {},
   "outputs": [
    {
     "name": "stdout",
     "output_type": "stream",
     "text": [
      "Mean loppe: 6.747088411589938\n",
      "Median loppe: 6.825568554954745\n",
      "Standard Deviation of loppe: 2.2368158701703473\n"
     ]
    }
   ],
   "source": [
    "mean_loppe = np.mean(return_variables_raw['LOGPPE'])\n",
    "median_loppe = return_variables_raw['LOGPPE'].median()\n",
    "std_dev_loppe = np.std(return_variables_raw['LOGPPE'])\n",
    "\n",
    "print(f\"Mean loppe: {mean_loppe}\")\n",
    "print(f\"Median loppe: {median_loppe}\")\n",
    "print(f\"Standard Deviation of loppe: {std_dev_loppe}\")"
   ]
  },
  {
   "cell_type": "markdown",
   "metadata": {},
   "source": [
    "#### SALESGR (winsorized at 0.5%): sales growth rate; dollar change in annual firm revenues normalized by last month’s market capitalization;"
   ]
  },
  {
   "cell_type": "code",
   "execution_count": 335,
   "metadata": {},
   "outputs": [
    {
     "name": "stderr",
     "output_type": "stream",
     "text": [
      "C:\\Users\\18906\\AppData\\Local\\Temp\\ipykernel_13520\\477207372.py:15: DeprecationWarning: DataFrameGroupBy.apply operated on the grouping columns. This behavior is deprecated, and in a future version of pandas the grouping columns will be excluded from the operation. Either pass `include_groups=False` to exclude the groupings or explicitly select the grouping columns after groupby to silence this warning.\n",
      "  revenue_shifted = dataset_sorted.groupby('gvkey').apply(shift_revenue).reset_index(drop=True)\n"
     ]
    }
   ],
   "source": [
    "# Calculate the correct market capitalization\n",
    "dataset_raw['mkvalt'] = dataset_raw['csho'] * dataset_raw['Price_Close']\n",
    "\n",
    "# Drop rows with NaN values in 'revt' and 'mkvalt' columns\n",
    "dataset_clean = dataset_raw.dropna(subset=['revt', 'mkvalt'])\n",
    "\n",
    "# Sort by 'gvkey' and 'fyear' to ensure proper time series alignment\n",
    "dataset_sorted = dataset_clean.sort_values(['gvkey', 'fyear'])\n",
    "\n",
    "# Shift 'revt' values within each 'gvkey' group\n",
    "def shift_revenue(group):\n",
    "    group['revt_t-1'] = group['revt'].shift(1)\n",
    "    return group\n",
    "\n",
    "revenue_shifted = dataset_sorted.groupby('gvkey').apply(shift_revenue).reset_index(drop=True)\n",
    "\n",
    "# Calculate the dollar change in annual revenues\n",
    "revenue_shifted['REVT_change'] = revenue_shifted['revt'] - revenue_shifted['revt_t-1']\n",
    "\n",
    "# Shift 'mkvalt' values to get the market capitalization from the previous month\n",
    "dataset_sorted['mkvalt_t-1'] = dataset_sorted.groupby('gvkey')['mkvalt'].shift(1)\n",
    "\n",
    "# Merge revenue_shifted with dataset_sorted to align the market capitalizations\n",
    "merged_data_salesgr = pd.merge(revenue_shifted, dataset_sorted[['gvkey', 'fyear', 'mkvalt_t-1']], on=['gvkey', 'fyear'])\n",
    "\n",
    "# Normalize REVT_change by the previous month's market capitalization\n",
    "merged_data_salesgr['SALESGR'] = merged_data_salesgr['REVT_change'] / merged_data_salesgr['mkvalt_t-1']\n",
    "\n",
    "# Replace infinite values with NaN\n",
    "merged_data_salesgr['SALESGR'] = merged_data_salesgr['SALESGR'].replace([np.inf, -np.inf], np.nan)\n",
    "\n",
    "# Drop NaN values for winsorization\n",
    "SALESGR_cleaned = merged_data_salesgr['SALESGR'].dropna()\n",
    "\n",
    "# Winsorize the 'SALESGR' column, removing the top and bottom 0.5%\n",
    "SALESGR_winsorized = winsorize(SALESGR_cleaned, limits=[0.005, 0.005])\n",
    "\n",
    "# Update the non-NaN 'SALESGR' values with the winsorized values\n",
    "merged_data_salesgr.loc[SALESGR_cleaned.index, 'SALESGR'] = SALESGR_winsorized\n",
    "\n",
    "# Drop rows where 'SALESGR' is NaN\n",
    "cleaned_data_salesgr = merged_data_salesgr.dropna(subset=['SALESGR'])\n",
    "\n",
    "# Extract the required columns\n",
    "salesgr = cleaned_data_salesgr[['SALESGR', 'gvkey', 'fyear']]\n",
    "\n",
    "# Merge salesgr with return_variables_raw\n",
    "return_variables_raw = pd.merge(return_variables_raw, salesgr, on=['gvkey', 'fyear'], how='left')"
   ]
  },
  {
   "cell_type": "code",
   "execution_count": 336,
   "metadata": {},
   "outputs": [
    {
     "name": "stdout",
     "output_type": "stream",
     "text": [
      "Mean salesgr: 0.021343175236726464\n",
      "Median salesgr: 0.020862000586642178\n",
      "Standard Deviation of salesgr: 0.31204093140103867\n"
     ]
    }
   ],
   "source": [
    "mean_salesgr = np.mean(return_variables_raw['SALESGR'])\n",
    "median_salesgr = return_variables_raw['SALESGR'].median()\n",
    "std_dev_salesgr = np.std(return_variables_raw['SALESGR'])\n",
    "\n",
    "print(f\"Mean salesgr: {mean_salesgr}\")\n",
    "print(f\"Median salesgr: {median_salesgr}\")\n",
    "print(f\"Standard Deviation of salesgr: {std_dev_salesgr}\")"
   ]
  },
  {
   "cell_type": "code",
   "execution_count": 337,
   "metadata": {},
   "outputs": [],
   "source": [
    "return_variables_raw.to_csv('./return_variables_raw_s1.csv', index=True)"
   ]
  },
  {
   "cell_type": "code",
   "execution_count": 338,
   "metadata": {},
   "outputs": [
    {
     "data": {
      "text/html": [
       "<div>\n",
       "<style scoped>\n",
       "    .dataframe tbody tr th:only-of-type {\n",
       "        vertical-align: middle;\n",
       "    }\n",
       "\n",
       "    .dataframe tbody tr th {\n",
       "        vertical-align: top;\n",
       "    }\n",
       "\n",
       "    .dataframe thead th {\n",
       "        text-align: right;\n",
       "    }\n",
       "</style>\n",
       "<table border=\"1\" class=\"dataframe\">\n",
       "  <thead>\n",
       "    <tr style=\"text-align: right;\">\n",
       "      <th></th>\n",
       "      <th>gvkey</th>\n",
       "      <th>fyear</th>\n",
       "      <th>LOGSIZE</th>\n",
       "      <th>B/M</th>\n",
       "      <th>LEVERAGE</th>\n",
       "      <th>INVEST/A</th>\n",
       "      <th>ROE</th>\n",
       "      <th>LOGPPE</th>\n",
       "      <th>SALESGR</th>\n",
       "    </tr>\n",
       "  </thead>\n",
       "  <tbody>\n",
       "    <tr>\n",
       "      <th>count</th>\n",
       "      <td>11399.000000</td>\n",
       "      <td>11399.000000</td>\n",
       "      <td>11399.000000</td>\n",
       "      <td>11399.000000</td>\n",
       "      <td>11399.000000</td>\n",
       "      <td>11399.000000</td>\n",
       "      <td>11399.000000</td>\n",
       "      <td>11399.000000</td>\n",
       "      <td>11399.000000</td>\n",
       "    </tr>\n",
       "    <tr>\n",
       "      <th>mean</th>\n",
       "      <td>53924.081762</td>\n",
       "      <td>2016.822090</td>\n",
       "      <td>8.221267</td>\n",
       "      <td>0.589930</td>\n",
       "      <td>0.277220</td>\n",
       "      <td>0.038886</td>\n",
       "      <td>7.429493</td>\n",
       "      <td>6.976566</td>\n",
       "      <td>0.023127</td>\n",
       "    </tr>\n",
       "    <tr>\n",
       "      <th>std</th>\n",
       "      <td>64420.750701</td>\n",
       "      <td>2.699119</td>\n",
       "      <td>1.909072</td>\n",
       "      <td>0.547446</td>\n",
       "      <td>0.214631</td>\n",
       "      <td>0.037162</td>\n",
       "      <td>33.364842</td>\n",
       "      <td>2.184767</td>\n",
       "      <td>0.327308</td>\n",
       "    </tr>\n",
       "    <tr>\n",
       "      <th>min</th>\n",
       "      <td>1004.000000</td>\n",
       "      <td>2010.000000</td>\n",
       "      <td>-4.612195</td>\n",
       "      <td>-0.040954</td>\n",
       "      <td>0.000000</td>\n",
       "      <td>0.000000</td>\n",
       "      <td>-109.224422</td>\n",
       "      <td>-2.465104</td>\n",
       "      <td>-2.260408</td>\n",
       "    </tr>\n",
       "    <tr>\n",
       "      <th>25%</th>\n",
       "      <td>8151.000000</td>\n",
       "      <td>2015.000000</td>\n",
       "      <td>7.068393</td>\n",
       "      <td>0.228919</td>\n",
       "      <td>0.091842</td>\n",
       "      <td>0.013196</td>\n",
       "      <td>1.713317</td>\n",
       "      <td>5.600710</td>\n",
       "      <td>-0.011221</td>\n",
       "    </tr>\n",
       "    <tr>\n",
       "      <th>50%</th>\n",
       "      <td>22182.000000</td>\n",
       "      <td>2017.000000</td>\n",
       "      <td>8.255643</td>\n",
       "      <td>0.449925</td>\n",
       "      <td>0.252536</td>\n",
       "      <td>0.027083</td>\n",
       "      <td>10.708132</td>\n",
       "      <td>7.035269</td>\n",
       "      <td>0.022269</td>\n",
       "    </tr>\n",
       "    <tr>\n",
       "      <th>75%</th>\n",
       "      <td>66393.000000</td>\n",
       "      <td>2019.000000</td>\n",
       "      <td>9.437186</td>\n",
       "      <td>0.775888</td>\n",
       "      <td>0.411960</td>\n",
       "      <td>0.051824</td>\n",
       "      <td>19.534730</td>\n",
       "      <td>8.461259</td>\n",
       "      <td>0.081140</td>\n",
       "    </tr>\n",
       "    <tr>\n",
       "      <th>max</th>\n",
       "      <td>328795.000000</td>\n",
       "      <td>2020.000000</td>\n",
       "      <td>20.534197</td>\n",
       "      <td>2.663034</td>\n",
       "      <td>0.814584</td>\n",
       "      <td>0.163615</td>\n",
       "      <td>91.432361</td>\n",
       "      <td>13.144907</td>\n",
       "      <td>1.647431</td>\n",
       "    </tr>\n",
       "  </tbody>\n",
       "</table>\n",
       "</div>"
      ],
      "text/plain": [
       "               gvkey         fyear       LOGSIZE           B/M      LEVERAGE  \\\n",
       "count   11399.000000  11399.000000  11399.000000  11399.000000  11399.000000   \n",
       "mean    53924.081762   2016.822090      8.221267      0.589930      0.277220   \n",
       "std     64420.750701      2.699119      1.909072      0.547446      0.214631   \n",
       "min      1004.000000   2010.000000     -4.612195     -0.040954      0.000000   \n",
       "25%      8151.000000   2015.000000      7.068393      0.228919      0.091842   \n",
       "50%     22182.000000   2017.000000      8.255643      0.449925      0.252536   \n",
       "75%     66393.000000   2019.000000      9.437186      0.775888      0.411960   \n",
       "max    328795.000000   2020.000000     20.534197      2.663034      0.814584   \n",
       "\n",
       "           INVEST/A           ROE        LOGPPE       SALESGR  \n",
       "count  11399.000000  11399.000000  11399.000000  11399.000000  \n",
       "mean       0.038886      7.429493      6.976566      0.023127  \n",
       "std        0.037162     33.364842      2.184767      0.327308  \n",
       "min        0.000000   -109.224422     -2.465104     -2.260408  \n",
       "25%        0.013196      1.713317      5.600710     -0.011221  \n",
       "50%        0.027083     10.708132      7.035269      0.022269  \n",
       "75%        0.051824     19.534730      8.461259      0.081140  \n",
       "max        0.163615     91.432361     13.144907      1.647431  "
      ]
     },
     "execution_count": 338,
     "metadata": {},
     "output_type": "execute_result"
    }
   ],
   "source": [
    "return_variables_raw = return_variables_raw.dropna()\n",
    "return_variables_raw.describe()"
   ]
  },
  {
   "cell_type": "markdown",
   "metadata": {},
   "source": [
    "***"
   ]
  },
  {
   "cell_type": "code",
   "execution_count": 339,
   "metadata": {},
   "outputs": [],
   "source": [
    "# read data\n",
    "eps_marketLeverage = pd.read_csv('eps_marketLeverage.csv') "
   ]
  },
  {
   "cell_type": "code",
   "execution_count": 340,
   "metadata": {},
   "outputs": [],
   "source": [
    "# filter the data by gvkey\n",
    "companies_emission_data = dataset_raw['gvkey'].unique()\n",
    "dataset_sorted = dataset_raw.sort_values(['gvkey', 'fyear'])\n",
    "\n",
    "eps_marketLeverage_f = eps_marketLeverage[eps_marketLeverage['gvkey'].isin(companies_emission_data)]\n",
    "eps_marketLeverage_f = eps_marketLeverage_f.sort_values(by = ['gvkey', 'fyear'])"
   ]
  },
  {
   "cell_type": "markdown",
   "metadata": {},
   "source": [
    "#### EPSGR (winsorized at 0.5%): Earnings Per Share Growth Rate; dollar change in annual earnings per share, normalized by the firm’s equity price"
   ]
  },
  {
   "cell_type": "code",
   "execution_count": 341,
   "metadata": {},
   "outputs": [],
   "source": [
    "# store the computed variables using only dataset_raw in a new pd dataframe\n",
    "return_variables_eps = pd.DataFrame()\n",
    "return_variables_eps['gvkey'] = eps_marketLeverage['gvkey']\n",
    "return_variables_eps['fyear'] = eps_marketLeverage['fyear']"
   ]
  },
  {
   "cell_type": "code",
   "execution_count": 342,
   "metadata": {},
   "outputs": [],
   "source": [
    "return_variables_eps.to_csv('./return_variables_eps_s.csv', index=True)"
   ]
  },
  {
   "cell_type": "code",
   "execution_count": 343,
   "metadata": {},
   "outputs": [
    {
     "name": "stderr",
     "output_type": "stream",
     "text": [
      "C:\\Users\\18906\\AppData\\Local\\Temp\\ipykernel_13520\\3732974984.py:15: DeprecationWarning: DataFrameGroupBy.apply operated on the grouping columns. This behavior is deprecated, and in a future version of pandas the grouping columns will be excluded from the operation. Either pass `include_groups=False` to exclude the groupings or explicitly select the grouping columns after groupby to silence this warning.\n",
      "  eps_shifted = eps_marketLeverage_sorted.groupby('gvkey').apply(shift_if_consecutive).reset_index(drop=True)\n"
     ]
    }
   ],
   "source": [
    "###### Create a copy of eps_marketLeverage_f\n",
    "eps_marketLeverage_copy = eps_marketLeverage_f.copy()\n",
    "\n",
    "###### Drop rows with NaN values in the 'EPS' column\n",
    "eps_marketLeverage_copy = eps_marketLeverage_copy.dropna(subset=['EPS'])\n",
    "\n",
    "###### Sort by 'gvkey' and 'fyear' to ensure proper time series alignment\n",
    "eps_marketLeverage_sorted = eps_marketLeverage_copy.sort_values(['gvkey', 'fyear'])\n",
    "\n",
    "###### Shift EPS values within each 'gvkey' group\n",
    "def shift_if_consecutive(group):\n",
    "    group['EPS_t-1'] = group['EPS'].shift(1)\n",
    "    return group\n",
    "\n",
    "eps_shifted = eps_marketLeverage_sorted.groupby('gvkey').apply(shift_if_consecutive).reset_index(drop=True)\n",
    "\n",
    "###### Calculate the dollar change in annual earnings per share\n",
    "eps_shifted['EPS_change'] = eps_shifted['EPS'] - eps_shifted['EPS_t-1']\n",
    "\n",
    "\n",
    "\n",
    "###### Assuming dataset_sorted has a 'Price_Close' column with equity prices\n",
    "dataset_sorted = dataset_sorted.sort_values(['gvkey', 'fyear'])\n",
    "dataset_sorted['Price_Close_t-1'] = dataset_sorted.groupby('gvkey')['Price_Close'].shift(1)\n",
    "\n",
    "###### Merge eps_shifted with dataset_sorted to align the equity prices\n",
    "merged_data_eps = pd.merge(eps_shifted, dataset_sorted[['gvkey', 'fyear', 'Price_Close_t-1']], on=['gvkey', 'fyear'])\n",
    "\n",
    "###### Normalize EPS_change by the firm's equity price\n",
    "merged_data_eps['EPSGR'] = merged_data_eps['EPS_change'] / merged_data_eps['Price_Close_t-1']\n",
    "\n",
    "###### Replace infinite values with NaN\n",
    "merged_data_eps['EPSGR'] = merged_data_eps['EPSGR'].replace([np.inf, -np.inf], np.nan)\n",
    "\n",
    "###### Drop NaN values for winsorization\n",
    "EPSGR_cleaned = merged_data_eps['EPSGR'].dropna()\n",
    "\n",
    "###### Winsorize the 'EPSGR' column, removing the top and bottom 0.5%\n",
    "EPSGR_winsorized = winsorize(EPSGR_cleaned, limits=[0.005, 0.005])\n",
    "\n",
    "###### Update the non-NaN 'EPSGR' values with the winsorized values\n",
    "merged_data_eps.loc[EPSGR_cleaned.index, 'EPSGR'] = EPSGR_winsorized\n",
    "\n",
    "###### Drop rows where 'EPSGR' is NaN\n",
    "cleaned_data_eps = merged_data_eps.dropna(subset=['EPSGR'])\n",
    "\n",
    "\n",
    "\n",
    "return_variables_eps = cleaned_data_eps[['EPSGR', 'gvkey', 'fyear']]"
   ]
  },
  {
   "cell_type": "code",
   "execution_count": 344,
   "metadata": {},
   "outputs": [],
   "source": [
    "return_variables_eps.to_csv('./return_variables_eps_s1.csv', index=True)"
   ]
  },
  {
   "cell_type": "code",
   "execution_count": 345,
   "metadata": {},
   "outputs": [
    {
     "name": "stdout",
     "output_type": "stream",
     "text": [
      "Mean EPSGR: 0.005474900523590049\n",
      "Median EPSGR: 0.003826981258366801\n",
      "Standard Deviation of EPSGR: 0.22759708521046187\n"
     ]
    }
   ],
   "source": [
    "mean_epsgr = np.mean(return_variables_eps['EPSGR'])\n",
    "median_epsgr = return_variables_eps['EPSGR'].median()\n",
    "std_dev_epsgr = np.std(return_variables_eps['EPSGR'])\n",
    "\n",
    "print(f\"Mean EPSGR: {mean_epsgr}\")\n",
    "print(f\"Median EPSGR: {median_epsgr}\")\n",
    "print(f\"Standard Deviation of EPSGR: {std_dev_epsgr}\")"
   ]
  },
  {
   "cell_type": "markdown",
   "metadata": {},
   "source": [
    "***"
   ]
  },
  {
   "cell_type": "code",
   "execution_count": 346,
   "metadata": {},
   "outputs": [],
   "source": [
    "# read data\n",
    "weekly_equity_returns = pd.read_csv('weekly_equity_returns.csv')"
   ]
  },
  {
   "cell_type": "code",
   "execution_count": 347,
   "metadata": {},
   "outputs": [],
   "source": [
    "# filter the data by gvkey\n",
    "companies_emission_data = dataset_raw['gvkey'].unique()\n",
    "\n",
    "weekly_equity_returns_f = weekly_equity_returns[weekly_equity_returns['gvkey'].isin(companies_emission_data)]\n",
    "weekly_equity_returns_f = weekly_equity_returns_f.sort_values(by = ['gvkey', 'eow'])"
   ]
  },
  {
   "cell_type": "markdown",
   "metadata": {},
   "source": [
    "#### RET(%): monthly stock return"
   ]
  },
  {
   "cell_type": "code",
   "execution_count": 373,
   "metadata": {},
   "outputs": [],
   "source": [
    "return_variables_ret = pd.DataFrame()"
   ]
  },
  {
   "cell_type": "code",
   "execution_count": 374,
   "metadata": {},
   "outputs": [
    {
     "name": "stderr",
     "output_type": "stream",
     "text": [
      "C:\\Users\\18906\\AppData\\Local\\Temp\\ipykernel_13520\\1391781365.py:8: FutureWarning: 'M' is deprecated and will be removed in a future version, please use 'ME' instead.\n",
      "  monthly_data = weekly_equity_returns_f.groupby('gvkey').resample('M').last()\n",
      "C:\\Users\\18906\\AppData\\Local\\Temp\\ipykernel_13520\\1391781365.py:11: FutureWarning: 'M' is deprecated and will be removed in a future version, please use 'ME' instead.\n",
      "  monthly_prices = weekly_equity_returns_f.groupby(['gvkey', pd.Grouper(freq='M')])['Close_Price'].last()\n"
     ]
    }
   ],
   "source": [
    "weekly_equity_returns_f['eow'] = pd.to_datetime(weekly_equity_returns_f['eow'])\n",
    "weekly_equity_returns_f['eow_ret'] = pd.to_datetime(weekly_equity_returns_f['eow'])\n",
    "weekly_equity_returns_f['eow_mom'] = pd.to_datetime(weekly_equity_returns_f['eow']).copy()\n",
    "weekly_equity_returns_f['eow_volat'] = pd.to_datetime(weekly_equity_returns_f['eow']).copy()\n",
    "weekly_equity_returns_f.set_index('eow', inplace=True)\n",
    "\n",
    "# Reweekly_equity_returns to get the last entry of each month\n",
    "monthly_data = weekly_equity_returns_f.groupby('gvkey').resample('M').last()\n",
    "return_variables_ret = monthly_data[['gvkey']].copy\n",
    "\n",
    "monthly_prices = weekly_equity_returns_f.groupby(['gvkey', pd.Grouper(freq='M')])['Close_Price'].last()\n",
    "\n",
    "monthly_returns = monthly_prices.groupby(level=0).pct_change() * 100\n",
    "monthly_returns = monthly_returns.reset_index()\n",
    "\n",
    "# month column\n",
    "monthly_returns['month'] = monthly_returns['eow'].dt.to_period('M')\n",
    "\n",
    "# rename\n",
    "monthly_returns.rename(columns={'Close_Price': 'RET'}, inplace=True)\n",
    "monthly_returns.dropna(inplace=True)"
   ]
  },
  {
   "cell_type": "code",
   "execution_count": 350,
   "metadata": {},
   "outputs": [],
   "source": [
    "monthly_returns = monthly_returns[monthly_returns['RET'] <= 100]\n",
    "return_variables_ret = monthly_returns.copy()\n",
    "return_variables_ret = return_variables_ret.dropna(subset=['RET'])"
   ]
  },
  {
   "cell_type": "code",
   "execution_count": 351,
   "metadata": {},
   "outputs": [],
   "source": [
    "return_variables_ret.drop(columns=['eow'])\n",
    "\n",
    "# Split 'month' column into 'fyear' and 'month'\n",
    "return_variables_ret['month'] = return_variables_ret['month'].astype(str)\n",
    "return_variables_ret['fyear'] = return_variables_ret['month'].str[:4].astype(int)\n",
    "return_variables_ret['month'] = return_variables_ret['month'].str[5:].astype(int)\n",
    "\n",
    "# Rearrange columns to have 'gvkey', 'fyear', 'month', and 'RET'\n",
    "return_variables_ret = return_variables_ret[['gvkey', 'fyear', 'month', 'RET']]"
   ]
  },
  {
   "cell_type": "code",
   "execution_count": 352,
   "metadata": {},
   "outputs": [
    {
     "data": {
      "text/html": [
       "<div>\n",
       "<style scoped>\n",
       "    .dataframe tbody tr th:only-of-type {\n",
       "        vertical-align: middle;\n",
       "    }\n",
       "\n",
       "    .dataframe tbody tr th {\n",
       "        vertical-align: top;\n",
       "    }\n",
       "\n",
       "    .dataframe thead th {\n",
       "        text-align: right;\n",
       "    }\n",
       "</style>\n",
       "<table border=\"1\" class=\"dataframe\">\n",
       "  <thead>\n",
       "    <tr style=\"text-align: right;\">\n",
       "      <th></th>\n",
       "      <th>gvkey</th>\n",
       "      <th>fyear</th>\n",
       "      <th>month</th>\n",
       "      <th>RET</th>\n",
       "    </tr>\n",
       "  </thead>\n",
       "  <tbody>\n",
       "    <tr>\n",
       "      <th>count</th>\n",
       "      <td>339930.000000</td>\n",
       "      <td>339930.000000</td>\n",
       "      <td>339930.000000</td>\n",
       "      <td>339930.000000</td>\n",
       "    </tr>\n",
       "    <tr>\n",
       "      <th>mean</th>\n",
       "      <td>61166.521357</td>\n",
       "      <td>2016.546489</td>\n",
       "      <td>6.557141</td>\n",
       "      <td>1.007106</td>\n",
       "    </tr>\n",
       "    <tr>\n",
       "      <th>std</th>\n",
       "      <td>66146.159969</td>\n",
       "      <td>3.667320</td>\n",
       "      <td>3.438243</td>\n",
       "      <td>12.474702</td>\n",
       "    </tr>\n",
       "    <tr>\n",
       "      <th>min</th>\n",
       "      <td>1004.000000</td>\n",
       "      <td>2010.000000</td>\n",
       "      <td>1.000000</td>\n",
       "      <td>-99.989583</td>\n",
       "    </tr>\n",
       "    <tr>\n",
       "      <th>25%</th>\n",
       "      <td>11511.000000</td>\n",
       "      <td>2013.000000</td>\n",
       "      <td>4.000000</td>\n",
       "      <td>-5.134318</td>\n",
       "    </tr>\n",
       "    <tr>\n",
       "      <th>50%</th>\n",
       "      <td>27119.000000</td>\n",
       "      <td>2017.000000</td>\n",
       "      <td>7.000000</td>\n",
       "      <td>0.738663</td>\n",
       "    </tr>\n",
       "    <tr>\n",
       "      <th>75%</th>\n",
       "      <td>119574.000000</td>\n",
       "      <td>2020.000000</td>\n",
       "      <td>10.000000</td>\n",
       "      <td>6.606061</td>\n",
       "    </tr>\n",
       "    <tr>\n",
       "      <th>max</th>\n",
       "      <td>328795.000000</td>\n",
       "      <td>2022.000000</td>\n",
       "      <td>12.000000</td>\n",
       "      <td>100.000000</td>\n",
       "    </tr>\n",
       "  </tbody>\n",
       "</table>\n",
       "</div>"
      ],
      "text/plain": [
       "               gvkey          fyear          month            RET\n",
       "count  339930.000000  339930.000000  339930.000000  339930.000000\n",
       "mean    61166.521357    2016.546489       6.557141       1.007106\n",
       "std     66146.159969       3.667320       3.438243      12.474702\n",
       "min      1004.000000    2010.000000       1.000000     -99.989583\n",
       "25%     11511.000000    2013.000000       4.000000      -5.134318\n",
       "50%     27119.000000    2017.000000       7.000000       0.738663\n",
       "75%    119574.000000    2020.000000      10.000000       6.606061\n",
       "max    328795.000000    2022.000000      12.000000     100.000000"
      ]
     },
     "execution_count": 352,
     "metadata": {},
     "output_type": "execute_result"
    }
   ],
   "source": [
    "return_variables_ret.describe()"
   ]
  },
  {
   "cell_type": "code",
   "execution_count": 353,
   "metadata": {},
   "outputs": [],
   "source": [
    "return_variables_ret.to_csv('./return_variables_ret_s.csv', index=True)"
   ]
  },
  {
   "cell_type": "code",
   "execution_count": 354,
   "metadata": {},
   "outputs": [
    {
     "name": "stderr",
     "output_type": "stream",
     "text": [
      "C:\\Users\\18906\\AppData\\Local\\Temp\\ipykernel_13520\\3990806797.py:5: SettingWithCopyWarning: \n",
      "A value is trying to be set on a copy of a slice from a DataFrame.\n",
      "Try using .loc[row_indexer,col_indexer] = value instead\n",
      "\n",
      "See the caveats in the documentation: https://pandas.pydata.org/pandas-docs/stable/user_guide/indexing.html#returning-a-view-versus-a-copy\n",
      "  ret1['RET1'] = ret1['Total Return']\n"
     ]
    }
   ],
   "source": [
    "# alternative annual return\n",
    "total_return = pd.read_csv('total_returns.csv')\n",
    "\n",
    "ret1 = total_return[['Total Return', 'gvkey', 'fyear']]\n",
    "ret1['RET1'] = ret1['Total Return']\n",
    "ret1 = ret1.drop('Total Return', axis=1)"
   ]
  },
  {
   "cell_type": "code",
   "execution_count": 355,
   "metadata": {},
   "outputs": [],
   "source": [
    "ret1['RET1'] = winsorize(ret1['RET1'], limits=[0.025,0.025])"
   ]
  },
  {
   "cell_type": "code",
   "execution_count": 356,
   "metadata": {},
   "outputs": [
    {
     "name": "stderr",
     "output_type": "stream",
     "text": [
      "c:\\Users\\18906\\Python\\Lib\\site-packages\\numpy\\lib\\function_base.py:4823: UserWarning: Warning: 'partition' will ignore the 'mask' of the MaskedArray.\n",
      "  arr.partition(\n"
     ]
    },
    {
     "data": {
      "text/plain": [
       "count    27052.000000\n",
       "mean        15.892362\n",
       "std         39.831668\n",
       "min        -57.398563\n",
       "25%         -9.274308\n",
       "50%         11.931753\n",
       "75%         34.955763\n",
       "max        135.390428\n",
       "Name: RET1, dtype: float64"
      ]
     },
     "execution_count": 356,
     "metadata": {},
     "output_type": "execute_result"
    }
   ],
   "source": [
    "ret1['RET1'].describe()"
   ]
  },
  {
   "cell_type": "markdown",
   "metadata": {},
   "source": [
    "#### MOM (winsorized at 0.5%): cumulative stock return over the one-year period"
   ]
  },
  {
   "cell_type": "code",
   "execution_count": 357,
   "metadata": {},
   "outputs": [],
   "source": [
    "return_variables_mom = pd.DataFrame()"
   ]
  },
  {
   "cell_type": "code",
   "execution_count": 358,
   "metadata": {},
   "outputs": [
    {
     "name": "stderr",
     "output_type": "stream",
     "text": [
      "C:\\Users\\18906\\AppData\\Local\\Temp\\ipykernel_13520\\2808210754.py:24: SettingWithCopyWarning: \n",
      "A value is trying to be set on a copy of a slice from a DataFrame.\n",
      "Try using .loc[row_indexer,col_indexer] = value instead\n",
      "\n",
      "See the caveats in the documentation: https://pandas.pydata.org/pandas-docs/stable/user_guide/indexing.html#returning-a-view-versus-a-copy\n",
      "  return_variables_mom['MOM'] = winsorize(return_variables_mom['MOM'], limits=[0.005, 0.005])\n"
     ]
    }
   ],
   "source": [
    "# recall we already have 'eow_copy' in pd datetime, add months and years as columns\n",
    "# the former 'eow_copy' cannot be used as nan vals when computing ret were dropped\n",
    "weekly_equity_returns_f['week'] = pd.to_datetime(weekly_equity_returns_f['eow_mom'])\n",
    "weekly_equity_returns_f['month'] = weekly_equity_returns_f['week'].dt.month\n",
    "weekly_equity_returns_f['year'] = weekly_equity_returns_f['week'].dt.year\n",
    "\n",
    "# compute the weekly close price for every company \n",
    "weekly_prices = weekly_equity_returns_f.groupby(['gvkey', 'year', 'week'])['Close_Price'].last().reset_index()\n",
    "weekly_prices.sort_values(by=['gvkey', 'year', 'week'], inplace=True)\n",
    "\n",
    "# construct yearly window (12 months)\n",
    "weekly_prices['Close_Price_1year_ago'] = weekly_prices.groupby('gvkey')['Close_Price'].shift(52)\n",
    "\n",
    "# Ensure no NaN values in 'Close_Price'\n",
    "weekly_prices.dropna(subset=['Close_Price', 'Close_Price_1year_ago'], inplace=True)\n",
    "\n",
    "# compute MOM\n",
    "weekly_prices['MOM'] = weekly_prices['Close_Price'] / weekly_prices['Close_Price_1year_ago'] - 1\n",
    "\n",
    "# store the result in return_variables_mom\n",
    "return_variables_mom = weekly_prices[['gvkey', 'week', 'MOM']]\n",
    "\n",
    "# winsorize\n",
    "return_variables_mom['MOM'] = winsorize(return_variables_mom['MOM'], limits=[0.005, 0.005])"
   ]
  },
  {
   "cell_type": "code",
   "execution_count": 359,
   "metadata": {},
   "outputs": [
    {
     "name": "stderr",
     "output_type": "stream",
     "text": [
      "C:\\Users\\18906\\AppData\\Local\\Temp\\ipykernel_13520\\958719108.py:2: SettingWithCopyWarning: \n",
      "A value is trying to be set on a copy of a slice from a DataFrame.\n",
      "Try using .loc[row_indexer,col_indexer] = value instead\n",
      "\n",
      "See the caveats in the documentation: https://pandas.pydata.org/pandas-docs/stable/user_guide/indexing.html#returning-a-view-versus-a-copy\n",
      "  return_variables_mom['week'] = pd.to_datetime(return_variables_mom['week'])\n",
      "C:\\Users\\18906\\AppData\\Local\\Temp\\ipykernel_13520\\958719108.py:5: SettingWithCopyWarning: \n",
      "A value is trying to be set on a copy of a slice from a DataFrame.\n",
      "Try using .loc[row_indexer,col_indexer] = value instead\n",
      "\n",
      "See the caveats in the documentation: https://pandas.pydata.org/pandas-docs/stable/user_guide/indexing.html#returning-a-view-versus-a-copy\n",
      "  return_variables_mom['fyear'] = return_variables_mom['week'].dt.year\n",
      "C:\\Users\\18906\\AppData\\Local\\Temp\\ipykernel_13520\\958719108.py:6: SettingWithCopyWarning: \n",
      "A value is trying to be set on a copy of a slice from a DataFrame.\n",
      "Try using .loc[row_indexer,col_indexer] = value instead\n",
      "\n",
      "See the caveats in the documentation: https://pandas.pydata.org/pandas-docs/stable/user_guide/indexing.html#returning-a-view-versus-a-copy\n",
      "  return_variables_mom['month'] = return_variables_mom['week'].dt.month\n"
     ]
    }
   ],
   "source": [
    "# Ensure the 'week' column is in datetime format\n",
    "return_variables_mom['week'] = pd.to_datetime(return_variables_mom['week'])\n",
    "\n",
    "# Extract year and month from 'week'\n",
    "return_variables_mom['fyear'] = return_variables_mom['week'].dt.year\n",
    "return_variables_mom['month'] = return_variables_mom['week'].dt.month\n",
    "\n",
    "# Aggregate the 'MOM' values by 'gvkey', 'fyear', and 'month'\n",
    "return_variables_mom = return_variables_mom.groupby(['gvkey', 'fyear', 'month'])['MOM'].mean().reset_index()"
   ]
  },
  {
   "cell_type": "code",
   "execution_count": 360,
   "metadata": {},
   "outputs": [
    {
     "name": "stdout",
     "output_type": "stream",
     "text": [
      "Mean MOM: 0.14551378797374853\n",
      "Median MOM: 0.07941700004975033\n",
      "Standard Deviation of MOM: 0.5028003259501682\n"
     ]
    }
   ],
   "source": [
    "# compute mean, median, std\n",
    "mean_mom = return_variables_mom['MOM'].mean()\n",
    "median_mom = return_variables_mom['MOM'].median()\n",
    "std_dev_mom = return_variables_mom['MOM'].std()\n",
    "\n",
    "print(f\"Mean MOM: {mean_mom}\")\n",
    "print(f\"Median MOM: {median_mom}\")\n",
    "print(f\"Standard Deviation of MOM: {std_dev_mom}\")"
   ]
  },
  {
   "cell_type": "code",
   "execution_count": 361,
   "metadata": {},
   "outputs": [],
   "source": [
    "return_variables_mom.to_csv('./return_variables_mom_s.csv', index=True)"
   ]
  },
  {
   "cell_type": "markdown",
   "metadata": {},
   "source": [
    "#### Beta: CAMP beta calculated over the on year period"
   ]
  },
  {
   "cell_type": "code",
   "execution_count": 362,
   "metadata": {},
   "outputs": [],
   "source": [
    "betas = pd.read_csv('betas.csv')\n",
    "betas = betas.dropna()"
   ]
  },
  {
   "cell_type": "code",
   "execution_count": 363,
   "metadata": {},
   "outputs": [],
   "source": [
    "betas['BETA'] = winsorize(betas['beta'], limits=[0.005, 0.005])"
   ]
  },
  {
   "cell_type": "code",
   "execution_count": 364,
   "metadata": {},
   "outputs": [],
   "source": [
    "betas = betas.drop('beta', axis=1)\n",
    "betas = betas.drop('winsorized_beta', axis=1)\n",
    "\n",
    "# Ensure the 'eow' column is in datetime format\n",
    "betas['eow'] = pd.to_datetime(betas['eow'])\n",
    "\n",
    "# Extract year and month from 'eow'\n",
    "betas['fyear'] = betas['eow'].dt.year\n",
    "betas['month'] = betas['eow'].dt.month\n",
    "\n",
    "# Group by 'gvkey', 'fyear', and 'month' to calculate the average BETA\n",
    "betas = betas.groupby(['gvkey', 'fyear', 'month'])['BETA'].mean().reset_index()"
   ]
  },
  {
   "cell_type": "code",
   "execution_count": 365,
   "metadata": {},
   "outputs": [
    {
     "data": {
      "text/plain": [
       "count    318352.000000\n",
       "mean          1.112173\n",
       "std           0.718387\n",
       "min          -1.044560\n",
       "25%           0.669873\n",
       "50%           1.046832\n",
       "75%           1.474245\n",
       "max           4.147888\n",
       "Name: BETA, dtype: float64"
      ]
     },
     "execution_count": 365,
     "metadata": {},
     "output_type": "execute_result"
    }
   ],
   "source": [
    "betas['BETA'].describe()"
   ]
  },
  {
   "cell_type": "code",
   "execution_count": 366,
   "metadata": {},
   "outputs": [],
   "source": [
    "betas.to_csv('./betas_s.csv', index=True)"
   ]
  },
  {
   "cell_type": "markdown",
   "metadata": {},
   "source": [
    "#### VOLAT (winsorized at 0.5%): monthly stock return volatility calculated over the one year period"
   ]
  },
  {
   "cell_type": "code",
   "execution_count": 367,
   "metadata": {},
   "outputs": [],
   "source": [
    "return_variables_volat = pd.DataFrame()"
   ]
  },
  {
   "cell_type": "code",
   "execution_count": 368,
   "metadata": {},
   "outputs": [
    {
     "name": "stderr",
     "output_type": "stream",
     "text": [
      "C:\\Users\\18906\\AppData\\Local\\Temp\\ipykernel_13520\\1723486817.py:34: SettingWithCopyWarning: \n",
      "A value is trying to be set on a copy of a slice from a DataFrame\n",
      "\n",
      "See the caveats in the documentation: https://pandas.pydata.org/pandas-docs/stable/user_guide/indexing.html#returning-a-view-versus-a-copy\n",
      "  return_variables_volat.rename(columns={'year': 'fyear'}, inplace=True)\n"
     ]
    }
   ],
   "source": [
    "weekly_equity_returns_f['eow'] = pd.to_datetime(weekly_equity_returns_f['eow_volat'])\n",
    "\n",
    "###### Extract year and month from 'eow'\n",
    "weekly_equity_returns_f['year'] = weekly_equity_returns_f['eow'].dt.year\n",
    "weekly_equity_returns_f['month'] = weekly_equity_returns_f['eow'].dt.month\n",
    "\n",
    "###### Group by 'gvkey', 'year', and 'month' to get the monthly closing price\n",
    "monthly_prices = weekly_equity_returns_f.groupby(['gvkey', 'year', 'month'])['Close_Price'].last().reset_index()\n",
    "\n",
    "###### Shift 'Close_Price' within each 'gvkey' group to get the previous month's closing price\n",
    "monthly_prices['Close_Price_t-1'] = monthly_prices.groupby('gvkey')['Close_Price'].shift(1)\n",
    "\n",
    "###### Calculate the monthly return\n",
    "monthly_prices['RET'] = (monthly_prices['Close_Price'] - monthly_prices['Close_Price_t-1']) / monthly_prices['Close_Price_t-1']\n",
    "\n",
    "###### Filter out returns greater than 100%\n",
    "monthly_prices = monthly_prices[monthly_prices['RET'] <= 1.0]\n",
    "\n",
    "###### Drop rows with NaN values in 'RET'\n",
    "monthly_prices = monthly_prices.dropna(subset=['RET'])\n",
    "\n",
    "###### Calculate the rolling 12-month standard deviation of returns (volatility)\n",
    "monthly_prices['VOLAT'] = monthly_prices.groupby('gvkey')['RET'].rolling(window=12, min_periods=12).std().reset_index(level=0, drop=True)\n",
    "\n",
    "###### Drop rows with NaN values in 'VOLAT'\n",
    "monthly_prices = monthly_prices.dropna(subset=['VOLAT'])\n",
    "\n",
    "monthly_prices['VOLAT'] = winsorize(monthly_prices['VOLAT'], limits=[0.005,0.005])\n",
    "\n",
    "###### Create the return_variables_volat DataFrame with the required columns\n",
    "return_variables_volat = monthly_prices[['gvkey', 'year', 'month', 'VOLAT']]\n",
    "\n",
    "###### Rename 'year' to 'fyear' to match the desired output\n",
    "return_variables_volat.rename(columns={'year': 'fyear'}, inplace=True)"
   ]
  },
  {
   "cell_type": "code",
   "execution_count": 369,
   "metadata": {},
   "outputs": [
    {
     "data": {
      "text/html": [
       "<div>\n",
       "<style scoped>\n",
       "    .dataframe tbody tr th:only-of-type {\n",
       "        vertical-align: middle;\n",
       "    }\n",
       "\n",
       "    .dataframe tbody tr th {\n",
       "        vertical-align: top;\n",
       "    }\n",
       "\n",
       "    .dataframe thead th {\n",
       "        text-align: right;\n",
       "    }\n",
       "</style>\n",
       "<table border=\"1\" class=\"dataframe\">\n",
       "  <thead>\n",
       "    <tr style=\"text-align: right;\">\n",
       "      <th></th>\n",
       "      <th>gvkey</th>\n",
       "      <th>fyear</th>\n",
       "      <th>month</th>\n",
       "      <th>VOLAT</th>\n",
       "    </tr>\n",
       "  </thead>\n",
       "  <tbody>\n",
       "    <tr>\n",
       "      <th>count</th>\n",
       "      <td>311505.000000</td>\n",
       "      <td>311505.000000</td>\n",
       "      <td>311505.000000</td>\n",
       "      <td>311505.000000</td>\n",
       "    </tr>\n",
       "    <tr>\n",
       "      <th>mean</th>\n",
       "      <td>61284.341112</td>\n",
       "      <td>2016.966225</td>\n",
       "      <td>6.533622</td>\n",
       "      <td>0.106601</td>\n",
       "    </tr>\n",
       "    <tr>\n",
       "      <th>std</th>\n",
       "      <td>66250.276074</td>\n",
       "      <td>3.413744</td>\n",
       "      <td>3.451145</td>\n",
       "      <td>0.060118</td>\n",
       "    </tr>\n",
       "    <tr>\n",
       "      <th>min</th>\n",
       "      <td>1004.000000</td>\n",
       "      <td>2011.000000</td>\n",
       "      <td>1.000000</td>\n",
       "      <td>0.025872</td>\n",
       "    </tr>\n",
       "    <tr>\n",
       "      <th>25%</th>\n",
       "      <td>11343.000000</td>\n",
       "      <td>2014.000000</td>\n",
       "      <td>4.000000</td>\n",
       "      <td>0.064066</td>\n",
       "    </tr>\n",
       "    <tr>\n",
       "      <th>50%</th>\n",
       "      <td>26590.000000</td>\n",
       "      <td>2017.000000</td>\n",
       "      <td>7.000000</td>\n",
       "      <td>0.091142</td>\n",
       "    </tr>\n",
       "    <tr>\n",
       "      <th>75%</th>\n",
       "      <td>120093.000000</td>\n",
       "      <td>2020.000000</td>\n",
       "      <td>10.000000</td>\n",
       "      <td>0.132434</td>\n",
       "    </tr>\n",
       "    <tr>\n",
       "      <th>max</th>\n",
       "      <td>328795.000000</td>\n",
       "      <td>2022.000000</td>\n",
       "      <td>12.000000</td>\n",
       "      <td>0.356740</td>\n",
       "    </tr>\n",
       "  </tbody>\n",
       "</table>\n",
       "</div>"
      ],
      "text/plain": [
       "               gvkey          fyear          month          VOLAT\n",
       "count  311505.000000  311505.000000  311505.000000  311505.000000\n",
       "mean    61284.341112    2016.966225       6.533622       0.106601\n",
       "std     66250.276074       3.413744       3.451145       0.060118\n",
       "min      1004.000000    2011.000000       1.000000       0.025872\n",
       "25%     11343.000000    2014.000000       4.000000       0.064066\n",
       "50%     26590.000000    2017.000000       7.000000       0.091142\n",
       "75%    120093.000000    2020.000000      10.000000       0.132434\n",
       "max    328795.000000    2022.000000      12.000000       0.356740"
      ]
     },
     "execution_count": 369,
     "metadata": {},
     "output_type": "execute_result"
    }
   ],
   "source": [
    "return_variables_volat.describe()"
   ]
  },
  {
   "cell_type": "code",
   "execution_count": 370,
   "metadata": {},
   "outputs": [],
   "source": [
    "return_variables_volat.to_csv('./return_variables_volat_s1.csv', index=True)"
   ]
  },
  {
   "cell_type": "markdown",
   "metadata": {},
   "source": [
    "***\n",
    "### Cross-sectional Return Variables Summary Statistics"
   ]
  },
  {
   "cell_type": "code",
   "execution_count": 371,
   "metadata": {},
   "outputs": [
    {
     "name": "stdout",
     "output_type": "stream",
     "text": [
      "              mean     median  std. dev.\n",
      "RET(%)    1.007106   0.738663  12.474702\n",
      "MOM       0.145514   0.079417   0.502800\n",
      "Beta      1.112173   1.046832   0.718387\n",
      "VOLAT     0.106601   0.091142   0.060118\n",
      "LOGSIZE   8.221267   8.255643   1.909072\n",
      "B/M       0.589930   0.449925   0.547446\n",
      "LEVERAGE  0.277220   0.252536   0.214631\n",
      "INVEST/A  0.038886   0.027083   0.037162\n",
      "ROE       7.429493  10.708132  33.364842\n",
      "LOGPPE    6.976566   7.035269   2.184767\n",
      "SALESGR   0.023127   0.022269   0.327308\n",
      "EPSGR     0.005475   0.003827   0.227608\n"
     ]
    }
   ],
   "source": [
    "dataframes = {\n",
    "    'return_variables': {'RET(%)': return_variables_ret['RET']},\n",
    "    'return_variables_mom': {'MOM': return_variables_mom['MOM']},\n",
    "    'betas': {'Beta': betas['BETA']},\n",
    "    'return_variables_volat': {'VOLAT': return_variables_volat['VOLAT']},\n",
    "    'return_variables_raw': {'LOGSIZE': return_variables_raw['LOGSIZE'], 'B/M': return_variables_raw['B/M'], 'LEVERAGE': return_variables_raw['LEVERAGE'], 'INVEST/A': return_variables_raw['INVEST/A'], 'ROE': return_variables_raw['ROE'], 'LOGPPE': return_variables_raw['LOGPPE'], 'SALESGR': return_variables_raw['SALESGR']},\n",
    "    'return_variables_eps': {'EPSGR': return_variables_eps['EPSGR']}\n",
    "}\n",
    "\n",
    "summary_stats = pd.DataFrame(index=['mean', 'median', 'std. dev.'])\n",
    "\n",
    "\n",
    "for df_name, variables in dataframes.items():\n",
    "    for var_name, var_data in variables.items():\n",
    "        summary_stats[var_name] = [var_data.mean(), var_data.median(), var_data.std()]\n",
    "\n",
    "summary_stats = summary_stats.T\n",
    "\n",
    "print(summary_stats)"
   ]
  },
  {
   "cell_type": "code",
   "execution_count": null,
   "metadata": {},
   "outputs": [],
   "source": []
  },
  {
   "cell_type": "code",
   "execution_count": null,
   "metadata": {},
   "outputs": [],
   "source": []
  },
  {
   "cell_type": "code",
   "execution_count": null,
   "metadata": {},
   "outputs": [],
   "source": []
  }
 ],
 "metadata": {
  "kernelspec": {
   "display_name": "Python 3",
   "language": "python",
   "name": "python3"
  },
  "language_info": {
   "codemirror_mode": {
    "name": "ipython",
    "version": 3
   },
   "file_extension": ".py",
   "mimetype": "text/x-python",
   "name": "python",
   "nbconvert_exporter": "python",
   "pygments_lexer": "ipython3",
   "version": "3.11.5"
  }
 },
 "nbformat": 4,
 "nbformat_minor": 2
}
